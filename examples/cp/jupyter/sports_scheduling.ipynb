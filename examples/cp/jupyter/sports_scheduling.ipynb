{
 "cells": [
  {
   "cell_type": "markdown",
   "metadata": {
    "render": true
   },
   "source": [
    "# Use decision optimization to help a sports league schedule its games\n",
    "\n",
    "This tutorial includes everything you need to set up decision optimization engines, build mathematical programming models, and arrive at a good working schedule for a sports league's games.\n",
    "\n",
    "\n",
    "When you finish this tutorial, you'll have a foundational knowledge of _Prescriptive Analytics_.\n",
    "\n",
    ">This notebook is part of **[Prescriptive Analytics for Python](http://ibmdecisionoptimization.github.io/docplex-doc/)**\n",
    ">\n",
    ">It requires either an [installation of CPLEX Optimizers](http://ibmdecisionoptimization.github.io/docplex-doc/getting_started.html) or it can be run on [IBM Cloud Pak for Data as a Service](https://www.ibm.com/products/cloud-pak-for-data/as-a-service/) (Sign up for a [free IBM Cloud account](https://dataplatform.cloud.ibm.com/registration/stepone?context=wdp&apps=all>)\n",
    "and you can start using `IBM Cloud Pak for Data as a Service` right away).\n",
    ">\n",
    "> CPLEX is available on <i>IBM Cloud Pack for Data</i> and <i>IBM Cloud Pak for Data as a Service</i>:\n",
    ">    - <i>IBM Cloud Pak for Data as a Service</i>: Depends on the runtime used:\n",
    ">         - <i>Python 3.x</i> runtime: Community edition\n",
    ">         - <i>Python 3.x + DO</i> runtime: full edition\n",
    ">    - <i>Cloud Pack for Data</i>: Community edition is installed by default. Please install `DO` addon in `Watson Studio Premium` for the full edition\n",
    "\n",
    "Table of contents:\n",
    "\n",
    "-  [Describe the business problem](#Describe-the-business-problem:--Games-Scheduling-in-the-National-Football-League)\n",
    "*  [How decision optimization (prescriptive analytics) can help](#How--decision-optimization-can-help)\n",
    "*  [Use decision optimization](#Use-decision-optimization)\n",
    "    *  [Step 1: Download the library](#Step-1:-Download-the-library)\n",
    "    *  [Step 2: Model the Data](#Step-2:-Model-the-data)\n",
    "    *  [Step 3: Prepare the data](#Step-3:-Prepare-the-data)\n",
    "    *  [Step 4: Set up the prescriptive model](#Step-4:-Set-up-the-prescriptive-model)\n",
    "        * [Define the decision variables](#Define-the-decision-variables)\n",
    "        * [Express the business constraints](#Express-the-business-constraints)\n",
    "        * [Express the objective](#Express-the-objective)\n",
    "        * [Solve with Decision Optimization solve service](#Solve-with-Decision-Optimization-solve-service)\n",
    "    *  [Step 5: Investigate the solution and run an example analysis](#Step-5:-Investigate-the-solution-and-then-run-an-example-analysis)\n",
    "*  [Summary](#Summary)\n",
    "****"
   ]
  },
  {
   "cell_type": "markdown",
   "metadata": {
    "render": true
   },
   "source": [
    "## Describe the business problem:  Games Scheduling in the National Football League \n",
    "\n",
    "\n",
    "* A sports league with two divisions must schedule games so that each team plays every team within its division a given number of times,  and each team plays teams in the other division a given number of times.\n",
    "* A team plays exactly one game each week. \n",
    "* A pair of teams cannot play each other on consecutive weeks.\n",
    "* While a third of a team's intradivisional games must be played in the first half of the season, the preference is for intradivisional games to be held as late as possible in the season.\n",
    "    * To model this preference, there is an incentive for intradivisional games that increases each week as a square of the week. \n",
    "    * An opponent must be assigned to each team each week to maximize the total of the incentives..\n",
    " \n",
    "\n",
    " \n",
    "This is a type of discrete optimization problem that can be solved by using either **Integer Programming** (IP) or **Constraint Programming** (CP). \n",
    "\n",
    ">  **Integer Programming** is the class of problems defined as the optimization of a linear function, subject to linear constraints over integer variables. \n",
    "\n",
    ">  **Constraint Programming** problems generally have discrete decision variables, but the constraints can be logical, and the arithmetic expressions are not restricted to being linear. \n",
    "\n",
    "For the purposes of this tutorial, we will illustrate a solution with constraint programming (CP).  \n"
   ]
  },
  {
   "cell_type": "markdown",
   "metadata": {
    "render": true
   },
   "source": [
    "## How  decision optimization can help\n",
    "\n",
    "* Prescriptive analytics (decision optimization) technology recommends actions that are based on desired outcomes.  It takes into account specific scenarios, resources, and knowledge of past and current events. With this insight, your organization can make better decisions and have greater control of business outcomes.  \n",
    "\n",
    "* Prescriptive analytics is the next step on the path to insight-based actions. It creates value through synergy with predictive analytics, which analyzes data to predict future outcomes.  \n",
    "\n",
    "* Prescriptive analytics takes that insight to the next level by suggesting the optimal way to handle that future situation. Organizations that can act fast in dynamic conditions and make superior decisions in uncertain environments gain a strong competitive advantage.  \n",
    "<br/>\n",
    "\n",
    "<u>With prescriptive analytics, you can:</u> \n",
    "\n",
    "* Automate the complex decisions and trade-offs to better manage your limited resources.\n",
    "* Take advantage of a future opportunity or mitigate a future risk.\n",
    "* Proactively update recommendations based on changing events.\n",
    "* Meet operational goals, increase customer loyalty, prevent threats and fraud, and optimize business processes.\n",
    "\n"
   ]
  },
  {
   "cell_type": "markdown",
   "metadata": {},
   "source": [
    "## Use decision optimization"
   ]
  },
  {
   "cell_type": "markdown",
   "metadata": {},
   "source": [
    "### Step 1: Download the library\n",
    "\n",
    "Run the following code to install Decision Optimization CPLEX Modeling library.  The *DOcplex* library contains the two modeling packages, Mathematical Programming and Constraint Programming, referred to earlier."
   ]
  },
  {
   "cell_type": "code",
   "execution_count": null,
   "metadata": {},
   "outputs": [],
   "source": [
    "import sys\n",
    "try:\n",
    "    import docplex.cp\n",
    "except:\n",
    "    if hasattr(sys, 'real_prefix'):\n",
    "        #we are in a virtual env.\n",
    "        !pip install docplex\n",
    "    else:\n",
    "        !pip install --user docplex"
   ]
  },
  {
   "cell_type": "markdown",
   "metadata": {
    "render": true
   },
   "source": [
    "### Step 2: Model the data\n",
    "In this scenario, the data is simple. There are eight teams in each division, and the teams must play each team in the division once and each team outside the division once.\n",
    "\n",
    "Use a Python module, *Collections*, which implements some data structures that will help solve some problems.  *Named tuples* helps to define meaning of each position in a tuple.  This helps the code be more readable and self-documenting. You can use named tuples in any place where you use tuples. \n",
    "\n",
    "In this example, you create a *namedtuple* to contain information for points.  You are also defining some of the parameters."
   ]
  },
  {
   "cell_type": "code",
   "execution_count": null,
   "metadata": {
    "collapsed": true
   },
   "outputs": [],
   "source": [
    "# Teams in 1st division\n",
    "TEAM_DIV1 = [\"Baltimore Ravens\",\"Cincinnati Bengals\", \"Cleveland Browns\",\"Pittsburgh Steelers\",\"Houston Texans\",\n",
    "                \"Indianapolis Colts\",\"Jacksonville Jaguars\",\"Tennessee Titans\",\"Buffalo Bills\",\"Miami Dolphins\",\n",
    "                \"New England Patriots\",\"New York Jets\",\"Denver Broncos\",\"Kansas City Chiefs\",\"Oakland Raiders\",\n",
    "                \"San Diego Chargers\"]\n",
    "\n",
    "# Teams in 2nd division\n",
    "TEAM_DIV2 = [\"Chicago Bears\",\"Detroit Lions\",\"Green Bay Packers\",\"Minnesota Vikings\",\"Atlanta Falcons\",\n",
    "                \"Carolina Panthers\",\"New Orleans Saints\",\"Tampa Bay Buccaneers\",\"Dallas Cowboys\",\"New York Giants\",\n",
    "                \"Philadelphia Eagles\",\"Washington Redskins\",\"Arizona Cardinals\",\"San Francisco 49ers\",\n",
    "                \"Seattle Seahawks\",\"St. Louis Rams\"]"
   ]
  },
  {
   "cell_type": "code",
   "execution_count": null,
   "metadata": {
    "collapsed": true
   },
   "outputs": [],
   "source": [
    "from collections import namedtuple\n",
    "NUMBER_OF_MATCHES_TO_PLAY = 2  # Number of match to play between two teams on the league\n",
    "\n",
    "T_SCHEDULE_PARAMS = (namedtuple(\"TScheduleParams\",\n",
    "                                [\"nbTeamsInDivision\",\n",
    "                                 \"maxTeamsInDivision\",\n",
    "                                 \"numberOfMatchesToPlayInsideDivision\",\n",
    "                                 \"numberOfMatchesToPlayOutsideDivision\"\n",
    "                                 ]))\n",
    "# Schedule parameters: depending on their values, you may overreach the Community Edition of CPLEX\n",
    "SCHEDULE_PARAMS = T_SCHEDULE_PARAMS(5,   # nbTeamsInDivision\n",
    "                                    10,  # maxTeamsInDivision\n",
    "                                    NUMBER_OF_MATCHES_TO_PLAY,  # numberOfMatchesToPlayInsideDivision\n",
    "                                    NUMBER_OF_MATCHES_TO_PLAY   # numberOfMatchesToPlayOutsideDivision\n",
    "                                    )"
   ]
  },
  {
   "cell_type": "markdown",
   "metadata": {},
   "source": [
    "Use basic HTML and a stylesheet to format the data."
   ]
  },
  {
   "cell_type": "code",
   "execution_count": null,
   "metadata": {},
   "outputs": [],
   "source": [
    "CSS = \"\"\"\n",
    "body {\n",
    "    margin: 0;\n",
    "    font-family: Helvetica;\n",
    "}\n",
    "table.dataframe {\n",
    "    border-collapse: collapse;\n",
    "    border: none;\n",
    "}\n",
    "table.dataframe tr {\n",
    "    border: none;\n",
    "}\n",
    "table.dataframe td, table.dataframe th {\n",
    "    margin: 0;\n",
    "    border: 1px solid white;\n",
    "    padding-left: 0.25em;\n",
    "    padding-right: 0.25em;\n",
    "}\n",
    "table.dataframe th:not(:empty) {\n",
    "    background-color: #fec;\n",
    "    text-align: left;\n",
    "    font-weight: normal;\n",
    "}\n",
    "table.dataframe tr:nth-child(2) th:empty {\n",
    "    border-left: none;\n",
    "    border-right: 1px dashed #888;\n",
    "}\n",
    "table.dataframe td {\n",
    "    border: 2px solid #ccf;\n",
    "    background-color: #f4f4ff;\n",
    "}\n",
    "    table.dataframe thead th:first-child {\n",
    "        display: none;\n",
    "    }\n",
    "    table.dataframe tbody th {\n",
    "        display: none;\n",
    "    }\n",
    "\"\"\"\n",
    "\n",
    "from IPython.core.display import HTML\n",
    "HTML('<style>{}</style>'.format(CSS))"
   ]
  },
  {
   "cell_type": "markdown",
   "metadata": {},
   "source": [
    "Now you will import the *pandas* library. Pandas is an open source Python library for data analysis. It uses two data structures, *Series* and *DataFrame*, which are built on top of *NumPy*.\n",
    "\n",
    "A **Series** is a one-dimensional object similar to an array, list, or column in a table. It will assign a labeled index to each item in the series. By default, each item receives an index label from 0 to N, where N is the length of the series minus one.\n",
    "\n",
    "A **DataFrame** is a tabular data structure comprised of rows and columns, similar to a spreadsheet, database table, or R's data.frame object. Think of a DataFrame as a group of Series objects that share an index (the column names).\n",
    "\n",
    "In the example, each division (the AFC and the NFC) is part of a DataFrame."
   ]
  },
  {
   "cell_type": "code",
   "execution_count": null,
   "metadata": {},
   "outputs": [],
   "source": [
    "import pandas as pd\n",
    "\n",
    "team1 = pd.DataFrame(TEAM_DIV1)\n",
    "team2 = pd.DataFrame(TEAM_DIV2)\n",
    "team1.columns = [\"AFC\"]\n",
    "team2.columns = [\"NFC\"]\n",
    "\n",
    "teams = pd.concat([team1,team2], axis=1)"
   ]
  },
  {
   "cell_type": "markdown",
   "metadata": {},
   "source": [
    "The following *display* function is a tool to show different representations of objects. When you issue the  *display(teams)* command, you are sending the output to the notebook so that the result is stored in the document."
   ]
  },
  {
   "cell_type": "code",
   "execution_count": null,
   "metadata": {},
   "outputs": [],
   "source": [
    "from IPython.display import display\n",
    "\n",
    "display(teams)"
   ]
  },
  {
   "cell_type": "markdown",
   "metadata": {
    "render": true
   },
   "source": [
    "### Step 3: Prepare the data\n",
    "\n",
    "Given the number of teams in each division and the number of intradivisional and interdivisional games to be played, you can calculate the total number of teams and the number of weeks in the schedule, assuming every team plays exactly one game per week. \n",
    "\n",
    "\n",
    "The season is split into halves, and the number of the intradivisional games that each team must play in the first half of the season is calculated."
   ]
  },
  {
   "cell_type": "code",
   "execution_count": null,
   "metadata": {},
   "outputs": [],
   "source": [
    "import numpy as np\n",
    "NB_TEAMS = 2 * SCHEDULE_PARAMS.nbTeamsInDivision\n",
    "TEAMS = range(NB_TEAMS)\n",
    "\n",
    "# Calculate the number of weeks necessary\n",
    "NB_WEEKS = (SCHEDULE_PARAMS.nbTeamsInDivision - 1) * SCHEDULE_PARAMS.numberOfMatchesToPlayInsideDivision \\\n",
    "            + SCHEDULE_PARAMS.nbTeamsInDivision * SCHEDULE_PARAMS.numberOfMatchesToPlayOutsideDivision\n",
    "\n",
    "\n",
    "# Weeks to schedule\n",
    "WEEKS = tuple(range(NB_WEEKS))\n",
    "\n",
    "# Season is split into two halves\n",
    "FIRST_HALF_WEEKS = tuple(range(NB_WEEKS // 2))\n",
    "NB_FIRST_HALS_WEEKS = NB_WEEKS // 3\n"
   ]
  },
  {
   "cell_type": "markdown",
   "metadata": {
    "render": true
   },
   "source": [
    "### Step 4: Set up the prescriptive model\n",
    "\n",
    "#### Define the decision variables\n",
    "You can model a solution to the problem by assigning an opponent to each team for each week. \n",
    "\n",
    "Therefore, the main decision variables in this model are indexed on the **teams** and **weeks** and take a value in *1..nbTeams*. \n",
    "\n",
    "The value at the solution of the decision variable ( __plays[t][w]__ ) indicates that *team t* plays in *week w*."
   ]
  },
  {
   "cell_type": "code",
   "execution_count": null,
   "metadata": {},
   "outputs": [],
   "source": [
    "from docplex.cp.model import *\n",
    "\n",
    "mdl = CpoModel(name=\"SportsScheduling\")\n",
    "\n",
    "# Variables of the model\n",
    "plays = {}\n",
    "for i in range(NUMBER_OF_MATCHES_TO_PLAY):\n",
    "    for t1 in TEAMS:\n",
    "        for t2 in TEAMS:\n",
    "            if t1 != t2:\n",
    "                plays[(t1, t2, i)] = integer_var(1, NB_WEEKS, name=\"team1_{}_team2_{}_match_{}\".format(t1, t2, i))"
   ]
  },
  {
   "cell_type": "markdown",
   "metadata": {
    "render": true
   },
   "source": [
    "#### Express the business constraints\n",
    "\n",
    "* For each week and each team, there is a constraint that the team cannot play itself. Also, the variables must be constrained to be symmetric. \n",
    "\n",
    "> If *team t* plays *team t2* in *week w*, then *team t2* must play *team t* in *week w*. \n",
    "\n",
    "In constraint programming, you can use a decision variable to index an array by using an element expression."
   ]
  },
  {
   "cell_type": "code",
   "execution_count": null,
   "metadata": {
    "collapsed": true
   },
   "outputs": [],
   "source": [
    "# Constraints of the model\n",
    "for t1 in TEAMS:\n",
    "    for t2 in TEAMS:\n",
    "        if t2 != t1:\n",
    "            for i in range(NUMBER_OF_MATCHES_TO_PLAY):\n",
    "                mdl.add(plays[(t1, t2, i)] == plays[(t2, t1, i)])  ### symmetrical match t1->t2 = t2->t1 at the ieme match"
   ]
  },
  {
   "cell_type": "markdown",
   "metadata": {
    "render": true
   },
   "source": [
    "* Each week, every team must be assigned to at most one game. To model this, you use the specialized *alldifferent* constraint. \n",
    "\n",
    ">  for a given *week w*, the values of __play[t][w]__ must be unique for all *teams t*."
   ]
  },
  {
   "cell_type": "code",
   "execution_count": null,
   "metadata": {
    "collapsed": true
   },
   "outputs": [],
   "source": [
    "for t1 in TEAMS:\n",
    "    mdl.add(all_diff([plays[(t1, t2, i)] for t2 in TEAMS if t2 != t1 for i in\n",
    "                      range(NUMBER_OF_MATCHES_TO_PLAY)]))  ### team t1 must play one match per week"
   ]
  },
  {
   "cell_type": "markdown",
   "metadata": {
    "render": true
   },
   "source": [
    "* One set of constraints is used to ensure that the solution satisfies the number of intradivisional and interdivisional games that each team must play. \n",
    "    * A pair of teams cannot play each other on consecutive weeks.\n",
    "    * Each team must play at least a certain number of intradivisional games, *nbFirstHalfGames*, in the first half of the season. "
   ]
  },
  {
   "cell_type": "code",
   "execution_count": null,
   "metadata": {},
   "outputs": [],
   "source": [
    "# Function that returns 1 if the two teams are in same division, 0 if not\n",
    "def intra_divisional_pair(t1, t2):\n",
    "    return int((t1 <= SCHEDULE_PARAMS.nbTeamsInDivision and t2 <= SCHEDULE_PARAMS.nbTeamsInDivision) or\n",
    "               (t1 > SCHEDULE_PARAMS.nbTeamsInDivision and t2 > SCHEDULE_PARAMS.nbTeamsInDivision))\n",
    "\n",
    "# Some intradivisional games should be in the first half\n",
    "mdl.add(sum([intra_divisional_pair(t1, t2) * allowed_assignments(plays[(t1, t2, i)], FIRST_HALF_WEEKS) \n",
    "             for t1 in TEAMS for t2 in [a for a in TEAMS if a != t1] \n",
    "             for i in range(NUMBER_OF_MATCHES_TO_PLAY)]) >= NB_FIRST_HALS_WEEKS)"
   ]
  },
  {
   "cell_type": "markdown",
   "metadata": {
    "render": true
   },
   "source": [
    "#### Express the objective\n",
    "The objective function for this example is designed to force intradivisional games to occur as late in the season as possible. The incentive for intradivisional games increases by week. There is no incentive for interdivisional games. \n",
    "\n",
    "Use an indicator matrix, *intraDivisionalPair*, to specify whether a pair of teams is in the same division or not. For each pair which is intradivisional, the incentive, or gain, is a power function of the week.\n",
    "\n",
    "These cost functions are used to create an expression that models the overall cost. The cost here is halved as the incentive for each game gets counted twice."
   ]
  },
  {
   "cell_type": "code",
   "execution_count": null,
   "metadata": {
    "collapsed": true
   },
   "outputs": [],
   "source": [
    "# Objective of the model is to schedule intradivisional games to be played late in the schedule\n",
    "sm = []\n",
    "for t1 in TEAMS:\n",
    "    for t2 in TEAMS:\n",
    "        if t1 != t2:\n",
    "            if not intra_divisional_pair(t1, t2):\n",
    "                for i in range(NUMBER_OF_MATCHES_TO_PLAY):\n",
    "                    sm.append(plays[(t1, t2, i)])\n",
    "mdl.add(maximize(sum(sm)))"
   ]
  },
  {
   "cell_type": "markdown",
   "metadata": {
    "render": true
   },
   "source": [
    "#### Solve the model\n",
    "\n",
    "If you're using a Community Edition of CPLEX runtimes, depending on the size of the problem, the solve stage may fail and will need a paying subscription or product installation.\n",
    "\n",
    "You will get the best solution found after ***n*** seconds, thanks to the *TimeLimit* parameter."
   ]
  },
  {
   "cell_type": "code",
   "execution_count": null,
   "metadata": {},
   "outputs": [],
   "source": [
    "n = 25\n",
    "msol = mdl.solve(TimeLimit=n)"
   ]
  },
  {
   "cell_type": "markdown",
   "metadata": {
    "render": true
   },
   "source": [
    "### Step 5: Investigate the solution and then run an example analysis"
   ]
  },
  {
   "cell_type": "code",
   "execution_count": null,
   "metadata": {},
   "outputs": [],
   "source": [
    "if msol:\n",
    "    abb = [list()  for i in range(NB_WEEKS)]\n",
    "    for t1 in TEAMS:\n",
    "        for t2 in TEAMS:\n",
    "            if t1 != t2:\n",
    "                for i in range(NUMBER_OF_MATCHES_TO_PLAY):\n",
    "                    x = abb[msol.get_value(plays[(t1, t2, i)])-1]\n",
    "                    x.append((TEAM_DIV1[t1], TEAM_DIV2[t2], \"Home\" if i == 1 else \"Back\", intra_divisional_pair(t1, t2)))\n",
    "                \n",
    "    matches = [(week, t1, t2, where, intra) for week in range(NB_WEEKS) for (t1, t2, where, intra) in abb[week]]\n",
    "    matches_bd = pd.DataFrame(matches)\n",
    "    \n",
    "    nfl_finals = [(\"2014\", \"Patriots\", \"Seahawks\"),(\"2013\", \"Seahawks\", \"Broncos\"),\n",
    "                  (\"2012\", \"Ravens\", \"Patriots\"),(\"2011\", \"Giants\", \"Patriots \"),\n",
    "                  (\"2010\", \"Packers\", \"Steelers\"),(\"2009\", \"Saints\", \"Colts\"),\n",
    "                  (\"2008\", \"Steelers\", \"Cardinals\"),(\"2007\", \"Giants\", \"Patriots\"),\n",
    "                  (\"2006\", \"Colts\", \"Bears\"),(\"2005\", \"Steelers\", \"Seahawks\"),\n",
    "                  (\"2004\", \"Patriots\", \"Eagles\")]\n",
    "                \n",
    "    winners_bd = pd.DataFrame(nfl_finals)\n",
    "    winners_bd.columns = [\"year\", \"team1\", \"team2\"]\n",
    "    \n",
    "    display(winners_bd)\n",
    "else:\n",
    "    print(\"No solution found\")"
   ]
  },
  {
   "cell_type": "markdown",
   "metadata": {
    "render": true
   },
   "source": [
    "#### Run an example analysis\n",
    "\n",
    "> Determine when the last 10 final replay games will occur:"
   ]
  },
  {
   "cell_type": "code",
   "execution_count": null,
   "metadata": {},
   "outputs": [],
   "source": [
    "if msol:\n",
    "    months = [\"January\", \"February\", \"March\", \"April\", \"May\", \"June\", \n",
    "              \"July\", \"August\", \"September\", \"October\", \"November\", \"December\"]\n",
    "    report = []\n",
    "    for t in nfl_finals:\n",
    "        for m in matches:\n",
    "            if t[1] in m[1] and t[2] in m[2]:\n",
    "                report.append((m[0], months[m[0]//4], m[1], m[2], m[3]))\n",
    "            if t[2] in m[1] and t[1] in m[2]: \n",
    "                report.append((m[0], months[m[0]//4], m[1], m[2], m[3]))\n",
    "\n",
    "    matches_bd = pd.DataFrame(report)\n",
    "    matches_bd.columns = [\"week\", \"Month\", \"Team1\", \"Team2\", \"location\"]\n",
    "    try: #pandas >= 0.17\n",
    "        display(matches_bd[matches_bd['location'] != \"Home\"].sort_values(by='week').drop(labels=['week', 'location'], axis=1))\n",
    "    except:\n",
    "        display(matches_bd[matches_bd['location'] != \"Home\"].sort('week').drop(labels=['week', 'location'], axis=1))"
   ]
  },
  {
   "cell_type": "markdown",
   "metadata": {},
   "source": [
    "## Summary\n",
    "\n",
    "\n",
    "You learned how to set up and use the IBM Decision Optimization CPLEX Modeling for Python to formulate and solve a Constraint Programming model."
   ]
  },
  {
   "cell_type": "markdown",
   "metadata": {
    "render": true
   },
   "source": [
    "#### References\n",
    "* [Decision Optimization CPLEX Modeling for Python documentation](https://rawgit.com/IBMDecisionOptimization/docplex-doc/master/docs/index.html)\n",
    "* [IBM Decision Optimization](https://www.ibm.com/analytics/decision-optimization)\n",
    "* Need help with DOcplex or to report a bug? Please go [here](https://stackoverflow.com/questions/tagged/docplex)\n",
    "* Contact us at `IBM Community <https://ibm.biz/DOcommunity>`__\"\n"
   ]
  },
  {
   "cell_type": "markdown",
   "metadata": {},
   "source": [
    "Copyright © 2017, 2018 IBM. IPLA licensed Sample Materials."
   ]
  }
 ],
 "metadata": {
  "gist_id": "6011986",
  "kernelspec": {
   "display_name": "Python 3",
   "language": "python",
   "name": "python3"
  },
  "language_info": {
   "codemirror_mode": {
    "name": "ipython",
    "version": 3
   },
   "file_extension": ".py",
   "mimetype": "text/x-python",
   "name": "python",
   "nbconvert_exporter": "python",
   "pygments_lexer": "ipython3",
   "version": "3.7.8"
  }
 },
 "nbformat": 4,
 "nbformat_minor": 1
}
