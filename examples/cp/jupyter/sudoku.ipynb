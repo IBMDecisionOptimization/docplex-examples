{
 "cells": [
  {
   "cell_type": "markdown",
   "metadata": {},
   "source": [
    "# Sudoku\n",
    "\n",
    "This tutorial includes everything you need to set up decision optimization engines, build constraint programming models.\n",
    "\n",
    "\n",
    "When you finish this tutorial, you'll have a foundational knowledge of _Prescriptive Analytics_.\n",
    "\n",
    ">This notebook is part of **[Prescriptive Analytics for Python](http://ibmdecisionoptimization.github.io/docplex-doc/)**\n",
    ">\n",
    ">It requires either an [installation of CPLEX Optimizers](http://ibmdecisionoptimization.github.io/docplex-doc/getting_started.html) or it can be run on [IBM Cloud Pak for Data as a Service](https://www.ibm.com/products/cloud-pak-for-data/as-a-service/) (Sign up for a [free IBM Cloud account](https://dataplatform.cloud.ibm.com/registration/stepone?context=wdp&apps=all>)\n",
    "and you can start using `IBM Cloud Pak for Data as a Service` right away).\n",
    ">\n",
    "> CPLEX is available on <i>IBM Cloud Pack for Data</i> and <i>IBM Cloud Pak for Data as a Service</i>:\n",
    ">    - <i>IBM Cloud Pak for Data as a Service</i>: Depends on the runtime used:\n",
    ">         - <i>Python 3.x</i> runtime: Community edition\n",
    ">         - <i>Python 3.x + DO</i> runtime: full edition\n",
    ">    - <i>Cloud Pack for Data</i>: Community edition is installed by default. Please install `DO` addon in `Watson Studio Premium` for the full edition\n",
    "\n",
    "Table of contents:\n",
    "\n",
    "-  [Describe the business problem](#Describe-the-business-problem)\n",
    "*  [How decision optimization (prescriptive analytics) can help](#How--decision-optimization-can-help)\n",
    "*  [Use decision optimization](#Use-decision-optimization)\n",
    "    *  [Step 1: Download the library](#Step-1:-Download-the-library)\n",
    "    *  [Step 2: Model the Data](#Step-2:-Model-the-data)\n",
    "    *  [Step 3: Set up the prescriptive model](#Step-3:-Set-up-the-prescriptive-model)\n",
    "        * [Define the decision variables](#Define-the-decision-variables)\n",
    "        * [Express the business constraints](#Express-the-business-constraints)\n",
    "        * [Express the objective](#Express-the-objective)\n",
    "        * [Solve with Decision Optimization solve service](#Solve-with-Decision-Optimization-solve-service)\n",
    "    *  [Step 4: Investigate the solution and run an example analysis](#Step-4:-Investigate-the-solution-and-then-run-an-example-analysis)\n",
    "*  [Summary](#Summary)\n",
    "****"
   ]
  },
  {
   "cell_type": "markdown",
   "metadata": {},
   "source": [
    "### Describe the business problem\n",
    "\n",
    "* Sudoku is a logic-based, combinatorial number-placement puzzle.\n",
    "* The objective is to fill a 9x9 grid with digits so that each column, each row,\n",
    "and each of the nine 3x3 sub-grids that compose the grid contains all of the digits from 1 to 9.\n",
    "* The puzzle setter provides a partially completed grid, which for a well-posed puzzle has a unique solution."
   ]
  },
  {
   "cell_type": "markdown",
   "metadata": {},
   "source": [
    "#### References\n",
    "* See https://en.wikipedia.org/wiki/Sudoku for details"
   ]
  },
  {
   "cell_type": "markdown",
   "metadata": {},
   "source": [
    "*****\n",
    "## How  decision optimization can help\n",
    "* Prescriptive analytics technology recommends actions based on desired outcomes, taking into account specific scenarios, resources, and knowledge of past and current events. This insight can help your organization make better decisions and have greater control of business outcomes.  \n",
    "\n",
    "* Prescriptive analytics is the next step on the path to insight-based actions. It creates value through synergy with predictive analytics, which analyzes data to predict future outcomes.  \n",
    "\n",
    "* Prescriptive analytics takes that insight to the next level by suggesting the optimal way to handle that future situation. Organizations that can act fast in dynamic conditions and make superior decisions in uncertain environments gain a strong competitive advantage.  \n",
    "<br/>\n",
    "\n",
    "+ For example:\n",
    "    + Automate complex decisions and trade-offs to better manage limited resources.\n",
    "    + Take advantage of a future opportunity or mitigate a future risk.\n",
    "    + Proactively update recommendations based on changing events.\n",
    "    + Meet operational goals, increase customer loyalty, prevent threats and fraud, and optimize business processes.\n"
   ]
  },
  {
   "cell_type": "markdown",
   "metadata": {},
   "source": [
    "## Use decision optimization"
   ]
  },
  {
   "cell_type": "markdown",
   "metadata": {},
   "source": [
    "### Step 1: Download the library\n",
    "\n",
    "Run the following code to install Decision Optimization CPLEX Modeling library.  The *DOcplex* library contains the two modeling packages, Mathematical Programming and Constraint Programming, referred to earlier."
   ]
  },
  {
   "cell_type": "code",
   "execution_count": null,
   "metadata": {
    "collapsed": true
   },
   "outputs": [],
   "source": [
    "import sys\n",
    "try:\n",
    "    import docplex.cp\n",
    "except:\n",
    "    if hasattr(sys, 'real_prefix'):\n",
    "        #we are in a virtual env.\n",
    "        !pip install docplex\n",
    "    else:\n",
    "        !pip install --user docplex"
   ]
  },
  {
   "cell_type": "markdown",
   "metadata": {},
   "source": [
    "Note that the more global package <i>docplex</i> contains another subpackage <i>docplex.mp</i> that is dedicated to Mathematical Programming, another branch of optimization."
   ]
  },
  {
   "cell_type": "code",
   "execution_count": null,
   "metadata": {
    "collapsed": true
   },
   "outputs": [],
   "source": [
    "from docplex.cp.model import *\n",
    "from sys import stdout"
   ]
  },
  {
   "cell_type": "markdown",
   "metadata": {},
   "source": [
    "### Step 2: Model the data"
   ]
  },
  {
   "cell_type": "markdown",
   "metadata": {},
   "source": [
    "#### Grid range"
   ]
  },
  {
   "cell_type": "code",
   "execution_count": null,
   "metadata": {
    "collapsed": true
   },
   "outputs": [],
   "source": [
    "GRNG = range(9)"
   ]
  },
  {
   "cell_type": "markdown",
   "metadata": {},
   "source": [
    "#### Different problems"
   ]
  },
  {
   "cell_type": "markdown",
   "metadata": {},
   "source": [
    "_zero means cell to be filled with appropriate value_"
   ]
  },
  {
   "cell_type": "code",
   "execution_count": null,
   "metadata": {
    "collapsed": true
   },
   "outputs": [],
   "source": [
    "SUDOKU_PROBLEM_1 = ( (0, 0, 0,  0, 9, 0,  1, 0, 0),\n",
    "                     (2, 8, 0,  0, 0, 5,  0, 0, 0),\n",
    "                     (7, 0, 0,  0, 0, 6,  4, 0, 0),\n",
    "                     (8, 0, 5,  0, 0, 3,  0, 0, 6),\n",
    "                     (0, 0, 1,  0, 0, 4,  0, 0, 0),\n",
    "                     (0, 7, 0,  2, 0, 0,  0, 0, 0),\n",
    "                     (3, 0, 0,  0, 0, 1,  0, 8, 0),\n",
    "                     (0, 0, 0,  0, 0, 0,  0, 5, 0),\n",
    "                     (0, 9, 0,  0, 0, 0,  0, 7, 0),\n",
    "                   )\n",
    "\n",
    "SUDOKU_PROBLEM_2 = ( (0, 7, 0,  0, 0, 0,  0, 4, 9),\n",
    "                     (0, 0, 0,  4, 0, 0,  0, 0, 0),\n",
    "                     (4, 0, 3,  5, 0, 7,  0, 0, 8),\n",
    "                     (0, 0, 7,  2, 5, 0,  4, 0, 0),\n",
    "                     (0, 0, 0,  0, 0, 0,  8, 0, 0),\n",
    "                     (0, 0, 4,  0, 3, 0,  5, 9, 2),\n",
    "                     (6, 1, 8,  0, 0, 0,  0, 0, 5),\n",
    "                     (0, 9, 0,  1, 0, 0,  0, 3, 0),\n",
    "                     (0, 0, 5,  0, 0, 0,  0, 0, 7),\n",
    "                   )\n",
    "\n",
    "SUDOKU_PROBLEM_3 = ( (0, 0, 0,  0, 0, 6,  0, 0, 0),\n",
    "                     (0, 5, 9,  0, 0, 0,  0, 0, 8),\n",
    "                     (2, 0, 0,  0, 0, 8,  0, 0, 0),\n",
    "                     (0, 4, 5,  0, 0, 0,  0, 0, 0),\n",
    "                     (0, 0, 3,  0, 0, 0,  0, 0, 0),\n",
    "                     (0, 0, 6,  0, 0, 3,  0, 5, 4),\n",
    "                     (0, 0, 0,  3, 2, 5,  0, 0, 6),\n",
    "                     (0, 0, 0,  0, 0, 0,  0, 0, 0),\n",
    "                     (0, 0, 0,  0, 0, 0,  0, 0, 0)\n",
    "                    )"
   ]
  },
  {
   "cell_type": "code",
   "execution_count": null,
   "metadata": {
    "collapsed": true
   },
   "outputs": [],
   "source": [
    "try:\n",
    "    import numpy as np\n",
    "    import matplotlib.pyplot as plt\n",
    "    VISU_ENABLED = True\n",
    "except ImportError:\n",
    "    VISU_ENABLED = False"
   ]
  },
  {
   "cell_type": "code",
   "execution_count": null,
   "metadata": {
    "collapsed": true
   },
   "outputs": [],
   "source": [
    "def print_grid(grid):\n",
    "    \"\"\" Print Sudoku grid \"\"\"\n",
    "    for l in GRNG:\n",
    "        if (l > 0) and (l % 3 == 0):\n",
    "           stdout.write('\\n')\n",
    "        for c in GRNG:\n",
    "            v = grid[l][c]\n",
    "            stdout.write('   ' if (c % 3 == 0) else ' ')\n",
    "            stdout.write(str(v) if v > 0 else '.')\n",
    "        stdout.write('\\n')"
   ]
  },
  {
   "cell_type": "code",
   "execution_count": null,
   "metadata": {
    "collapsed": true
   },
   "outputs": [],
   "source": [
    "def draw_grid(values):\n",
    "    %matplotlib inline\n",
    "    fig, ax = plt.subplots(figsize =(4,4))\n",
    "    min_val, max_val = 0, 9\n",
    "    R =  range(0,9)\n",
    "    for l in R:\n",
    "        for c in R:\n",
    "            v = values[c][l]\n",
    "            s = \" \"\n",
    "            if v > 0:\n",
    "                s = str(v)\n",
    "            ax.text(l+0.5,8.5-c, s, va='center', ha='center')\n",
    "        ax.set_xlim(min_val, max_val)\n",
    "    ax.set_ylim(min_val, max_val)\n",
    "    ax.set_xticks(np.arange(max_val))\n",
    "    ax.set_yticks(np.arange(max_val))\n",
    "    ax.grid()\n",
    "    plt.show()"
   ]
  },
  {
   "cell_type": "code",
   "execution_count": null,
   "metadata": {
    "collapsed": true
   },
   "outputs": [],
   "source": [
    "def display_grid(grid, name):\n",
    "    stdout.write(name)\n",
    "    stdout.write(\":\\n\")\n",
    "    if VISU_ENABLED:\n",
    "        draw_grid(grid)\n",
    "    else:\n",
    "        print_grid(grid)"
   ]
  },
  {
   "cell_type": "code",
   "execution_count": null,
   "metadata": {},
   "outputs": [],
   "source": [
    "display_grid(SUDOKU_PROBLEM_1, \"PROBLEM 1\")\n",
    "display_grid(SUDOKU_PROBLEM_2, \"PROBLEM 2\")\n",
    "display_grid(SUDOKU_PROBLEM_3, \"PROBLEM 3\")"
   ]
  },
  {
   "cell_type": "markdown",
   "metadata": {},
   "source": [
    "#### Choose your preferred problem (SUDOKU_PROBLEM_1 or SUDOKU_PROBLEM_2 or SUDOKU_PROBLEM_3)\n",
    "If you change the problem, ensure to re-run all cells below this one."
   ]
  },
  {
   "cell_type": "code",
   "execution_count": null,
   "metadata": {
    "collapsed": true
   },
   "outputs": [],
   "source": [
    "problem = SUDOKU_PROBLEM_3"
   ]
  },
  {
   "cell_type": "markdown",
   "metadata": {},
   "source": [
    "### Step 3: Set up the prescriptive model"
   ]
  },
  {
   "cell_type": "code",
   "execution_count": null,
   "metadata": {
    "collapsed": true
   },
   "outputs": [],
   "source": [
    "mdl = CpoModel(name=\"Sudoku\")"
   ]
  },
  {
   "cell_type": "markdown",
   "metadata": {},
   "source": [
    "#### Define the decision variables"
   ]
  },
  {
   "cell_type": "code",
   "execution_count": null,
   "metadata": {
    "collapsed": true
   },
   "outputs": [],
   "source": [
    "grid = [[integer_var(min=1, max=9, name=\"C\" + str(l) + str(c)) for l in GRNG] for c in GRNG]"
   ]
  },
  {
   "cell_type": "markdown",
   "metadata": {},
   "source": [
    "#### Express the business constraints"
   ]
  },
  {
   "cell_type": "markdown",
   "metadata": {},
   "source": [
    "Add alldiff constraints for lines"
   ]
  },
  {
   "cell_type": "code",
   "execution_count": null,
   "metadata": {
    "collapsed": true
   },
   "outputs": [],
   "source": [
    "for l in GRNG:\n",
    "    mdl.add(all_diff([grid[l][c] for c in GRNG]))"
   ]
  },
  {
   "cell_type": "markdown",
   "metadata": {},
   "source": [
    "Add alldiff constraints for columns"
   ]
  },
  {
   "cell_type": "code",
   "execution_count": null,
   "metadata": {
    "collapsed": true
   },
   "outputs": [],
   "source": [
    "for c in GRNG:\n",
    "    mdl.add(all_diff([grid[l][c] for l in GRNG]))"
   ]
  },
  {
   "cell_type": "markdown",
   "metadata": {},
   "source": [
    "Add alldiff constraints for sub-squares"
   ]
  },
  {
   "cell_type": "code",
   "execution_count": null,
   "metadata": {
    "collapsed": true
   },
   "outputs": [],
   "source": [
    "ssrng = range(0, 9, 3)\n",
    "for sl in ssrng:\n",
    "    for sc in ssrng:\n",
    "        mdl.add(all_diff([grid[l][c] for l in range(sl, sl + 3) for c in range(sc, sc + 3)]))"
   ]
  },
  {
   "cell_type": "markdown",
   "metadata": {},
   "source": [
    "Initialize known cells"
   ]
  },
  {
   "cell_type": "code",
   "execution_count": null,
   "metadata": {
    "collapsed": true
   },
   "outputs": [],
   "source": [
    "for l in GRNG:\n",
    "    for c in GRNG:\n",
    "        v = problem[l][c]\n",
    "        if v > 0:\n",
    "            grid[l][c].set_domain((v, v))"
   ]
  },
  {
   "cell_type": "markdown",
   "metadata": {},
   "source": [
    "#### Solve with Decision Optimization solve service"
   ]
  },
  {
   "cell_type": "code",
   "execution_count": null,
   "metadata": {},
   "outputs": [],
   "source": [
    "print(\"\\nSolving model....\")\n",
    "msol = mdl.solve(TimeLimit=10)"
   ]
  },
  {
   "cell_type": "markdown",
   "metadata": {},
   "source": [
    "### Step 4: Investigate the solution and then run an example analysis"
   ]
  },
  {
   "cell_type": "code",
   "execution_count": null,
   "metadata": {},
   "outputs": [],
   "source": [
    "display_grid(problem, \"Initial problem\")\n",
    "if msol:\n",
    "    sol = [[msol[grid[l][c]] for c in GRNG] for l in GRNG]\n",
    "    stdout.write(\"Solve time: \" + str(msol.get_solve_time()) + \"\\n\")\n",
    "    display_grid(sol, \"Solution\")\n",
    "else:\n",
    "    stdout.write(\"No solution found\\n\")"
   ]
  },
  {
   "cell_type": "markdown",
   "metadata": {},
   "source": [
    "## Summary\n",
    "\n",
    "You learned how to set up and use the IBM Decision Optimization CPLEX Modeling for Python to formulate and solve a Constraint Programming model."
   ]
  },
  {
   "cell_type": "markdown",
   "metadata": {},
   "source": [
    "#### References\n",
    "* [CPLEX Modeling for Python documentation](https://rawgit.com/IBMDecisionOptimization/docplex-doc/master/docs/index.html)\n",
    "* [IBM Decision Optimization](https://www.ibm.com/analytics/decision-optimization)\n",
    "* Need help with DOcplex or to report a bug? Please go [here](https://stackoverflow.com/questions/tagged/docplex)\n",
    "* Contact us at `IBM Community <https://ibm.biz/DOcommunity>`__"
   ]
  },
  {
   "cell_type": "markdown",
   "metadata": {},
   "source": [
    "Copyright © 2017, 2022 IBM. IPLA licensed Sample Materials."
   ]
  },
  {
   "cell_type": "code",
   "execution_count": null,
   "metadata": {},
   "outputs": [],
   "source": []
  }
 ],
 "metadata": {
  "kernelspec": {
   "display_name": "Python 3",
   "language": "python",
   "name": "python3"
  },
  "language_info": {
   "codemirror_mode": {
    "name": "ipython",
    "version": 3
   },
   "file_extension": ".py",
   "mimetype": "text/x-python",
   "name": "python",
   "nbconvert_exporter": "python",
   "pygments_lexer": "ipython3",
   "version": "3.7.8"
  }
 },
 "nbformat": 4,
 "nbformat_minor": 1
}
