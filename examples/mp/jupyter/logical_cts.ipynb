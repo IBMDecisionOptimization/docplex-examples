{
 "cells": [
  {
   "cell_type": "markdown",
   "metadata": {
    "render": true
   },
   "source": [
    "# Use logical constraints with decision optimization\n",
    "\n",
    "This tutorial includes everything you need to set up decision optimization engines, build a mathematical programming model, leveraging logical constraints.\n",
    "\n",
    "\n",
    "When you finish this tutorial, you'll have a foundational knowledge of _Prescriptive Analytics_.\n",
    "\n",
    ">This notebook is part of **[Prescriptive Analytics for Python](http://ibmdecisionoptimization.github.io/docplex-doc/)**\n",
    ">\n",
    ">It requires either an [installation of CPLEX Optimizers](http://ibmdecisionoptimization.github.io/docplex-doc/getting_started.html) or it can be run on [IBM Cloud Pak for Data as a Service](https://www.ibm.com/products/cloud-pak-for-data/as-a-service/) (Sign up for a [free IBM Cloud account](https://dataplatform.cloud.ibm.com/registration/stepone?context=wdp&apps=all>)\n",
    "and you can start using `IBM Cloud Pak for Data as a Service` right away).\n",
    ">\n",
    "> CPLEX is available on <i>IBM Cloud Pack for Data</i> and <i>IBM Cloud Pak for Data as a Service</i>:\n",
    ">    - <i>IBM Cloud Pak for Data as a Service</i>: Depends on the runtime used:\n",
    ">         - <i>Python 3.x</i> runtime: Community edition\n",
    ">         - <i>Python 3.x + DO</i> runtime: full edition\n",
    ">    - <i>Cloud Pack for Data</i>: Community edition is installed by default. Please install `DO` addon in `Watson Studio Premium` for the full edition\n",
    "\n",
    "Table of contents:\n",
    "\n",
    "-  [Describe the business problem](#Describe-the-business-problem:--Games-Scheduling-in-the-National-Football-League)\n",
    "*  [How decision optimization (prescriptive analytics) can help](#How--decision-optimization-can-help)\n",
    "*  [Use decision optimization](#Use-decision-optimization)\n",
    "    *  [Step 1: Import the library](#Step-1:-Import-the-library)\n",
    "    *  [Step 2: Learn about constraint truth values](#Step-2:-Learn-about-constraint-truth-values)\n",
    "    *  [Step 3: Learn about equivalence constraints](#Step-3:-Learn-about-equivalence-constraints)\n",
    "*  [Summary](#Summary)\n",
    "****"
   ]
  },
  {
   "cell_type": "markdown",
   "metadata": {},
   "source": [
    "Logical constraints let you use the _truth value_ of constraints inside the model. The truth value of a constraint \n",
    "is a binary variable equal to 1 when the constraint is satisfied, and equal to 0 when not. Adding a constraint to a model ensures that it is always satisfied. \n",
    "With logical constraints, one can use the truth value of a constraint _inside_ the model, allowing to choose dynamically whether a constraint is to be satisfied (or not)."
   ]
  },
  {
   "cell_type": "markdown",
   "metadata": {
    "render": true
   },
   "source": [
    "## How  decision optimization can help\n",
    "\n",
    "* Prescriptive analytics (decision optimization) technology recommends actions that are based on desired outcomes.  It takes into account specific scenarios, resources, and knowledge of past and current events. With this insight, your organization can make better decisions and have greater control of business outcomes.  \n",
    "\n",
    "* Prescriptive analytics is the next step on the path to insight-based actions. It creates value through synergy with predictive analytics, which analyzes data to predict future outcomes.  \n",
    "\n",
    "* Prescriptive analytics takes that insight to the next level by suggesting the optimal way to handle that future situation. Organizations that can act fast in dynamic conditions and make superior decisions in uncertain environments gain a strong competitive advantage.  \n",
    "<br/>\n",
    "\n",
    "<u>With prescriptive analytics, you can:</u> \n",
    "\n",
    "* Automate the complex decisions and trade-offs to better manage your limited resources.\n",
    "* Take advantage of a future opportunity or mitigate a future risk.\n",
    "* Proactively update recommendations based on changing events.\n",
    "* Meet operational goals, increase customer loyalty, prevent threats and fraud, and optimize business processes.\n",
    "\n"
   ]
  },
  {
   "cell_type": "markdown",
   "metadata": {},
   "source": [
    "## Use decision optimization"
   ]
  },
  {
   "cell_type": "markdown",
   "metadata": {},
   "source": [
    "### Step 1: Import the library\n",
    "\n",
    "Run the following code to import Decision Optimization CPLEX Modeling library.  The *DOcplex* library contains the two modeling packages, Mathematical Programming and Constraint Programming, referred to earlier."
   ]
  },
  {
   "cell_type": "code",
   "execution_count": 1,
   "metadata": {},
   "outputs": [],
   "source": [
    "import sys\n",
    "try:\n",
    "    import docplex.mp\n",
    "except:\n",
    "    raise Exception('Please install docplex. See https://pypi.org/project/docplex/')"
   ]
  },
  {
   "cell_type": "markdown",
   "metadata": {},
   "source": [
    "A restart of the kernel might be needed."
   ]
  },
  {
   "cell_type": "markdown",
   "metadata": {
    "render": true
   },
   "source": [
    "### Step 2: Learn about constraint truth values\n",
    "\n",
    "Any discrete linear constraint can be associated to a binary variable that holds the truth value of the constraint. \n",
    "But first, let's explain what a discrete constraint is"
   ]
  },
  {
   "cell_type": "markdown",
   "metadata": {},
   "source": [
    "#### Discrete linear constraint\n",
    "\n",
    "A discrete linear constraint is built from discrete coefficients and discrete variables, that is variables with type `integer` or `binary`. \n",
    "\n",
    "For example, assuming x and y are integer variables:\n",
    "\n",
    " - `2x+3y == 1` is discrete\n",
    " - `x+y = 3.14` is not (because of 3.14)\n",
    " - `1.1 x + 2.2 y <= 3` is not because of the non-integer coefficients 1.1 and 2.2"
   ]
  },
  {
   "cell_type": "markdown",
   "metadata": {},
   "source": [
    "#### The truth value of an added constraint is always 1\n",
    "\n",
    "The truth value of a linear constraint is accessed by the `status_var` property. This property returns a binary  which can be used anywhere a variable can. However, the value of the truth value variable and the constraint are linked, both ways:\n",
    "\n",
    " - a constraint is satisfied if and only if its truth value variable equals 1\n",
    " - a constraint is _not_ satisfied if and only if its truth value variable equals 0.\n",
    "\n",
    "In the following small model, we show that the truth value of a constraint which has been added to a model is always equal to 1."
   ]
  },
  {
   "cell_type": "code",
   "execution_count": 2,
   "metadata": {},
   "outputs": [
    {
     "name": "stdout",
     "output_type": "stream",
     "text": [
      "the truth value of [ix+iy <= 3] is 1.0\n"
     ]
    }
   ],
   "source": [
    "from docplex.mp.model import Model\n",
    "\n",
    "m1 = Model()\n",
    "x = m1.integer_var(name='ix')\n",
    "y = m1.integer_var(name='iy')\n",
    "ct = m1.add(x + y <= 3)\n",
    "# acces the truth value of a linear constraint\n",
    "ct_truth = ct.status_var\n",
    "m1.maximize(x+y)\n",
    "assert m1.solve()\n",
    "print('the truth value of [{0!s}] is {1}'.format(ct, ct_truth.solution_value))"
   ]
  },
  {
   "cell_type": "markdown",
   "metadata": {},
   "source": [
    "#### The truth value of a constraint not added to a model is free\n",
    "\n",
    "A constraint that is not added to a model, has no effect. Its truth value is free: it can be either 1 or 0.\n",
    "\n",
    "In the following example, both `x` and `y` are set to their upper bound, so that the constraint is not satisfied; hence the truth value is 0."
   ]
  },
  {
   "cell_type": "code",
   "execution_count": 3,
   "metadata": {},
   "outputs": [
    {
     "name": "stdout",
     "output_type": "stream",
     "text": [
      "objective: 8\n",
      "  \"ix\"=4\n",
      "  \"iy\"=4\n",
      "the truth value of [ix+iy <= 3] is 0\n"
     ]
    }
   ],
   "source": [
    "m2 = Model(name='logical2')\n",
    "x = m2.integer_var(name='ix', ub=4)\n",
    "y = m2.integer_var(name='iy', ub=4)\n",
    "ct = (x + y <= 3)\n",
    "ct_truth = ct.status_var  # not m2.add() here!\n",
    "m2.maximize(x+y)\n",
    "assert m2.solve()\n",
    "m2.print_solution()\n",
    "print('the truth value of [{0!s}] is {1}'.format(ct, ct_truth.solution_value))"
   ]
  },
  {
   "cell_type": "markdown",
   "metadata": {},
   "source": [
    "#### Using constraint truth values in modeling\n",
    "\n",
    "We have learned about the truth value variable of linear constraints, but there's more.\n",
    "Linear constraints can be freely used in _expressions_: Docplex will then substitute the constraint's truth value \n",
    "variable in the expression. \n",
    "\n",
    "Let's experiment again with a toy model: in this model,\n",
    "we want to express that when  `x ==3` is false, then `y ==4` must also be false.\n",
    "To express this, it suffices to say that the truth value of `y == 4` is less than or equal \n",
    "to the truth value of `x ==3`. When `x==3` is false, is truthe value is 0, hence the truth value of `y==4` is also zero, and `y` cannot be equal to 4.\n",
    "\n",
    "However, as shown in the model below, it is not necessary to use the `status_var` propert: using\n",
    "the constraints in a comparison expression works fine.\n",
    "\n",
    "As we maximize y, y has value 4 in the optimal solution (it is the upper bound), and consequently the constraint `ct_y4` is satisfied. From the inequality between truth values,\n",
    "it follows that the truth value of `ct_x2` equals 1 and x is equal to 2.\n",
    "\n",
    "Using the constraints in the inequality has silently converted each constraint into its truth value."
   ]
  },
  {
   "cell_type": "code",
   "execution_count": 4,
   "metadata": {},
   "outputs": [
    {
     "name": "stdout",
     "output_type": "stream",
     "text": [
      "iy: 4\n",
      "  \"ix\"=2\n",
      "  \"iy\"=4\n"
     ]
    }
   ],
   "source": [
    "m3 = Model(name='logical3')\n",
    "x = m3.integer_var(name='ix', ub=4)\n",
    "y = m3.integer_var(name='iy', ub=4)\n",
    "ct_x2 = (x == 2)\n",
    "ct_y4 = (y == 4)\n",
    "# use constraints in comparison\n",
    "m3.add( ct_y4 <= ct_x2 )\n",
    "m3.maximize(y)\n",
    "assert m3.solve()\n",
    "# expected solution x==2, and y==4.\n",
    "m3.print_solution()"
   ]
  },
  {
   "cell_type": "markdown",
   "metadata": {},
   "source": [
    "Constraint truth values can be used with arithmetic operators, just as variables can. In the next model, we express a (slightly) more complex constraint:\n",
    "\n",
    "- either x is equal to 3, _or_ both y and z are equal to 5\n",
    "\n",
    "Let's see how we can express this easily with truth values:"
   ]
  },
  {
   "cell_type": "code",
   "execution_count": 5,
   "metadata": {},
   "outputs": [
    {
     "name": "stdout",
     "output_type": "stream",
     "text": [
      "objective: 12\n",
      "  \"ix\"=2\n",
      "  \"iy\"=5\n",
      "  \"iz\"=5\n"
     ]
    }
   ],
   "source": [
    "m31 = Model(name='logical31')\n",
    "x = m31.integer_var(name='ix', ub=4)\n",
    "y = m31.integer_var(name='iy', ub=10)\n",
    "z = m31.integer_var(name='iz', ub=10)\n",
    "ct_x2 = (x == 3)\n",
    "ct_y5 = (y == 5)\n",
    "ct_z5 = (z == 5)\n",
    "#either ct_x2 is true or -both- ct_y5 and ct_z5 must be true\n",
    "m31.add( 2 * ct_x2 + (ct_y5 + ct_z5) == 2)\n",
    "# force x to be less than 2: it cannot be equal to 3!\n",
    "m31.add(x <= 2)\n",
    "# maximize sum of x,y,z\n",
    "m31.maximize(x+y+z)\n",
    "assert m31.solve()\n",
    "# the expected solution is: x=2, y=5, z=5\n",
    "assert m31.objective_value == 12\n",
    "m31.print_solution()"
   ]
  },
  {
   "cell_type": "markdown",
   "metadata": {},
   "source": [
    "As we have seen, constraints can be used in expressions. This includes the `Model.sum()` and `Model.dot()` aggregation methods.\n",
    "\n",
    "In the next model, we define ten variables, one of which must be equal to 3 (we dpn't care which one, for now). As we maximize the sum of all `xs` variables, all will end up equal to their upper bound, except for one."
   ]
  },
  {
   "cell_type": "code",
   "execution_count": 6,
   "metadata": {},
   "outputs": [
    {
     "name": "stdout",
     "output_type": "stream",
     "text": [
      "objective: 903\n",
      "  \"x1\"=100\n",
      "  \"x2\"=100\n",
      "  \"x3\"=100\n",
      "  \"x4\"=100\n",
      "  \"x5\"=100\n",
      "  \"x6\"=100\n",
      "  \"x7\"=100\n",
      "  \"x8\"=3\n",
      "  \"x9\"=100\n",
      "  \"x10\"=100\n"
     ]
    }
   ],
   "source": [
    "m4 = Model(name='logical4')\n",
    "xs = m4.integer_var_list(10, ub=100)\n",
    "cts = [xi==3 for xi in xs]\n",
    "m4.add( m4.sum(cts) == 1)\n",
    "m4.maximize(m4.sum(xs))\n",
    "assert m4.solve()\n",
    "m4.print_solution()"
   ]
  },
  {
   "cell_type": "markdown",
   "metadata": {},
   "source": [
    "As we can see, all variables but one are set to their upper bound of 100. We cannot predict which variable will be set to 3. \n",
    "However, let's imagine that we prefer variable with a lower index to be set to 3, how can we express this preference? \n",
    "\n",
    "The answer is to use an additional expression to the objective, using a scalar product of constraint truth value"
   ]
  },
  {
   "cell_type": "code",
   "execution_count": 7,
   "metadata": {},
   "outputs": [
    {
     "name": "stdout",
     "output_type": "stream",
     "text": [
      "objective: 902\n",
      "  \"x1\"=3\n",
      "  \"x2\"=100\n",
      "  \"x3\"=100\n",
      "  \"x4\"=100\n",
      "  \"x5\"=100\n",
      "  \"x6\"=100\n",
      "  \"x7\"=100\n",
      "  \"x8\"=100\n",
      "  \"x9\"=100\n",
      "  \"x10\"=100\n"
     ]
    }
   ],
   "source": [
    "preference = m4.dot(cts, (k+1 for k in range(len(xs))))\n",
    "# we prefer lower indices for satisfying the x==3 constraint\n",
    "# so the final objective is a maximize of sum of xs -minus- the preference\n",
    "m4.maximize(m4.sum(xs) - preference)\n",
    "assert m4.solve()\n",
    "m4.print_solution()"
   ]
  },
  {
   "cell_type": "markdown",
   "metadata": {},
   "source": [
    "As expected, the `x` variable set to 3 now is the first one."
   ]
  },
  {
   "cell_type": "markdown",
   "metadata": {},
   "source": [
    "#### Using truth values to negate a constraint\n",
    "\n",
    "Truth values can be used to negate a complex constraint, by forcing its truth value to be equal to 0.\n",
    "\n",
    "In the next model, we illustrate how an equality constraint can be negated by forcing its truth value to zero. This negation forbids y to be equal to 4, as it would be without this negation.\n",
    "Finally, the objective is 7 instead of 8."
   ]
  },
  {
   "cell_type": "code",
   "execution_count": 8,
   "metadata": {},
   "outputs": [
    {
     "name": "stdout",
     "output_type": "stream",
     "text": [
      "objective: 6\n",
      "  \"ix\"=2\n",
      "  \"iy\"=4\n",
      "objective: 8\n",
      "  \"ix\"=4\n",
      "  \"iy\"=4\n"
     ]
    }
   ],
   "source": [
    "m5 = Model(name='logical5')\n",
    "x = m5.integer_var(name='ix', ub=4)\n",
    "y = m5.integer_var(name='iy', ub=4)\n",
    "# this is the equality constraint we want to negate\n",
    "ct_xy7 = (y + x >= 7)\n",
    "# forcing truth value to zero means the constraint is not satisfied.\n",
    "# note how we use a constraint in an expression\n",
    "negation = m5.add( ct_xy7 == 0)\n",
    "# maximize x+y should yield both variables to 4, but x+y cannot be greater than 7\n",
    "m5.maximize(x + y)\n",
    "assert m5.solve()\n",
    "m5.print_solution()\n",
    "# expecting 6 as objective, not 8\n",
    "assert m5.objective_value == 6\n",
    "\n",
    "# now remove the negation\n",
    "m5.remove_constraint(negation)\n",
    "# and solve again\n",
    "assert m5.solve()\n",
    "# the objective is 8 as expected: both x and y are equal to 4\n",
    "assert m5.objective_value == 8\n",
    "m5.print_solution()"
   ]
  },
  {
   "cell_type": "markdown",
   "metadata": {},
   "source": [
    "#### Summary\n",
    "\n",
    "We have seen that linear constraints have an associated binary variable, its _truth value_, whose value is linked to whether or not the constraint is satisfied. \n",
    "\n",
    "second, linear constraints can be freely mixed with variables in expression to express _meta-constraints_ that is, constraints\n",
    "about constraints. As an example, we have shown how to use truth values to negate constraints."
   ]
  },
  {
   "cell_type": "markdown",
   "metadata": {},
   "source": [
    "#### Note: the `!=` (not_equals) operator\n",
    "\n",
    "Since version 2.9, Docplex provides a 'not_equal' operator, between discrete expressions. Of course, this is implemented using truth values, but the operator provides a convenient way to express this constraint."
   ]
  },
  {
   "cell_type": "code",
   "execution_count": 9,
   "metadata": {},
   "outputs": [
    {
     "name": "stdout",
     "output_type": "stream",
     "text": [
      "objective: 5\n",
      "  \"ix\"=2\n",
      "  \"iy\"=3\n"
     ]
    }
   ],
   "source": [
    "m6 = Model(name='logical6')\n",
    "x = m6.integer_var(name='ix', ub=4)\n",
    "y = m6.integer_var(name='iy', ub=4)\n",
    "# this is the equality constraint we want to negate\n",
    "m6.add(x +1 <= y)\n",
    "m6.add(x != 3)\n",
    "m6.add(y != 4)\n",
    "# forcing truth value to zero means the constraint is not satisfied.\n",
    "# note how we use a constraint in an expression\n",
    "m6.add(x+y <= 7)\n",
    "# maximize x+y should yield both variables to 4, \n",
    "# but here: x < y, y cannot be 4 thus x cannot be 3 either so we get x=2, y=3\n",
    "m6.maximize(x + y)\n",
    "assert m6.solve()\n",
    "m6.print_solution()\n",
    "# expecting 5 as objective, not 8\n",
    "assert m6.objective_value == 5\n"
   ]
  },
  {
   "cell_type": "markdown",
   "metadata": {},
   "source": [
    "### Step 3: Learn about equivalence constraints\n",
    "\n",
    "As we have seen, using a constraint in expressions automtically generates a truth value variable, whose value is linked to the status of the constraint. \n",
    "\n",
    "However, in some cases, it can be useful to relate the status of a constraint to an _existing_ binary variable. This is the purpose of equivalence constraints.\n",
    "\n",
    "An equivalence constraint relates an existing binary variable to the status of a discrete linear constraints, in both directions. The syntax is:\n",
    "\n",
    "    `Model.add_equivalence(bvar, linear_ct, active_value, name)`\n",
    "    \n",
    " - `bvar` is the existing binary variable\n",
    " - `linear-ct` is a discrete linear constraint\n",
    " - `active_value` can take values 1 or 0 (the default is 1)\n",
    " - `name` is an optional string to name the equivalence.\n",
    " \n",
    "If the binary variable `bvar` equals 1, then the constraint is satisfied. Conversely, if the constraint is satisfied, the binary variable is set to 1."
   ]
  },
  {
   "cell_type": "code",
   "execution_count": 10,
   "metadata": {},
   "outputs": [
    {
     "name": "stdout",
     "output_type": "stream",
     "text": [
      "objective: 7\n",
      "  i_0=5\n",
      "  i_1=5\n",
      "  i_2=5\n",
      "  i_3=5\n",
      "  i_4=5\n",
      "  i_5=5\n",
      "  i_6=5\n",
      "  j_0=7\n",
      "  j_1=7\n",
      "  j_2=7\n",
      "  j_3=7\n",
      "  j_4=7\n",
      "  j_5=7\n",
      "  j_6=7\n",
      "  b_0=1\n",
      "  b_1=1\n",
      "  b_2=1\n",
      "  b_3=1\n",
      "  b_4=1\n",
      "  b_5=1\n",
      "  b_6=1\n"
     ]
    }
   ],
   "source": [
    "m7 = Model(name='logical7')\n",
    "size = 7\n",
    "il = m7.integer_var_list(size, name='i', ub=10)\n",
    "jl = m7.integer_var_list(size, name='j', ub=10)\n",
    "bl = m7.binary_var_list(size, name='b')\n",
    "for k in range(size):\n",
    "    # for each i, relate bl_k to il_k==5 *and* jl_k == 7\n",
    "    m7.add_equivalence(bl[k], il[k] == 5)\n",
    "    m7.add_equivalence(bl[k], jl[k] == 7)\n",
    "# now maximize sum of bs\n",
    "m7.maximize(m7.sum(bl))\n",
    "assert m7.solve()\n",
    "m7.print_solution()"
   ]
  },
  {
   "cell_type": "markdown",
   "metadata": {},
   "source": [
    "### Step 4: Learn about indicator constraints\n",
    "\n",
    "The equivalence constraint decsribed in the previous section links the value of an existing binary variable to the satisfaction of a linear constraint. In certain cases, it is sufficient to link from an existing binary variable to the constraint, but not the other way. This is what _indicator_ constraints do.\n",
    "\n",
    "The syntax is very similar to equivalence:\n",
    "\n",
    "    `Model.add_indicator(bvar, linear_ct, active_value=1, name=None)`\n",
    "    \n",
    " - `bvar` is the existing binary variable\n",
    " - `linear-ct` is a discrete linear constraint\n",
    " - `active_value` can take values 1 or 0 (the default is 1)\n",
    " - `name` is an optional string to name the indicator.\n",
    " \n",
    " The indicator constraint works as follows: if the binary variable is set to 1, the constraint is satified; if the binary variable is set to 0, anything can happen.\n",
    " \n",
    " One noteworty difference between indicators and equivalences is that, for indicators, the linear constraint need not be discrete."
   ]
  },
  {
   "cell_type": "markdown",
   "metadata": {},
   "source": [
    "In the following small model, we first solve without the indicator: both b and x are set to their upper bound, and the final objective is 200.\n",
    "\n",
    "Then we add an indicator sttaing that when b equals1, then x must be less than 3.14; the resulting objective is 103.14, as b is set to 1, which trigger the `x <= 31.4` constraint.\n",
    "\n",
    "Note that the right-hand side constraint is _not_ discrete (because of 3.14)."
   ]
  },
  {
   "cell_type": "code",
   "execution_count": 11,
   "metadata": {},
   "outputs": [
    {
     "name": "stdout",
     "output_type": "stream",
     "text": [
      "objective: 200.000\n",
      "  x=100.000\n",
      "  b=1\n",
      "objective: 103.140\n",
      "  x=3.140\n",
      "  b=1\n"
     ]
    }
   ],
   "source": [
    "m8 = Model(name='logical8')\n",
    "x = m8.continuous_var(name='x', ub=100)\n",
    "b = m8.binary_var(name='b')\n",
    "\n",
    "m8.maximize(100*b +x)\n",
    "assert m8.solve()\n",
    "assert m8.objective_value == 200\n",
    "m8.print_solution()\n",
    "ind_pi = m8.add_indicator(b, x <= 3.14)\n",
    "assert m8.solve()\n",
    "assert m8.objective_value <= 104\n",
    "m8.print_solution()"
   ]
  },
  {
   "cell_type": "markdown",
   "metadata": {},
   "source": [
    "### Step 5: Learn about if-then\n",
    "\n",
    "In this section we explore the `Model.add_if_then` construct which links the truth value of two constraints:\n",
    "`Model.add_if_then(if_ct, then_ct)` ensures that, when constraint `if_ct` is satisfied, then `then_ct` is also satisfied.\n",
    "When `if_ct` is not satisfied, `then_ct` is free to be satsfied or not.\n",
    "\n",
    "The syntax is:\n",
    "\n",
    "    `Model.add_if_then(if_ct, then_ct, negate=False)`\n",
    "    \n",
    " - `if_ct` is a discrete linear constraint\n",
    " - `then_ct` is any linear constraint (not necessarily discrete),\n",
    " - `negate` is an optional flag to reverse the logic, that is satisfy `then_ct` if `if_ct` is not (more on this later)\n",
    " \n",
    " As for indicators, the `then_ct` need not be discrete.\n",
    " \n",
    " `Model.add_if_then(if_ct, then_ct)` is roughly equivalent to `Model.add_indicator(if_ct.status_var, then_ct)`."
   ]
  },
  {
   "cell_type": "code",
   "execution_count": 12,
   "metadata": {},
   "outputs": [
    {
     "name": "stdout",
     "output_type": "stream",
     "text": [
      "objective: 2403.140\n",
      "  \"x\"=3.140\n",
      "  \"iy\"=11\n",
      "  \"iz\"=13\n"
     ]
    }
   ],
   "source": [
    "m9 = Model(name='logical9')\n",
    "x = m9.continuous_var(name='x', ub=100)\n",
    "y = m9.integer_var(name='iy', ub = 11)\n",
    "z = m9.integer_var(name='iz', ub = 13)\n",
    "\n",
    "m9.add_if_then(y+z >= 10, x <= 3.14)\n",
    "\n",
    "# y and z are puashed to their ub, so x is down to 3.14\n",
    "m9.maximize(x + 100*(y + z))\n",
    "m9.solve()\n",
    "m9.print_solution()"
   ]
  },
  {
   "cell_type": "markdown",
   "metadata": {},
   "source": [
    "In this second variant, the objective coefficient for `(y+z)` is 2 instead of 100, so `x` domines the objective, and reache sits upper bound, while (y+z) must be less than 9, which is what we observe."
   ]
  },
  {
   "cell_type": "code",
   "execution_count": 13,
   "metadata": {},
   "outputs": [
    {
     "name": "stdout",
     "output_type": "stream",
     "text": [
      "objective: 118.000\n",
      "  \"x\"=100.000\n",
      "  \"iy\"=9\n"
     ]
    }
   ],
   "source": [
    "# y and z are pushed to their ub, so x is down to 3.14\n",
    "m9.maximize(x + 2 *(y + z))\n",
    "m9.solve()\n",
    "m9.print_solution()\n",
    "\n",
    "assert abs(m9.objective_value - 118) <= 1e-2"
   ]
  },
  {
   "cell_type": "markdown",
   "metadata": {},
   "source": [
    "## Summary\n",
    "\n",
    "We have seen that linear constraints have an associated binary variable, its _truth value_, whose value is linked to whether or not the constraint is satisfied. \n",
    "\n",
    "second, linear constraints can be freely mixed with variables in expression to express _meta-constraints_ that is, constraints\n",
    "about constraints. As an example, we have shown how to use truth values to negate constraints.\n",
    "\n",
    "In addition, we have learned to use equivalence, indicator and if_then constraints.\n",
    "\n",
    "\n",
    "You learned how to set up and use the IBM Decision Optimization CPLEX Modeling for Python to formulate a Mathematical Programming model with logical constraints."
   ]
  },
  {
   "cell_type": "markdown",
   "metadata": {
    "render": true
   },
   "source": [
    "#### References\n",
    "* [Decision Optimization CPLEX Modeling for Python documentation](http://ibmdecisionoptimization.github.io/docplex-doc/)\n",
    "* [IBM Decision Optimization](https://www.ibm.com/analytics/decision-optimization)\n",
    "* Need help with DOcplex or to report a bug? Please go [here](https://stackoverflow.com/questions/tagged/docplex)\n",
    "* Contact us at `IBM Community <https://ibm.biz/DOcommunity>`__\"\n"
   ]
  },
  {
   "cell_type": "markdown",
   "metadata": {},
   "source": [
    "Copyright &copy; 2017-2019 IBM. Sample Materials."
   ]
  },
  {
   "cell_type": "code",
   "execution_count": null,
   "metadata": {},
   "outputs": [],
   "source": []
  }
 ],
 "metadata": {
  "anaconda-cloud": {},
  "gist_id": "6011986",
  "kernelspec": {
   "display_name": "Python 3",
   "language": "python",
   "name": "python3"
  },
  "language_info": {
   "codemirror_mode": {
    "name": "ipython",
    "version": 3
   },
   "file_extension": ".py",
   "mimetype": "text/x-python",
   "name": "python",
   "nbconvert_exporter": "python",
   "pygments_lexer": "ipython3",
   "version": "3.7.8"
  }
 },
 "nbformat": 4,
 "nbformat_minor": 1
}
