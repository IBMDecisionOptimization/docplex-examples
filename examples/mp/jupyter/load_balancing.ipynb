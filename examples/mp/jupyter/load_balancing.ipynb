{
 "cells": [
  {
   "cell_type": "markdown",
   "metadata": {
    "render": true
   },
   "source": [
    "# Use decision optimization to determine Cloud balancing.\n",
    "\n",
    "This tutorial includes everything you need to set up decision optimization engines, build mathematical programming models, and a solve a capacitated facility location problem to do server load balancing.\n",
    "\n",
    "\n",
    "When you finish this tutorial, you'll have a foundational knowledge of _Prescriptive Analytics_.\n",
    "\n",
    ">It requires either an [installation of CPLEX Optimizers](http://ibmdecisionoptimization.github.io/docplex-doc/getting_started.html) or it can be run on [IBM Cloud Pak for Data as a Service](https://www.ibm.com/products/cloud-pak-for-data/as-a-service/) (Sign up for a [free IBM Cloud account](https://dataplatform.cloud.ibm.com/registration/stepone?context=wdp&apps=all>)\n",
    "and you can start using `IBM Cloud Pak for Data as a Service` right away).\n",
    ">\n",
    "> CPLEX is available on <i>IBM Cloud Pack for Data</i> and <i>IBM Cloud Pak for Data as a Service</i>:\n",
    ">    - <i>IBM Cloud Pak for Data as a Service</i>: Depends on the runtime used:\n",
    ">         - <i>Python 3.x</i> runtime: Community edition\n",
    ">         - <i>Python 3.x + DO</i> runtime: full edition\n",
    ">    - <i>Cloud Pack for Data</i>: Community edition is installed by default. Please install `DO` addon in `Watson Studio Premium` for the full edition\n",
    "\n",
    "\n",
    "Table of contents:\n",
    "\n",
    "-  [The business problem](#The-business-problem:--Games-Scheduling-in-the-National-Football-League)\n",
    "*  [How decision optimization (prescriptive analytics) can help](#How--decision-optimization-can-help)\n",
    "*  [Use decision optimization](#Use-decision-optimization)\n",
    "    *  [Step 1: Import the library](#Step-1:-Import-the-library)\n",
    "    -  [Step 2: Model the Data](#Step-2:-Model-the-data)\n",
    "    *  [Step 3: Prepare the data](#Step-3:-Prepare-the-data)\n",
    "    -  [Step 4: Set up the prescriptive model](#Step-4:-Set-up-the-prescriptive-model)\n",
    "        * [Define the decision variables](#Define-the-decision-variables)\n",
    "        * [Express the business constraints](#Express-the-business-constraints)\n",
    "        * [Express the objective](#Express-the-objective)\n",
    "        * [Solve with Decision Optimization](#Solve-with-Decision-Optimization)\n",
    "    *  [Step 5: Investigate the solution and run an example analysis](#Step-5:-Investigate-the-solution-and-then-run-an-example-analysis)\n",
    "*  [Summary](#Summary)\n"
   ]
  },
  {
   "cell_type": "markdown",
   "metadata": {
    "render": true
   },
   "source": [
    "## The business problem:  Capacitated Facility Location.   \n",
    "\n",
    "\n",
    "This example looks at cloud load balancing to keep a service running in the cloud at reasonable cost by reducing the expense of running cloud servers, minimizing risk and human time due to rebalancing, and doing balance sleeping models across servers.\n",
    "\n",
    "The different KPIs are optimized in a hierarchical manner: first, the number of active servers is minimized, then the total number of migrations is minimized, and finally the sleeping workload is balanced. "
   ]
  },
  {
   "cell_type": "markdown",
   "metadata": {
    "render": true
   },
   "source": [
    "## How  decision optimization can help\n",
    "\n",
    "* Prescriptive analytics (decision optimization) technology recommends actions that are based on desired outcomes.  It takes into account specific scenarios, resources, and knowledge of past and current events. With this insight, your organization can make better decisions and have greater control of business outcomes.  \n",
    "\n",
    "* Prescriptive analytics is the next step on the path to insight-based actions. It creates value through synergy with predictive analytics, which analyzes data to predict future outcomes.  \n",
    "\n",
    "* Prescriptive analytics takes that insight to the next level by suggesting the optimal way to handle that future situation. Organizations that can act fast in dynamic conditions and make superior decisions in uncertain environments gain a strong competitive advantage.  \n",
    "<br/>\n",
    "\n",
    "<u>With prescriptive analytics, you can:</u> \n",
    "\n",
    "* Automate the complex decisions and trade-offs to better manage your limited resources.\n",
    "* Take advantage of a future opportunity or mitigate a future risk.\n",
    "* Proactively update recommendations based on changing events.\n",
    "* Meet operational goals, increase customer loyalty, prevent threats and fraud, and optimize business processes.\n",
    "\n"
   ]
  },
  {
   "cell_type": "markdown",
   "metadata": {},
   "source": [
    "## Use decision optimization"
   ]
  },
  {
   "cell_type": "markdown",
   "metadata": {},
   "source": [
    "### Step 1: Import the library\n",
    "\n",
    "Run the following code to import the Decision Optimization CPLEX Modeling library.  The *DOcplex* library contains the two modeling packages, Mathematical Programming (docplex.mp) and Constraint Programming (docplex.cp)."
   ]
  },
  {
   "cell_type": "code",
   "execution_count": 1,
   "metadata": {},
   "outputs": [],
   "source": [
    "import sys\n",
    "try:\n",
    "    import docplex.mp\n",
    "except:\n",
    "    raise Exception('Please install docplex. See https://pypi.org/project/docplex/')"
   ]
  },
  {
   "cell_type": "markdown",
   "metadata": {
    "render": true
   },
   "source": [
    "### Step 2: Model the data\n",
    "In this scenario, the data is simple and is delivered in the json format under the Optimization github."
   ]
  },
  {
   "cell_type": "code",
   "execution_count": 2,
   "metadata": {},
   "outputs": [],
   "source": [
    "from collections import namedtuple"
   ]
  },
  {
   "cell_type": "code",
   "execution_count": 3,
   "metadata": {},
   "outputs": [],
   "source": [
    "class TUser(namedtuple(\"TUser\", [\"id\", \"running\", \"sleeping\", \"current_server\"])):\n",
    "    def __str__(self):\n",
    "        return self.id"
   ]
  },
  {
   "cell_type": "code",
   "execution_count": 4,
   "metadata": {},
   "outputs": [],
   "source": [
    "try:\n",
    "    from StringIO import StringIO\n",
    "except ImportError:\n",
    "    from io import StringIO"
   ]
  },
  {
   "cell_type": "code",
   "execution_count": 5,
   "metadata": {},
   "outputs": [],
   "source": [
    "try:\n",
    "    from urllib2 import urlopen\n",
    "except ImportError:\n",
    "    from urllib.request import urlopen"
   ]
  },
  {
   "cell_type": "code",
   "execution_count": 6,
   "metadata": {},
   "outputs": [],
   "source": [
    "import csv\n",
    "\n",
    "data_url = \"https://github.com/vberaudi/utwt/blob/master/users.csv?raw=true\"\n",
    "xld = urlopen(data_url).read()\n",
    "xlds = StringIO(xld.decode('utf-8'))\n",
    "reader = csv.reader(xlds)\n",
    "\n",
    "users = [(row[0], int(row[1]), int(row[2]), row[3]) for row in reader]"
   ]
  },
  {
   "cell_type": "markdown",
   "metadata": {
    "render": true
   },
   "source": [
    "### Step 3: Prepare the data\n",
    "\n",
    "Given the number of teams in each division and the number of intradivisional and interdivisional games to be played, you can calculate the total number of teams and the number of weeks in the schedule, assuming every team plays exactly one game per week. \n",
    "\n",
    "\n",
    "The season is split into halves, and the number of the intradivisional games that each team must play in the first half of the season is calculated."
   ]
  },
  {
   "cell_type": "code",
   "execution_count": 7,
   "metadata": {},
   "outputs": [],
   "source": [
    "max_processes_per_server = 50\n",
    "\n",
    "users = [TUser(*user_row) for user_row in users]\n",
    "\n",
    "\n",
    "servers = list({t.current_server for t in users})"
   ]
  },
  {
   "cell_type": "markdown",
   "metadata": {
    "render": true
   },
   "source": [
    "### Step 4: Set up the prescriptive model"
   ]
  },
  {
   "cell_type": "markdown",
   "metadata": {},
   "source": [
    "#### Create the DOcplex model\n",
    "The model contains all the business constraints and defines the objective."
   ]
  },
  {
   "cell_type": "code",
   "execution_count": 8,
   "metadata": {},
   "outputs": [],
   "source": [
    "from docplex.mp.model import Model\n",
    "\n",
    "mdl = Model(\"load_balancing\")"
   ]
  },
  {
   "cell_type": "markdown",
   "metadata": {},
   "source": [
    "#### Define the decision variables"
   ]
  },
  {
   "cell_type": "code",
   "execution_count": 9,
   "metadata": {},
   "outputs": [],
   "source": [
    "active_var_by_server = mdl.binary_var_dict(servers, name='isActive')\n",
    "\n",
    "def user_server_pair_namer(u_s):\n",
    "    u, s = u_s\n",
    "    return '%s_to_%s' % (u.id, s)\n",
    "\n",
    "assign_user_to_server_vars = mdl.binary_var_matrix(users, servers, user_server_pair_namer)\n",
    "\n",
    "max_sleeping_workload = mdl.integer_var(name=\"max_sleeping_processes\")"
   ]
  },
  {
   "cell_type": "code",
   "execution_count": 10,
   "metadata": {},
   "outputs": [],
   "source": [
    "def _is_migration(user, server):\n",
    "    \"\"\" Returns True if server is not the user's current\n",
    "        Used in setup of constraints.\n",
    "    \"\"\"\n",
    "    return server != user.current_server"
   ]
  },
  {
   "cell_type": "markdown",
   "metadata": {
    "render": true
   },
   "source": [
    "#### Express the business constraints"
   ]
  },
  {
   "cell_type": "code",
   "execution_count": 11,
   "metadata": {},
   "outputs": [
    {
     "name": "stdout",
     "output_type": "stream",
     "text": [
      "Model: load_balancing\n",
      " - number of variables: 582\n",
      "   - binary=581, integer=1, continuous=0\n",
      " - number of constraints: 7\n",
      "   - linear=7\n",
      " - parameters: defaults\n",
      " - objective: none\n",
      " - problem type is: MILP\n"
     ]
    }
   ],
   "source": [
    "mdl.add_constraints(\n",
    "    mdl.sum(assign_user_to_server_vars[u, s] * u.running for u in users) <= max_processes_per_server\n",
    "    for s in servers)\n",
    "mdl.print_information()"
   ]
  },
  {
   "cell_type": "code",
   "execution_count": 12,
   "metadata": {},
   "outputs": [],
   "source": [
    "# each assignment var <u, s>  is <= active_server(s)\n",
    "for s in servers:\n",
    "    for u in users:\n",
    "        ct_name = 'ct_assign_to_active_{0!s}_{1!s}'.format(u, s)\n",
    "        mdl.add_constraint(assign_user_to_server_vars[u, s] <= active_var_by_server[s], ct_name)"
   ]
  },
  {
   "cell_type": "code",
   "execution_count": 13,
   "metadata": {},
   "outputs": [
    {
     "name": "stdout",
     "output_type": "stream",
     "text": [
      "Model: load_balancing\n",
      " - number of variables: 582\n",
      "   - binary=581, integer=1, continuous=0\n",
      " - number of constraints: 663\n",
      "   - linear=663\n",
      " - parameters: defaults\n",
      " - objective: none\n",
      " - problem type is: MILP\n"
     ]
    }
   ],
   "source": [
    "# sum of assignment vars for (u, all s in servers) == 1\n",
    "for u in users:\n",
    "    ct_name = 'ct_unique_server_%s' % (u[0])\n",
    "    mdl.add_constraint(mdl.sum((assign_user_to_server_vars[u, s] for s in servers)) == 1.0, ct_name)\n",
    "mdl.print_information()"
   ]
  },
  {
   "cell_type": "code",
   "execution_count": 14,
   "metadata": {},
   "outputs": [
    {
     "name": "stdout",
     "output_type": "stream",
     "text": [
      "Model: load_balancing\n",
      " - number of variables: 582\n",
      "   - binary=581, integer=1, continuous=0\n",
      " - number of constraints: 670\n",
      "   - linear=670\n",
      " - parameters: defaults\n",
      " - objective: none\n",
      " - problem type is: MILP\n"
     ]
    }
   ],
   "source": [
    "number_of_active_servers = mdl.sum((active_var_by_server[svr] for svr in servers))\n",
    "mdl.add_kpi(number_of_active_servers, \"Number of active servers\")\n",
    "\n",
    "number_of_migrations = mdl.sum(\n",
    "    assign_user_to_server_vars[u, s] for u in users for s in servers if _is_migration(u, s))\n",
    "mdl.add_kpi(number_of_migrations, \"Total number of migrations\")\n",
    "\n",
    "\n",
    "for s in servers:\n",
    "    ct_name = 'ct_define_max_sleeping_%s' % s\n",
    "    mdl.add_constraint(\n",
    "        mdl.sum(\n",
    "            assign_user_to_server_vars[u, s] * u.sleeping for u in users) <= max_sleeping_workload,\n",
    "        ct_name)\n",
    "mdl.add_kpi(max_sleeping_workload, \"Max sleeping workload\")\n",
    "mdl.print_information()"
   ]
  },
  {
   "cell_type": "markdown",
   "metadata": {
    "render": true
   },
   "source": [
    "#### Express the objective"
   ]
  },
  {
   "cell_type": "code",
   "execution_count": 15,
   "metadata": {},
   "outputs": [
    {
     "name": "stdout",
     "output_type": "stream",
     "text": [
      "Model: load_balancing\n",
      " - number of variables: 582\n",
      "   - binary=581, integer=1, continuous=0\n",
      " - number of constraints: 670\n",
      "   - linear=670\n",
      " - parameters: defaults\n",
      " - objective: minimize\n",
      " - problem type is: MILP\n"
     ]
    }
   ],
   "source": [
    "# Set objective function\n",
    "mdl.minimize(number_of_active_servers)\n",
    "\n",
    "mdl.print_information()"
   ]
  },
  {
   "cell_type": "markdown",
   "metadata": {
    "render": true
   },
   "source": [
    "### Solve with Decision Optimization \n",
    "\n",
    "You will get the best solution found after n seconds, due to a time limit parameter.\n"
   ]
  },
  {
   "cell_type": "code",
   "execution_count": 16,
   "metadata": {},
   "outputs": [
    {
     "name": "stdout",
     "output_type": "stream",
     "text": [
      "* model load_balancing solved with objective = 82.000\n",
      "*  KPI: Number of active servers   = 2.000\n",
      "*  KPI: Total number of migrations = 52.000\n",
      "*  KPI: Max sleeping workload      = 82.000\n"
     ]
    }
   ],
   "source": [
    "# build an ordered sequence of goals\n",
    "ordered_kpi_keywords = [\"servers\", \"migrations\", \"sleeping\"]\n",
    "ordered_goals = [mdl.kpi_by_name(k) for k in ordered_kpi_keywords]\n",
    "\n",
    "mdl.solve_with_goals(ordered_goals)\n",
    "mdl.report()"
   ]
  },
  {
   "cell_type": "markdown",
   "metadata": {
    "render": true
   },
   "source": [
    "### Step 5: Investigate the solution and then run an example analysis"
   ]
  },
  {
   "cell_type": "code",
   "execution_count": 17,
   "metadata": {},
   "outputs": [
    {
     "name": "stdout",
     "output_type": "stream",
     "text": [
      "Active Servers: ['server003', 'server004']\n",
      "*** User assignment ***\n",
      "user001 uses server004, migration: yes\n",
      "user002 uses server004, migration: yes\n",
      "user003 uses server003, migration: yes\n",
      "user004 uses server004, migration: yes\n",
      "user005 uses server004, migration: yes\n",
      "user006 uses server004, migration: yes\n",
      "user007 uses server003, migration: yes\n",
      "user008 uses server003, migration: yes\n",
      "user009 uses server004, migration: yes\n",
      "user010 uses server003, migration: yes\n",
      "user011 uses server003, migration: yes\n",
      "user012 uses server003, migration: yes\n",
      "user013 uses server004, migration: yes\n",
      "user014 uses server003, migration: yes\n",
      "user015 uses server004, migration: yes\n",
      "user016 uses server004, migration: yes\n",
      "user017 uses server003, migration: yes\n",
      "user018 uses server003, migration: yes\n",
      "user019 uses server003, migration: yes\n",
      "user020 uses server003, migration: yes\n",
      "user021 uses server004, migration: yes\n",
      "user022 uses server004, migration: yes\n",
      "user023 uses server004, migration: yes\n",
      "user024 uses server004, migration: yes\n",
      "user025 uses server003, migration: no\n",
      "user026 uses server003, migration: no\n",
      "user027 uses server003, migration: no\n",
      "user028 uses server003, migration: no\n",
      "user029 uses server003, migration: no\n",
      "user030 uses server003, migration: no\n",
      "user031 uses server003, migration: no\n",
      "user032 uses server003, migration: no\n",
      "user033 uses server003, migration: no\n",
      "user034 uses server003, migration: no\n",
      "user035 uses server003, migration: no\n",
      "user036 uses server003, migration: no\n",
      "user037 uses server003, migration: no\n",
      "user038 uses server003, migration: no\n",
      "user039 uses server003, migration: no\n",
      "user040 uses server003, migration: no\n",
      "user041 uses server004, migration: no\n",
      "user042 uses server004, migration: no\n",
      "user043 uses server004, migration: no\n",
      "user044 uses server004, migration: no\n",
      "user045 uses server004, migration: no\n",
      "user046 uses server004, migration: no\n",
      "user047 uses server004, migration: no\n",
      "user048 uses server004, migration: no\n",
      "user049 uses server004, migration: no\n",
      "user050 uses server004, migration: no\n",
      "user051 uses server004, migration: no\n",
      "user052 uses server004, migration: no\n",
      "user053 uses server004, migration: no\n",
      "user054 uses server004, migration: no\n",
      "user055 uses server004, migration: yes\n",
      "user056 uses server003, migration: yes\n",
      "user057 uses server003, migration: yes\n",
      "user058 uses server004, migration: yes\n",
      "user059 uses server003, migration: yes\n",
      "user060 uses server003, migration: yes\n",
      "user061 uses server003, migration: yes\n",
      "user062 uses server004, migration: yes\n",
      "user063 uses server003, migration: yes\n",
      "user064 uses server004, migration: yes\n",
      "user065 uses server004, migration: yes\n",
      "user066 uses server003, migration: yes\n",
      "user067 uses server004, migration: yes\n",
      "user068 uses server003, migration: yes\n",
      "user069 uses server004, migration: yes\n",
      "user070 uses server003, migration: yes\n",
      "user071 uses server004, migration: yes\n",
      "user072 uses server004, migration: yes\n",
      "user073 uses server003, migration: yes\n",
      "user074 uses server004, migration: yes\n",
      "user075 uses server003, migration: yes\n",
      "user076 uses server004, migration: yes\n",
      "user077 uses server004, migration: yes\n",
      "user078 uses server004, migration: yes\n",
      "user079 uses server003, migration: yes\n",
      "user080 uses server004, migration: yes\n",
      "user081 uses server004, migration: yes\n",
      "user082 uses server004, migration: yes\n",
      "*** Servers sleeping processes ***\n",
      "Server: server003 #sleeping=82.0\n",
      "Server: server004 #sleeping=82.0\n"
     ]
    }
   ],
   "source": [
    "active_servers = sorted([s for s in servers if active_var_by_server[s].solution_value == 1])\n",
    "\n",
    "\n",
    "print(\"Active Servers: {}\".format(active_servers))\n",
    "\n",
    "print(\"*** User assignment ***\")\n",
    "\n",
    "for (u, s) in sorted(assign_user_to_server_vars):\n",
    "    if assign_user_to_server_vars[(u, s)].solution_value == 1:\n",
    "        print(\"{} uses {}, migration: {}\".format(u, s, \"yes\" if _is_migration(u, s) else \"no\"))\n",
    "print(\"*** Servers sleeping processes ***\")\n",
    "for s in active_servers:\n",
    "    sleeping = sum(assign_user_to_server_vars[u, s].solution_value * u.sleeping for u in users)\n",
    "    print(\"Server: {} #sleeping={}\".format(s, sleeping))"
   ]
  },
  {
   "cell_type": "markdown",
   "metadata": {},
   "source": [
    "## Summary\n",
    "\n",
    "\n",
    "You learned how to set up and use IBM Decision Optimization CPLEX Modeling for Python to formulate a Constraint Programming model and solve it with IBM Decision Optimization on Cloud."
   ]
  },
  {
   "cell_type": "markdown",
   "metadata": {
    "render": true
   },
   "source": [
    "#### References\n",
    "* [Decision Optimization CPLEX Modeling for Python documentation](http://ibmdecisionoptimization.github.io/docplex-doc/)\n",
    "* [IBM Decision Optimization](https://www.ibm.com/analytics/decision-optimization)\n",
    "* Need help with DOcplex or to report a bug? Please go [here](https://stackoverflow.com/questions/tagged/docplex).\n",
    "* Contact us at `IBM Community <https://ibm.biz/DOcommunity>`__.\n"
   ]
  },
  {
   "cell_type": "markdown",
   "metadata": {},
   "source": [
    "Copyright &copy; 2017-2022 IBM. IPLA licensed Sample Materials."
   ]
  },
  {
   "cell_type": "code",
   "execution_count": null,
   "metadata": {},
   "outputs": [],
   "source": []
  }
 ],
 "metadata": {
  "gist_id": "6011986",
  "kernelspec": {
   "display_name": "Python 3",
   "language": "python",
   "name": "python3"
  },
  "language_info": {
   "codemirror_mode": {
    "name": "ipython",
    "version": 3
   },
   "file_extension": ".py",
   "mimetype": "text/x-python",
   "name": "python",
   "nbconvert_exporter": "python",
   "pygments_lexer": "ipython3",
   "version": "3.7.8"
  }
 },
 "nbformat": 4,
 "nbformat_minor": 1
}
