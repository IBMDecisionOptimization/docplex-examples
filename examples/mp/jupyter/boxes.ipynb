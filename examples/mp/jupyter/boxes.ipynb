{
 "cells": [
  {
   "cell_type": "markdown",
   "metadata": {},
   "source": [
    "# Objects in boxes\n",
    "\n",
    "This tutorial includes everything you need to set up IBM Decision Optimization CPLEX Modeling for Python (DOcplex), build a Mathematical Programming model, and get its solution by solving the model on the cloud with IBM ILOG CPLEX Optimizer.\n",
    "\n",
    "When you finish this tutorial, you'll have a foundational knowledge of _Prescriptive Analytics_.\n",
    "\n",
    ">This notebook is part of [Prescriptive Analytics for Python](http://ibmdecisionoptimization.github.io/docplex-doc/)\n",
    ">\n",
    ">It requires either an [installation of CPLEX Optimizers](http://ibmdecisionoptimization.github.io/docplex-doc/getting_started.html) or it can be run on [IBM Cloud Pak for Data as a Service](https://www.ibm.com/products/cloud-pak-for-data/as-a-service/) (Sign up for a [free IBM Cloud account](https://dataplatform.cloud.ibm.com/registration/stepone?context=wdp&apps=all>)\n",
    "and you can start using `IBM Cloud Pak for Data as a Service` right away).\n",
    ">\n",
    "> CPLEX is available on <i>IBM Cloud Pack for Data</i> and <i>IBM Cloud Pak for Data as a Service</i>:\n",
    ">    - <i>IBM Cloud Pak for Data as a Service</i>: Depends on the runtime used:\n",
    ">         - <i>Python 3.x</i> runtime: Community edition\n",
    ">         - <i>Python 3.x + DO</i> runtime: full edition\n",
    ">    - <i>Cloud Pack for Data</i>: Community edition is installed by default. Please install `DO` addon in `Watson Studio Premium` for the full edition\n",
    "\n",
    "\n",
    "\n",
    "Table of contents:\n",
    "\n",
    "* [Describe the business problem](#Describe-the-business-problem)\n",
    "* [How decision optimization (prescriptive analytics) can help](#How--decision-optimization-can-help)\n",
    "* [Use decision optimization](#Use-decision-optimization)\n",
    "    * [Step 1: Import the library](#Step-1:-Import-the-library)\n",
    "    * [Step 2: Model the data](#Step-2:-Model-the-data)\n",
    "    * [Step 3: Prepare the data](#Step-3:-Prepare-the-data)\n",
    "    * [Step 4: Set up the prescriptive model](#Step-4:-Set-up-the-prescriptive-model)\n",
    "        * [Define the decision variables](#Define-the-decision-variables)\n",
    "        * [Express the business constraints](#Express-the-business-constraints)\n",
    "        * [Express the objective](#Express-the-objective)\n",
    "        * [Solve the model](#Solve-the-model)\n",
    "    * [Step 5: Investigate the solution and run an example analysis](#Step-5:-Investigate-the-solution-and-then-run-an-example-analysis)\n",
    "* [Summary](#Summary)\n",
    "\n",
    "****"
   ]
  },
  {
   "cell_type": "markdown",
   "metadata": {},
   "source": [
    "## Describe the business problem\n",
    "\n",
    "* We wish to put $N$ objects which are scattered in the plane, into a row of $N$ boxes.\n",
    "\n",
    "* Boxes are aligned from left to right (if $i < i'$, box $i$ is to the left of box $i'$) on the $x$ axis.\n",
    "* Box $i$ is located at a point $B_i$ of the $(x,y)$ plane and object $j$ is located at $O_j$.\n",
    "\n",
    "\n",
    "* We want to find an arrangement of objects such that:\n",
    "    * each box contains exactly one object,\n",
    "    * each object is stored in one box,\n",
    "    * the total distance from object $j$ to its storage box is minimal.\n",
    "\n",
    "\n",
    "* First, we solve the problem described, and then we add two new constraints and examine how the cost (and solution) changes.\n",
    "    * From the first solution, we impose that object #1 is assigned to the box immediately to the left of object #2.\n",
    "    * Then we impose that object #5 is assigned to a box next to the box of object #6."
   ]
  },
  {
   "cell_type": "markdown",
   "metadata": {},
   "source": [
    "## How  decision optimization can help\n",
    "\n",
    "* Prescriptive analytics (decision optimization) technology recommends actions that are based on desired outcomes.  It takes into account specific scenarios, resources, and knowledge of past and current events. With this insight, your organization can make better decisions and have greater control of business outcomes.  \n",
    "\n",
    "* Prescriptive analytics is the next step on the path to insight-based actions. It creates value through synergy with predictive analytics, which analyzes data to predict future outcomes.  \n",
    "\n",
    "* Prescriptive analytics takes that insight to the next level by suggesting the optimal way to handle that future situation. Organizations that can act fast in dynamic conditions and make superior decisions in uncertain environments gain a strong competitive advantage.  \n",
    "<br/>\n",
    "\n",
    "<u>With prescriptive analytics, you can:</u> \n",
    "\n",
    "* Automate the complex decisions and trade-offs to better manage your limited resources.\n",
    "* Take advantage of a future opportunity or mitigate a future risk.\n",
    "* Proactively update recommendations based on changing events.\n",
    "* Meet operational goals, increase customer loyalty, prevent threats and fraud, and optimize business processes."
   ]
  },
  {
   "cell_type": "markdown",
   "metadata": {},
   "source": [
    "## Use decision optimization"
   ]
  },
  {
   "cell_type": "markdown",
   "metadata": {},
   "source": [
    "### Step 1: Import the library\n",
    "\n",
    "Run the following code to import the Decision Optimization CPLEX Modeling library.  The *DOcplex* library contains the two modeling packages, Mathematical Programming and Constraint Programming, referred to earlier."
   ]
  },
  {
   "cell_type": "code",
   "execution_count": null,
   "metadata": {},
   "outputs": [],
   "source": [
    "import sys\n",
    "try:\n",
    "    import docplex.mp\n",
    "except:\n",
    "    raise Exception('Please install docplex. See https://pypi.org/project/docplex/')      "
   ]
  },
  {
   "cell_type": "markdown",
   "metadata": {},
   "source": [
    "If *CPLEX* is not installed, please install CPLEX Community edition."
   ]
  },
  {
   "cell_type": "code",
   "execution_count": null,
   "metadata": {},
   "outputs": [],
   "source": [
    "try:\n",
    "    import cplex\n",
    "except:\n",
    "    raise Exception('Please install CPLEX. See https://pypi.org/project/cplex/')"
   ]
  },
  {
   "cell_type": "markdown",
   "metadata": {},
   "source": [
    "### Step 2: Model the data\n",
    "\n",
    "The input data is the number of objects (and boxes) _N_, and their positions in the (x,y) plane.\n",
    "\n",
    "### Step 3: Prepare the data\n",
    "\n",
    "We use Euclidean distance to compute the distance between an object and its assigned box.\n",
    "\n"
   ]
  },
  {
   "cell_type": "code",
   "execution_count": null,
   "metadata": {},
   "outputs": [],
   "source": [
    "from math import sqrt\n",
    "\n",
    "N = 15\n",
    "box_range = range(1, N+1)\n",
    "obj_range = range(1, N+1)\n",
    "\n",
    "import random\n",
    "\n",
    "o_xmax = N*10\n",
    "o_ymax = 2*N\n",
    "box_coords = {b: (10*b, 1) for b in box_range}\n",
    "\n",
    "obj_coords= {1: (140, 6), 2: (146, 8), 3: (132, 14), 4: (53, 28), \n",
    "             5: (146, 4), 6: (137, 13), 7: (95, 12), 8: (68, 9), 9: (102, 18), \n",
    "             10: (116, 8), 11: (19, 29), 12: (89, 15), 13: (141, 4), 14: (29, 4), 15: (4, 28)}\n",
    "\n",
    "# the distance matrix from box i to object j\n",
    "# actually we compute the square of distance to keep integer\n",
    "# this does not change the essence of the problem\n",
    "distances = {}\n",
    "for o in obj_range:\n",
    "    for b in box_range:\n",
    "        dx = obj_coords[o][0]-box_coords[b][0]\n",
    "        dy = obj_coords[o][1]-box_coords[b][1]\n",
    "        d2 = dx*dx + dy*dy\n",
    "        distances[b, o] = d2"
   ]
  },
  {
   "cell_type": "markdown",
   "metadata": {},
   "source": [
    "### Step 4: Set up the prescriptive model"
   ]
  },
  {
   "cell_type": "code",
   "execution_count": null,
   "metadata": {},
   "outputs": [],
   "source": [
    "from docplex.mp.environment import Environment\n",
    "env = Environment()\n",
    "env.print_information()"
   ]
  },
  {
   "cell_type": "markdown",
   "metadata": {},
   "source": [
    "#### Create the DOcplex model\n",
    "The model contains all the business constraints and defines the objective."
   ]
  },
  {
   "cell_type": "code",
   "execution_count": null,
   "metadata": {},
   "outputs": [],
   "source": [
    "from docplex.mp.model import Model\n",
    "\n",
    "mdl = Model(name=\"boxes\")"
   ]
  },
  {
   "cell_type": "markdown",
   "metadata": {},
   "source": [
    "#### Define the decision variables\n",
    "\n",
    "* For each box $i$ ($i$ in $1..N$) and object $j$ ($j$ in $1..N$), we define a binary variable $X_{i,j}$ equal to $1$ if and only if object $j$ is stored in box $i$.\n",
    "\n",
    "Note that the $name$ parameter is actually a function, this function takes a key pair $ij$ and coins a new name for each corresponding variables. The $name$ parameter also acceptsa string prefix, in which case, Docplex will generate names by  concatenating the prefix with the string representation of keys."
   ]
  },
  {
   "cell_type": "code",
   "execution_count": null,
   "metadata": {},
   "outputs": [],
   "source": [
    "# decision variables is a 2d-matrix\n",
    "x = mdl.binary_var_matrix(box_range, obj_range, name=lambda ij: \"x_%d_%d\" %(ij[0], ij[1]))"
   ]
  },
  {
   "cell_type": "markdown",
   "metadata": {},
   "source": [
    "#### Express the business constraints\n",
    "\n",
    "* The sum of $X_{i,j}$ over both rows and columns must be equal to $1$, resulting in $2\\times N$ constraints."
   ]
  },
  {
   "cell_type": "code",
   "execution_count": null,
   "metadata": {},
   "outputs": [],
   "source": [
    "# one object per box\n",
    "mdl.add_constraints(mdl.sum(x[i,j] for j in obj_range) == 1\n",
    "                   for i in box_range)\n",
    "    \n",
    "# one box for each object\n",
    "mdl.add_constraints(mdl.sum(x[i,j] for i in box_range) == 1 for j in obj_range)\n",
    "\n",
    "mdl.print_information()"
   ]
  },
  {
   "cell_type": "markdown",
   "metadata": {},
   "source": [
    "#### Express the objective\n",
    "\n",
    "* The objective is to minimize the total distance between each object and its storage box."
   ]
  },
  {
   "cell_type": "code",
   "execution_count": null,
   "metadata": {},
   "outputs": [],
   "source": [
    "# minimize total displacement\n",
    "mdl.minimize( mdl.dotf(x, lambda ij: distances[ij]))"
   ]
  },
  {
   "cell_type": "markdown",
   "metadata": {},
   "source": [
    "#### Solve the model\n"
   ]
  },
  {
   "cell_type": "code",
   "execution_count": null,
   "metadata": {
    "scrolled": true
   },
   "outputs": [],
   "source": [
    "mdl.print_information()\n",
    "\n",
    "assert mdl.solve(log_output=True), \"!!! Solve of the model fails\""
   ]
  },
  {
   "cell_type": "code",
   "execution_count": null,
   "metadata": {},
   "outputs": [],
   "source": [
    "mdl.report()\n",
    "d1 = mdl.objective_value\n",
    "#mdl.print_solution()\n",
    "\n",
    "def make_solution_vector(x_vars):\n",
    "    sol = [0]* N\n",
    "    for i in box_range:\n",
    "        for j in obj_range:\n",
    "            if x[i,j].solution_value >= 0.5:\n",
    "                sol[i-1] = j\n",
    "                break\n",
    "    return sol\n",
    "\n",
    "def make_obj_box_dir(sol_vec):\n",
    "    # sol_vec contains an array of objects in box order at slot b-1 we have obj(b)\n",
    "    return { sol_vec[b]: b+1 for b in range(N)}\n",
    "    \n",
    "               \n",
    "sol1 = make_solution_vector(x)\n",
    "print(\"* solution: {0!s}\".format(sol1))          "
   ]
  },
  {
   "cell_type": "markdown",
   "metadata": {},
   "source": [
    "#### Additional constraint #1\n",
    "\n",
    "As an additional constraint, we want to impose that object #1 is stored immediately to the left of object #2.\n",
    "As a consequence, object #2 cannot be stored in box #1, so we add:"
   ]
  },
  {
   "cell_type": "code",
   "execution_count": null,
   "metadata": {},
   "outputs": [],
   "source": [
    "mdl.add_(x[1,2] == 0)"
   ]
  },
  {
   "cell_type": "markdown",
   "metadata": {},
   "source": [
    "Now, we must state that for $k \\geq 2$ if $x[k,2] == 1$ then $x[k-1,1] == 1$; this is a logical implication that we express by a relational operator:"
   ]
  },
  {
   "cell_type": "code",
   "execution_count": null,
   "metadata": {},
   "outputs": [],
   "source": [
    "mdl.add_constraints(x[k-1,1] >= x[k,2]\n",
    "                   for k in range(2,N+1))\n",
    "mdl.print_information()"
   ]
  },
  {
   "cell_type": "markdown",
   "metadata": {},
   "source": [
    "Now let's solve again and check that our new constraint is satisfied, that is, object #1 is immediately left to object #2"
   ]
  },
  {
   "cell_type": "code",
   "execution_count": null,
   "metadata": {},
   "outputs": [],
   "source": [
    "s2 = mdl.solve()\n",
    "assert s2, \"solve failed\"\n",
    "mdl.report()\n",
    "d2 = mdl.objective_value\n",
    "sol2 = make_solution_vector(x)\n",
    "print(\" solution #2 ={0!s}\".format(sol2))"
   ]
  },
  {
   "cell_type": "markdown",
   "metadata": {},
   "source": [
    "The constraint is indeed satisfied, with a higher objective, as expected."
   ]
  },
  {
   "cell_type": "markdown",
   "metadata": {},
   "source": [
    "#### Additional constraint #2\n",
    "\n",
    "Now, we want to add a second constraint to state that object #5 is stored in a box that is next to the box of object #6, either to the left or right.\n",
    "\n",
    "In other words, when $x[k,6]$ is equal to $1$, then one of $x[k-1,5]$ and $x[k+1,5]$ is equal to $1$;\n",
    "this is again a logical implication, with an OR in the right side.\n",
    "\n",
    "We have to handle the case of extremities with care."
   ]
  },
  {
   "cell_type": "code",
   "execution_count": null,
   "metadata": {},
   "outputs": [],
   "source": [
    "# forall k in 2..N-1 then we can use the sum on the right hand side\n",
    "mdl.add_constraints(x[k,6] <= x[k-1,5] + x[k+1,5] for k in range(2,N))\n",
    "    \n",
    "# if 6 is in box 1 then 5 must be in 2\n",
    "mdl.add_constraint(x[1,6] <= x[2,5])\n",
    "\n",
    "# if 6 is last, then 5 must be before last\n",
    "mdl.add_constraint(x[N,6] <= x[N-1,5])\n",
    "\n",
    "# we solve again\n",
    "s3 = mdl.solve()\n",
    "assert s3, \"solve failed\"\n",
    "mdl.report()\n",
    "d3 = mdl.objective_value\n",
    "\n",
    "sol3 = make_solution_vector(x)\n",
    "print(\" solution #3 ={0!s}\".format(sol3)) "
   ]
  },
  {
   "cell_type": "markdown",
   "metadata": {},
   "source": [
    "As expected, the constraint is satisfied; objects #5 and #6 are next to each other.\n",
    "Predictably, the objective is higher.\n",
    "\n",
    "### Step 5: Investigate the solution and then run an example analysis\n",
    "\n",
    "Present the solution as a vector of object indices, sorted by box indices.\n",
    "We use maptplotlib to display the assignment of objects to boxes.\n"
   ]
  },
  {
   "cell_type": "code",
   "execution_count": null,
   "metadata": {},
   "outputs": [],
   "source": [
    "try:\n",
    "    import matplotlib.pyplot as plt\n",
    "    from pylab import rcParams\n",
    "    %matplotlib inline\n",
    "    rcParams['figure.figsize'] = 12, 6\n",
    "    \n",
    "    def display_solution(sol):\n",
    "        obj_boxes = make_obj_box_dir(sol)\n",
    "        xs = []\n",
    "        ys = []\n",
    "        for o in obj_range:\n",
    "            b = obj_boxes[o]\n",
    "            box_x = box_coords[b][0]\n",
    "            box_y = box_coords[b][1]\n",
    "            obj_x = obj_coords[o][0]\n",
    "            obj_y = obj_coords[o][1]\n",
    "            plt.text(obj_x, obj_y, str(o), bbox=dict(facecolor='red', alpha=0.5))\n",
    "            plt.plot([obj_x, box_x], [obj_y, box_y])\n",
    "\n",
    "except ImportError:\n",
    "    print(\"matplotlib not found, nothing will be displayed\")\n",
    "    plt = None\n",
    "    def display_solution(sol):   pass\n"
   ]
  },
  {
   "cell_type": "markdown",
   "metadata": {},
   "source": [
    "The first solution shows no segments crossing, which is to be expected."
   ]
  },
  {
   "cell_type": "code",
   "execution_count": null,
   "metadata": {},
   "outputs": [],
   "source": [
    "display_solution(sol1)"
   ]
  },
  {
   "cell_type": "markdown",
   "metadata": {},
   "source": [
    "The second solution, by enforcing that object #1 must be to the left of object #2, introduces crossings."
   ]
  },
  {
   "cell_type": "code",
   "execution_count": null,
   "metadata": {},
   "outputs": [],
   "source": [
    "display_solution(sol2)"
   ]
  },
  {
   "cell_type": "code",
   "execution_count": null,
   "metadata": {},
   "outputs": [],
   "source": [
    "display_solution(sol3)"
   ]
  },
  {
   "cell_type": "code",
   "execution_count": null,
   "metadata": {},
   "outputs": [],
   "source": [
    "\n",
    "def display(myDict, title):\n",
    "    if True: #env.has_matplotlib:\n",
    "        N = len(myDict)\n",
    "        labels = myDict.keys()\n",
    "        values= myDict.values()\n",
    "\n",
    "        try: # Python 2\n",
    "            ind = xrange(N)  # the x locations for the groups\n",
    "        except: # Python 3\n",
    "            ind = range(N)\n",
    "        width = 0.2      # the width of the bars\n",
    "\n",
    "        fig, ax = plt.subplots()\n",
    "        rects1 = ax.bar(ind, values, width, color='g')\t\n",
    "        ax.set_title(title)\n",
    "        ax.set_xticks([ind[i]+width/2 for i in ind])\n",
    "        ax.set_xticklabels( labels )\t\n",
    "        #ax.legend( (rects1[0]), (title) )\n",
    "\n",
    "        plt.show()\n",
    "    else:\n",
    "        print(\"warning: no display\")\n",
    "        \n",
    "from collections import OrderedDict\n",
    "dists = OrderedDict()\n",
    "dists[\"d1\"]= d1 -8000\n",
    "dists[\"d2\"] = d2 - 8000\n",
    "dists[\"d3\"] = d3 - 8000\n",
    "print(dists)\n",
    "\n",
    "display(dists, \"evolution of distance objective\")"
   ]
  },
  {
   "cell_type": "markdown",
   "metadata": {
    "collapsed": true
   },
   "source": [
    "## Summary\n",
    "\n",
    "You learned how to set up and use IBM Decision Optimization CPLEX Modeling for Python to formulate a Mathematical Programming model and solve it with CPLEX."
   ]
  },
  {
   "cell_type": "markdown",
   "metadata": {},
   "source": [
    "## References\n",
    "* [CPLEX Modeling for Python documentation](http://ibmdecisionoptimization.github.io/docplex-doc/)\n",
    "* [IBM Decision Optimization](https://www.ibm.com/analytics/decision-optimization)\n",
    "* Need help with DOcplex or to report a bug? Please go [here](https://stackoverflow.com/questions/tagged/docplex).\n",
    "* Contact us at `IBM Community <https://ibm.biz/DOcommunity>`__."
   ]
  },
  {
   "cell_type": "markdown",
   "metadata": {},
   "source": [
    "Copyright &copy; 2017-2022 IBM. IPLA licensed Sample Materials."
   ]
  },
  {
   "cell_type": "code",
   "execution_count": null,
   "metadata": {},
   "outputs": [],
   "source": []
  }
 ],
 "metadata": {
  "kernelspec": {
   "display_name": "Python 3",
   "language": "python",
   "name": "python3"
  },
  "language_info": {
   "codemirror_mode": {
    "name": "ipython",
    "version": 3
   },
   "file_extension": ".py",
   "mimetype": "text/x-python",
   "name": "python",
   "nbconvert_exporter": "python",
   "pygments_lexer": "ipython3",
   "version": "3.7.8"
  }
 },
 "nbformat": 4,
 "nbformat_minor": 1
}
