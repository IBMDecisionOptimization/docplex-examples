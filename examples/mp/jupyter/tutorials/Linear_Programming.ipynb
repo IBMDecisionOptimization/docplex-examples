{
 "cells": [
  {
   "cell_type": "markdown",
   "metadata": {},
   "source": [
    "# Tutorial: Linear Programming, (CPLEX Part 1)\n",
    "\n",
    "\n",
    "This notebook gives an overview of Linear Programming (or LP). After completing this unit, you should be able to \n",
    "- describe the characteristics of an LP in terms of the objective, decision variables and constraints, \n",
    "- formulate a simple LP model on paper, \n",
    "- conceptually explain some standard terms related to LP, such as dual, feasible region, infeasible, unbounded, slack, reduced cost, and degenerate.  \n",
    "    \n",
    "You should also be able to describe some of the algorithms used to solve LPs, explain what presolve does, and recognize the elements of an LP in a basic DOcplex model.\n",
    "\n",
    "\n",
    ">This notebook is part of **[Prescriptive Analytics for Python](http://ibmdecisionoptimization.github.io/docplex-doc/)**\n",
    ">\n",
    ">It requires either an [installation of CPLEX Optimizers](http://ibmdecisionoptimization.github.io/docplex-doc/getting_started.html) or it can be run on [IBM Cloud Pak for Data as a Service](https://www.ibm.com/products/cloud-pak-for-data/as-a-service/) (Sign up for a [free IBM Cloud account](https://dataplatform.cloud.ibm.com/registration/stepone?context=wdp&apps=all>)\n",
    "and you can start using `IBM Cloud Pak for Data as a Service` right away).\n",
    ">\n",
    "> CPLEX is available on <i>IBM Cloud Pack for Data</i> and <i>IBM Cloud Pak for Data as a Service</i>:\n",
    ">    - <i>IBM Cloud Pak for Data as a Service</i>: Depends on the runtime used:\n",
    ">         - <i>Python 3.x</i> runtime: Community edition\n",
    ">         - <i>Python 3.x + DO</i> runtime: full edition\n",
    ">    - <i>Cloud Pack for Data</i>: Community edition is installed by default. Please install the `DO` addon in `Watson Studio Premium` for the full edition\n",
    "\n",
    "\n",
    "\n",
    "Table of contents:\n",
    "\n",
    "* [Introduction to Linear Programming](#Introduction-to-Linear-Programming)\n",
    "* [Example: a production problem](#Example:-a-production-problem)\n",
    "* [CPLEX Modeling for Python](#Use-IBM-Decision-Optimization-CPLEX-Modeling-for-Python)\n",
    "* [Algorithms for solving LPs](#Algorithms-for-solving-LPs)\n",
    "* [Summary](#Summary)\n",
    "* [References](#References)"
   ]
  },
  {
   "cell_type": "markdown",
   "metadata": {},
   "source": [
    "# Introduction to Linear Programming\n",
    "\n",
    "In this topic, you’ll learn what the basic characteristics of a linear program are."
   ]
  },
  {
   "cell_type": "markdown",
   "metadata": {},
   "source": [
    "## What is Linear Programming?\n",
    "\n",
    "Linear programming deals with the maximization (or minimization) of a linear objective function, subject to linear constraints, where all the decision variables are continuous. That is, no discrete variables are allowed. The linear objective and constraints must consist of linear expressions. \n",
    "\n",
    "## What is a linear expression?\n",
    "\n",
    "A linear expression is a scalar product, for example, the expression:\n",
    "\n",
    "$$\n",
    "\\sum{a_i x_i}\n",
    "$$\n",
    "where a_i represents constants (that is, data) and x_i represents variables or unknowns.\n",
    "\n",
    "Such an expression can also be written in short form as a vector product:\n",
    "\n",
    "$$^{t}A X\n",
    "$$\n",
    "\n",
    "where $A$ is the vector of constants and $X$ is the vector of variables.\n",
    "\n",
    "*Note*: Nonlinear terms that involve variables (such as x and y) are not allowed in linear expressions. \n",
    "Terms that are not allowed in linear expressions include \n",
    "- multiplication of two or more variables (such as x times y), \n",
    "- quadratic and higher order terms (such as x squared or x cubed), \n",
    "- exponents, \n",
    "- logarithms,\n",
    "- absolute values.\n"
   ]
  },
  {
   "cell_type": "markdown",
   "metadata": {},
   "source": [
    "## What is a linear constraint?\n",
    "\n",
    "A linear constraint is expressed by an equality or inequality as follows:\n",
    "- $linear\\_expression = linear\\_expression$\n",
    "- $linear\\_expression \\le linear\\_expression$\n",
    "- $linear\\_expression \\ge linear\\_expression$\n",
    "\n",
    "Any linear constraint can be rewritten as one or two expressions of the type linear expression is less than or equal to zero.\n",
    "\n",
    "Note that *strict* inequality operators (that is, $>$ and $<$) are not allowed in linear constraints. \n"
   ]
  },
  {
   "cell_type": "markdown",
   "metadata": {},
   "source": [
    "## What is a continuous variable?\n",
    "\n",
    "A variable (or _decision_ variable) is an unknown of the problem. Continuous variables are variables the set of real numbers (or an interval). \n",
    "\n",
    "Restrictions on their values that create discontinuities, for example a restriction that a variable should take integer values, are not allowed. "
   ]
  },
  {
   "cell_type": "markdown",
   "metadata": {},
   "source": [
    "## Symbolic representation of an LP\n",
    "\n",
    "A typical symbolic representation of a Linear Programming is as follows:\n",
    "\n",
    "$\n",
    "minimize \\sum c_{i} x_{i}\\\\\n",
    "\\\\\n",
    "subject\\ to:\\\\\n",
    "\\ a_{11}x_{1} + a_{12} x_{2} ... + a_{1n} x_{n} \\ge b_{1}\\\\\n",
    "\\ a_{21}x_{1} + a_{22} x_{2} ... + a_{2n} x_{n} \\ge b_{2}\\\\\n",
    "...\n",
    "\\ a_{m1}x_{1} + a_{m2} x_{2} ... + a_{mn} x_{n} \\ge b_{m}\\\\\n",
    "x_{1}, x_{2}...x_{n} \\ge 0\n",
    "$\n",
    "\n",
    "This can be written in a concise form using matrices and vectors as:\n",
    "\n",
    "$\n",
    "min\\ C^{t}x\\\\\n",
    "s.\\ t.\\ Ax \\ge B\\\\\n",
    "x \\ge 0\n",
    "$\n",
    "\n",
    "Where $x$ denotes the vector of variables with size $n$, $A$ denotes the matrix of constraint coefficients, with $m$ rows and $n$ columns and $B$ is a vector of numbers with size $m$.\n"
   ]
  },
  {
   "cell_type": "markdown",
   "metadata": {},
   "source": [
    "## Characteristics of a linear program\n",
    "<p>\n",
    "<ul>\n",
    "<img src = \"https://ibmdecisionoptimization.github.io/tutorials/jupyter/training/1.png?raw=true\" >\n",
    "</ul> "
   ]
  },
  {
   "cell_type": "markdown",
   "metadata": {},
   "source": [
    "# Example: a production problem\n",
    "\n",
    "In this topic, you’ll analyze a simple production problem in terms of decision variables, the objective function, and constraints.  \n",
    "You’ll learn how to write an LP formulation of this problem, and how to construct a graphical representation of the model.  You’ll also learn what feasible, optimal, infeasible, and unbounded mean in the context of LP.\n",
    "\n",
    "## Problem description: telephone production\n",
    "\n",
    "A telephone company produces and sells two kinds of telephones, namely desk phones and cellular phones. \n",
    "\n",
    "Each type of phone is assembled and painted by the company. The objective is to maximize profit, and the company has to produce at least 100 of each type of phone.\n",
    "\n",
    "There are limits in terms of the company’s production capacity, and the company has to calculate the optimal number of each type of phone to produce, while not exceeding the capacity of the plant.\n",
    "\n",
    "## Writing a descriptive model\n",
    "\n",
    "It is good practice to start with a descriptive model before attempting to write a mathematical model.  In order to come up with a descriptive model, you should consider what the decision variables, objectives, and constraints for the business problem are, and write these down in words.\n",
    "\n",
    "\n",
    "In order to come up with a descriptive model, consider the following questions:\n",
    "- What are the decision variables? \n",
    "- What is the objective? \n",
    "- What are the constraints? \n",
    "\n"
   ]
  },
  {
   "cell_type": "markdown",
   "metadata": {},
   "source": [
    "## Telephone production: a descriptive model\n",
    "\n",
    "A possible descriptive model of the telephone production problem is as follows:\n",
    "- Decision variables:\n",
    "    - Number of desk phones produced (DeskProduction)\n",
    "    - Number of cellular phones produced (CellProduction)\n",
    "- Objective: Maximize profit\n",
    "- Constraints:\n",
    "    1. The DeskProduction should be greater than or equal to 100.\n",
    "    2. The CellProduction should be greater than or equal to 100.\n",
    "    3. The assembly time for DeskProduction plus the assembly time for CellProduction should not exceed 400 hours.\n",
    "    4. The painting time for DeskProduction plus the painting time for CellProduction should not exceed 490 hours.\n"
   ]
  },
  {
   "cell_type": "markdown",
   "metadata": {},
   "source": [
    "## Writing a mathematical model\n",
    "\n",
    "Convert the descriptive model into a mathematical model:\n",
    "- Use the two decision variables DeskProduction and CellProduction\n",
    "- Use the data given in the problem description (remember to convert minutes to hours where appropriate)\n",
    "- Write the objective as a mathematical expression\n",
    "- Write the constraints as mathematical expressions (use “=”, “<=”, or “>=”, and name the constraints to describe their purpose)\n",
    "- Define the domain for the decision variables\n",
    "\n",
    "### Telephone production: a mathematical model\n",
    "\n",
    "To express the last two constraints, we model assembly time and painting time as linear combinations of the two productions, resulting in the following mathematical model:\n",
    "\n",
    "$\n",
    "maximize:\\\\\n",
    "\\ \\ 12\\ desk\\_production + 20\\ cell\\_production\\\\\n",
    "subject\\ to: \\\\\n",
    "\\ \\   desk\\_production >= 100 \\\\\n",
    "\\ \\   cell\\_production >= 100 \\\\\n",
    "\\ \\   0.2\\ desk\\_production + 0.4\\ cell\\_production <= 400 \\\\\n",
    "\\ \\   0.5\\ desk\\_production + 0.4\\ cell\\_production <= 490 \\\\\n",
    "$\n",
    "\n",
    "### Using DOcplex to formulate the mathematical model in Python\n",
    "\n",
    "Use the [DOcplex](http://ibmdecisionoptimization.github.io/docplex-doc/) Python library to write the mathematical model in Python.\n",
    "This is done in four steps:\n",
    "\n",
    "- create a instance of docplex.mp.Model to hold all model objects\n",
    "- create decision variables,\n",
    "- create linear constraints,\n",
    "- finally, define the objective.\n",
    "\n",
    "But first, we have to import the class `Model` from the docplex module."
   ]
  },
  {
   "cell_type": "markdown",
   "metadata": {},
   "source": [
    "## Use IBM Decision Optimization CPLEX Modeling for Python\n",
    "\n",
    "Let's use the DOcplex Python library to write the mathematical model in Python."
   ]
  },
  {
   "cell_type": "markdown",
   "metadata": {},
   "source": [
    "### Step 1: Download the library\n",
    "\n",
    "Install `CPLEX` (Community Edition) and `docplex` if they are not installed.\n",
    "\n",
    "In `IBM Cloud Pak for Data as a Service` notebooks, `CPLEX` and `docplex` are preinstalled."
   ]
  },
  {
   "cell_type": "code",
   "execution_count": null,
   "metadata": {},
   "outputs": [],
   "source": [
    "import sys\n",
    "try:\n",
    "    import cplex\n",
    "except:\n",
    "    if hasattr(sys, 'real_prefix'):\n",
    "        #we are in a virtual env.\n",
    "        !pip install cplex\n",
    "    else:\n",
    "        !pip install --user cplex"
   ]
  },
  {
   "cell_type": "markdown",
   "metadata": {},
   "source": [
    "Installs `DOcplex`if needed"
   ]
  },
  {
   "cell_type": "code",
   "execution_count": null,
   "metadata": {},
   "outputs": [],
   "source": [
    "import sys\n",
    "try:\n",
    "    import docplex.mp\n",
    "except:\n",
    "    if hasattr(sys, 'real_prefix'):\n",
    "        #we are in a virtual env.\n",
    "        !pip install docplex\n",
    "    else:\n",
    "        !pip install --user docplex"
   ]
  },
  {
   "cell_type": "markdown",
   "metadata": {},
   "source": [
    "If either `CPLEX` or `docplex` where installed in the steps above, you will need to restart your jupyter kernel for the changes to be taken into account."
   ]
  },
  {
   "cell_type": "markdown",
   "metadata": {},
   "source": [
    "### Step 2: Set up the prescriptive model\n",
    "#### Create the model\n",
    "\n",
    "All objects of the model belong to one model instance."
   ]
  },
  {
   "cell_type": "code",
   "execution_count": null,
   "metadata": {},
   "outputs": [],
   "source": [
    "# first import the Model class from docplex.mp\n",
    "from docplex.mp.model import Model\n",
    "\n",
    "# create one model instance, with a name\n",
    "m = Model(name='telephone_production')"
   ]
  },
  {
   "cell_type": "markdown",
   "metadata": {},
   "source": [
    "#### Define the decision variables\n",
    "- The continuous variable `desk` represents the production of desk telephones.\n",
    "- The continuous variable `cell` represents the production of cell phones."
   ]
  },
  {
   "cell_type": "code",
   "execution_count": null,
   "metadata": {},
   "outputs": [],
   "source": [
    "# by default, all variables in Docplex have a lower bound of 0 and infinite upper bound\n",
    "desk = m.continuous_var(name='desk')\n",
    "cell = m.continuous_var(name='cell')"
   ]
  },
  {
   "cell_type": "markdown",
   "metadata": {},
   "source": [
    "#### Set up the constraints\n",
    "- Desk and cell phone must both be greater than 100\n",
    "- Assembly time is limited\n",
    "- Painting time is limited."
   ]
  },
  {
   "cell_type": "code",
   "execution_count": null,
   "metadata": {},
   "outputs": [],
   "source": [
    "# write constraints\n",
    "# constraint #1: desk production is greater than 100\n",
    "m.add_constraint(desk >= 100)\n",
    "\n",
    "# constraint #2: cell production is greater than 100\n",
    "m.add_constraint(cell >= 100)\n",
    "\n",
    "# constraint #3: assembly time limit\n",
    "ct_assembly = m.add_constraint( 0.2 * desk + 0.4 * cell <= 400)\n",
    "\n",
    "# constraint #4: paiting time limit\n",
    "ct_painting = m.add_constraint( 0.5 * desk + 0.4 * cell <= 490)"
   ]
  },
  {
   "cell_type": "markdown",
   "metadata": {},
   "source": [
    "#### Express the objective\n",
    "\n",
    "We want to maximize the expected revenue."
   ]
  },
  {
   "cell_type": "code",
   "execution_count": null,
   "metadata": {},
   "outputs": [],
   "source": [
    "m.maximize(12 * desk + 20 * cell)"
   ]
  },
  {
   "cell_type": "markdown",
   "metadata": {},
   "source": [
    "A few remarks about how we formulated the mathemtical model in Python using DOcplex:\n",
    "- all arithmetic operations (+, \\*, \\-) are done using Python operators\n",
    "- comparison operators used in writing linear constraint use Python comparison operators too.\n",
    "\n",
    "#### Print information about the model\n",
    "\n",
    "We can print information about the model to see how many objects of each type it holds:"
   ]
  },
  {
   "cell_type": "code",
   "execution_count": null,
   "metadata": {},
   "outputs": [],
   "source": [
    "m.print_information()"
   ]
  },
  {
   "cell_type": "markdown",
   "metadata": {},
   "source": [
    "### Graphical representation of a Linear Problem\n",
    "\n",
    "A simple 2-dimensional LP (with 2 decision variables) can be represented graphically using a x- and y-axis. \n",
    "\n",
    "This is often done to demonstrate optimization concepts. \n",
    "\n",
    "To do this, follow these steps:\n",
    "- Assign one variable to the x-axis and the other to the y-axis.\n",
    "- Draw each of the constraints as you would draw any line in 2 dimensions.\n",
    "- Use the signs of the constraints (=, <= or >=) to determine which side of each line falls within the feasible region (allowable solutions).\n",
    "- Draw the objective function as you would draw any line in 2 dimensions, by substituting any value for the objective (for example, 12 * DeskProduction + 20 * CellProduction = 4000) \n"
   ]
  },
  {
   "cell_type": "markdown",
   "metadata": {},
   "source": [
    "#### Feasible set of solutions\n",
    "\n",
    "<p>\n",
    "<ul>\n",
    "<img src = \"https://ibmdecisionoptimization.github.io/tutorials/jupyter/training/19.png?raw=true\" >\n",
    "</ul> \n",
    "\n",
    "This graphic shows the feasible region for the telephone problem.  \n",
    "Recall that the feasible region of an LP is the region delimited by the constraints, and it represents all feasible solutions. In this graphic, the variables DeskProduction and CellProduction are abbreviated to be desk and cell instead.  Look at this diagram and search intuitively for the optimal solution.  That is, which combination of desk and cell phones will yield the highest profit.  \n"
   ]
  },
  {
   "cell_type": "markdown",
   "metadata": {},
   "source": [
    "#### The optimal solution\n",
    "\n",
    "<p>\n",
    "<ul>\n",
    "<img src = \"https://ibmdecisionoptimization.github.io/tutorials/jupyter/training/20.png?raw=true\" >\n",
    "</ul> \n",
    "\n",
    " To find the optimal solution to the LP, you must find values for the decision variables, within the feasible region, that maximize profit as defined by the objective function. In this problem, the objective function is to maximize \n",
    " $$12 * desk + 20 * cell\n",
    " $$\n",
    "\n",
    "To do this, first draw a line representing the objective by substituting a value for the objective.  \n",
    "\n",
    "Next move the line up (because this is a maximization problem) to find the point where the line last touches the feasible region.  Note that all the solutions on one objective line, such as AB, yield the same objective value.  Other values of the objective will be found along parallel lines (such as line CD). \n",
    "\n",
    "In a profit maximizing problem such as this one, these parallel lines are often called isoprofit lines, because all the points along such a line represent the same profit. In a cost minimization problem, they are known as isocost lines. Since all isoprofit lines have the same slope, you can find all other isoprofit lines by pushing the objective value further out, moving in parallel, until the isoprofit lines no longer intersect the feasible region. The last isoprofit line that touches the feasible region defines the largest (therefore maximum) possible value of the objective function. In the case of the telephone production problem, this is found along line EF. \n",
    "\n",
    "The optimal solution of a linear program always belongs to an extreme point of the feasible region (that is, at a vertex or an edge).\n"
   ]
  },
  {
   "cell_type": "markdown",
   "metadata": {},
   "source": [
    "### Solve with the model\n",
    "\n",
    "If you're using a Community Edition of CPLEX runtimes, depending on the size of the problem, the solve stage may fail and will need a paying subscription or product installation. \n",
    "\n",
    "In any case, `Model.solve()` returns a solution object in Python, containing the optimal values of decision variables, if the solve succeeds, or else it returns `None`."
   ]
  },
  {
   "cell_type": "code",
   "execution_count": null,
   "metadata": {},
   "outputs": [],
   "source": [
    "s = m.solve()\n",
    "m.print_solution()"
   ]
  },
  {
   "cell_type": "markdown",
   "metadata": {},
   "source": [
    "In this case, CPLEX has found an optimal solution at (300, 850). You can check that this point is indeed an extreme point of the feasible region."
   ]
  },
  {
   "cell_type": "markdown",
   "metadata": {},
   "source": [
    "### Multiple Optimal Solutions\n",
    "\n",
    "It is possible that an LP has multiple optimal solutions. \n",
    "At least one optimal solution will be at a vertex.\n",
    "By default, the CPLEX® Optimizer reports the first optimal solution found. \n"
   ]
  },
  {
   "cell_type": "markdown",
   "metadata": {},
   "source": [
    "#### Example of multiple optimal solutions\n",
    "\n",
    "<p>\n",
    "<ul>\n",
    "<img src = \"https://ibmdecisionoptimization.github.io/tutorials/jupyter/training/22.png?raw=true\" >\n",
    "</ul> \n",
    "\n",
    "This graphic shows an example of an LP with multiple optimal solutions.  This can happen when the slope of the objective function is the same as the slope of one of the constraints, in this case line AB.  All the points on line AB are optimal solutions, with the same objective value, because they are all extreme points within the feasible region.\n"
   ]
  },
  {
   "cell_type": "markdown",
   "metadata": {},
   "source": [
    "### Binding and nonbinding constraints\n",
    "\n",
    "A constraint is binding if the constraint becomes an equality when the solution values are substituted.\n",
    "\n",
    "Graphically, binding constraints are constraints where the optimal solution lies exactly on the line representing that constraint. \n",
    "\n",
    "In the telephone production problem, the constraint limiting time on the assembly machine is binding:\n",
    "\n",
    "$$\n",
    "\t0.2desk + 0.4 cell <=  400\\\\\n",
    "    desk = 300\u000b",
    "cell = 850\u000b",
    "0.2(300) + 0.4(850) = 400\n",
    "$$\n",
    "\n",
    "The same is true for the time limit on the painting machine:\n",
    "\n",
    "$$\n",
    "\t0.5desk + 0.4cell  <= 490\u000b",
    "0.5(300) + 0.4(850) = 490 \n",
    "$$\n",
    "\n",
    "On the other hand, the requirement that at least 100 of each telephone type be produced is nonbinding because the left and right hand sides are not equal:\n",
    "\n",
    "$$\n",
    "\tdesk >= 100\\\\\n",
    "    300 \\neq 100\n",
    "$$\n",
    "\n"
   ]
  },
  {
   "cell_type": "markdown",
   "metadata": {},
   "source": [
    "### Infeasibility\n",
    "\n",
    "A model is infeasible when no solution exists that satisfies all the constraints. This may be because:\n",
    "The model formulation is incorrect.\n",
    "The data is incorrect.\n",
    "The model and data are correct, but represent a real-world conflict in the system being modeled.\n",
    "\n",
    "When faced with an infeasible model, it's not always easy to identify the source of the infeasibility. \n",
    "\n",
    "DOcplex helps you identify potential causes of infeasibilities, and it will also suggest changes to make the model feasible.\n",
    "\n",
    "#### An example of infeasible problem\n",
    "\n",
    "<p>\n",
    "<ul>\n",
    "<img src = \"https://ibmdecisionoptimization.github.io/tutorials/jupyter/training/26.png?raw=true\" >\n",
    "</ul> \n",
    "\n",
    "This graphic shows an example of an infeasible constraint set for the telephone production problem.  Assume in this case that the person entering data had accidentally entered lower bounds on the production of 1100 instead of 100.  The arrows show the direction of the feasible region with respect to each constraint.  This data entry error moves the lower bounds on production higher than the upper bounds from the assembly and painting constraints, meaning that the feasible region is empty and there are no possible solutions. "
   ]
  },
  {
   "cell_type": "markdown",
   "metadata": {},
   "source": [
    "#### Infeasible models in DOcplex\n",
    "\n",
    "Calling `solve()` on an infeasible model returns None. Let's experiment this with DOcplex. First, we take a copy of our model and an extra infeasible constraint which states that desk telephone production must be greater than 1100"
   ]
  },
  {
   "cell_type": "code",
   "execution_count": null,
   "metadata": {},
   "outputs": [],
   "source": [
    "# create a new model, copy of m\n",
    "im = m.copy()\n",
    "# get the 'desk' variable of the new model from its name\n",
    "idesk = im.get_var_by_name('desk')\n",
    "# add a new (infeasible) constraint\n",
    "im.add_constraint(idesk >= 1100);\n",
    "# solve the new proble, we expect a result of None as the model is now infeasible\n",
    "ims = im.solve()\n",
    "if ims is None:\n",
    "    print('- model is infeasible')"
   ]
  },
  {
   "cell_type": "markdown",
   "metadata": {},
   "source": [
    "### Correcting infeasible models\n",
    "\n",
    "To correct an infeasible model, you must use your knowledge of the real-world situation you are modeling.\n",
    "If you know that the model is realizable, you can usually manually construct an example of a feasible solution and use it to determine where your model or data is incorrect. For example, the telephone production manager may input the previous month's production figures as a solution to the model and discover that they violate the erroneously entered bounds of 1100.\n",
    "\n",
    "DOcplex can help perform infeasibility analysis, which can get very complicated in large models. In this analysis, DOcplex may suggest relaxing one or more constraints. \n"
   ]
  },
  {
   "cell_type": "markdown",
   "metadata": {},
   "source": [
    "### Relaxing constraints by changing the model\n",
    "\n",
    "In the case of LP models, the term “relaxation” refers to changing the right hand side of the constraint to allow some violation of the original constraint.\n",
    "\n",
    "For example, a relaxation of the assembly time constraint is as follows:\n",
    "\n",
    "$$\n",
    "0.2 \\ desk + 0.4\\  cell <= 440\n",
    "$$\n",
    "\n",
    "Here, the right hand side has been relaxed from 400 to 440, meaning that you allow more time for assembly than originally planned. "
   ]
  },
  {
   "cell_type": "markdown",
   "metadata": {},
   "source": [
    "#### Relaxing model by converting hard constraints to soft constraints\n",
    "\n",
    "- A _soft_ constraint is a constraint that can be violated in some circumstances. \n",
    "\n",
    "- A _hard_ constraint cannot be violated under any circumstances. So far, all constraints we have encountered are hard constraints.\n",
    "\n",
    "Converting hard constraints to soft is one way to resolve infeasibilities.\n",
    "\n",
    "The original hard constraint on assembly time is as follows:\n",
    "\n",
    "$$\n",
    "0.2 \\ desk + 0.4 \\ cell <= 400\n",
    "$$\n",
    "\n",
    "You can turn this into a soft constraint if you know that, for example, an additional 40 hours of overtime are available at an additional cost. First add an overtime term to the right-hand side:\n",
    "\n",
    "$$\n",
    "0.2 \\ desk + 0.4 \\ cell <= 400 + overtime\n",
    "$$\n",
    "\n",
    "Next, add a hard limit to the amount of overtime available:\n",
    "\n",
    "$$\n",
    "overtime <= 40\n",
    "$$\n",
    "\n",
    "Finally, add an additional cost to the objective to penalize use of overtime. \n",
    "\n",
    "Assume that in this case overtime costs an additional $2/hour, then the new objective becomes:\n",
    "\n",
    "$$\n",
    "maximize\\  12 * desk + 20 * cell — 2 * overtime\n",
    "$$\n"
   ]
  },
  {
   "cell_type": "markdown",
   "metadata": {},
   "source": [
    "#### Implement the soft constraint model using DOcplex\n",
    "\n",
    "First add an extra variable for overtime, with an upper bound of 40. This suffices to express the hard limit on overtime."
   ]
  },
  {
   "cell_type": "code",
   "execution_count": null,
   "metadata": {},
   "outputs": [],
   "source": [
    "overtime = m.continuous_var(name='overtime', ub=40)"
   ]
  },
  {
   "cell_type": "markdown",
   "metadata": {},
   "source": [
    "Modify the assembly time constraint by changing its right-hand side by adding overtime. \n",
    "\n",
    "*Note*: this operation modifies the model by performing a _side-effect_ on the constraint object. DOcplex allows dynamic edition of model elements."
   ]
  },
  {
   "cell_type": "code",
   "execution_count": null,
   "metadata": {},
   "outputs": [],
   "source": [
    "ct_assembly.rhs = 400 + overtime"
   ]
  },
  {
   "cell_type": "markdown",
   "metadata": {},
   "source": [
    "Last, modify the objective expression to add the penalization term.\n",
    "Note that we use the Python decrement operator."
   ]
  },
  {
   "cell_type": "code",
   "execution_count": null,
   "metadata": {},
   "outputs": [],
   "source": [
    "m.maximize(12*desk + 20 * cell - 2 * overtime)"
   ]
  },
  {
   "cell_type": "markdown",
   "metadata": {},
   "source": [
    "And solve again using DOcplex:"
   ]
  },
  {
   "cell_type": "code",
   "execution_count": null,
   "metadata": {},
   "outputs": [],
   "source": [
    "s2 = m.solve()\n",
    "m.print_solution()"
   ]
  },
  {
   "cell_type": "markdown",
   "metadata": {},
   "source": [
    "### Unbounded Variable vs. Unbounded model\n",
    "\n",
    "A variable is unbounded when one or both of its bounds is infinite. \n",
    "\n",
    "A model is unbounded when its objective value can be increased or decreased without limit. \n",
    "\n",
    "The fact that a variable is unbounded does not necessarily influence the solvability of the model and should not be confused with a model being unbounded. \n",
    "\n",
    "An unbounded model is almost certainly not correctly formulated. \n",
    "\n",
    "While infeasibility implies a model where constraints are too limiting, unboundedness implies a model where an important constraint is either missing or not restrictive enough.\n",
    "\n",
    "By default, DOcplex variables are unbounded: their upper bound is infinite (but their lower bound is zero)."
   ]
  },
  {
   "cell_type": "markdown",
   "metadata": {},
   "source": [
    "#### Unbounded feasible region\n",
    "\n",
    "The telephone production problem would become unbounded if, for example, the constraints on the assembly and painting time were neglected. The feasible region would then look as in this diagram where the objective value can increase without limit, up to infinity, because there is no upper boundary to the region. \n",
    "\n",
    "<p>\n",
    "<ul>\n",
    "<img src = \"https://ibmdecisionoptimization.github.io/tutorials/jupyter/training/32.png?raw=true\" >\n",
    "</ul> \n"
   ]
  },
  {
   "cell_type": "markdown",
   "metadata": {},
   "source": [
    "## Algorithms for solving LPs\n",
    "\n",
    "The IBM® CPLEX® Optimizers to solve LP problems in CPLEX include:\n",
    "- Simplex Optimizer\n",
    "- Dual-simplex Optimizer\n",
    "- Barrier Optimizer\n",
    "\n",
    "### The Simplex algorithm\n",
    "\n",
    "The Simplex algorithm, developed by George Dantzig in 1947, was the first generalized algorithm for solving LP problems. It is the basis of many optimization algorithms. The simplex method is an iterative method. It starts with an initial feasible solution, and then tests to see if it can improve the result of the objective function. It continues until the objective function cannot be further improved.\n",
    "\n",
    "The following diagram illustrates how the simplex algorithm traverses the boundary of the feasible region for the telephone production problem.  The algorithm, starts somewhere along the edge of the shaded feasible region, and advances vertex-by-vertex until arriving at the vertex that also intersects the optimal objective line.  Assume it starts at the red dot indicated on the diagam.\n",
    "\n",
    "<p>\n",
    "<ul>\n",
    "<img src = \"https://ibmdecisionoptimization.github.io/tutorials/jupyter/training/36.png?raw=true\" >\n",
    "</ul> \n",
    "\n",
    "<p>\n",
    "<ul>\n",
    "<img src = \"https://ibmdecisionoptimization.github.io/tutorials/jupyter/training/37.png?raw=true\" >\n",
    "</ul> \n",
    "\n",
    "<p>\n",
    "<ul>\n",
    "<img src = \"https://ibmdecisionoptimization.github.io/tutorials/jupyter/training/38.png?raw=true\" >\n",
    "</ul> \n",
    "\n",
    "<p>\n",
    "<ul>\n",
    "<img src = \"https://ibmdecisionoptimization.github.io/tutorials/jupyter/training/39.png?raw=true\" >\n",
    "</ul> \n",
    "\n",
    "\n",
    "\n",
    "### The Revised Simplex algorithm\n",
    "\n",
    "To improve the efficiency of the Simplex algorithm, George Dantzig and W. Orchard-Hays revised it in 1953. CPLEX uses the Revised Simplex algorithm, with a number of improvements. The CPLEX Optimizers are particularly efficient and can solve very large problems rapidly. You can tune some CPLEX Optimizer parameters to change the algorithmic behavior according to your needs. \n"
   ]
  },
  {
   "cell_type": "markdown",
   "metadata": {},
   "source": [
    "### The Dual Simplex algorithm\n",
    "\n",
    "#### The dual of a LP\n",
    "\n",
    "The concept of duality is important in Linear Programming (LP).  Every LP problem has an associated LP problem known as its _dual_. The dual of this associated problem is the original LP problem (known as the primal problem). If the primal problem is a minimization problem, then the dual problem is a maximization problem and vice versa.\n",
    "\n",
    "#### A primal-dual pair\n",
    "\n",
    "<p>\n",
    "<ul>\n",
    "<img src = \"https://ibmdecisionoptimization.github.io/tutorials/jupyter/training/42.png?raw=true\" >\n",
    "</ul> \n",
    "\n",
    "\n",
    "*Primal (P)*      \n",
    "-------------------- \n",
    "\n",
    " $max\\ z=\\sum_{i} c_{i}x_{i}$  \n",
    " \n",
    "*Dual (D)*\n",
    "-------------------------------\n",
    " $min\\ w= \\sum_{j}b_{j}y_{j}$ \n",
    " \n",
    "\n",
    "- Each constraint in the primal has an associated dual variable, yi.\n",
    "- Any feasible solution to D is an upper bound to P, and any feasible solution to P is a lower bound to D.\n",
    "- In LP, the optimal objective values of D and P are equivalent, and occurs where these bounds meet.\n",
    "- The dual can help solve difficult primal problems by providing a bound that in the best case equals the optimal solution to the primal problem.\n",
    "\n",
    "#### Dual prices\n",
    "\n",
    "In any solution to the dual, the values of the dual variables are known as the dual prices, also called shadow prices.\n",
    "\n",
    "For each constraint in the primal problem, its associated dual price indicates how much the dual objective will change with a unit change in the right hand side of the constraint.\n",
    "\n",
    "The dual price of a non-binding constraint is zero. That is, changing the right hand side of the constraint will not affect the objective value.\n",
    "\n",
    "The dual price of a binding constraint can help you make decisions regarding the constraint.\n",
    "\n",
    "For example, the dual price of a binding resource constraint can be used to determine whether more of the resource should be purchased or not.\n",
    "\n",
    "#### The Dual Simplex algorithm\n",
    "\n",
    "The Simplex algorithm works by finding a feasible solution and moving progressively toward optimality. \n",
    "\n",
    "The Dual Simplex algorithm implicitly uses the dual to try and find an optimal solution to the primal as early as it can, and regardless of whether the solution is feasible or not. \n",
    "\n",
    "It then moves from one vertex to another, gradually decreasing the infeasibility while maintaining optimality, until an optimal feasible solution to the primal problem is found. \n",
    "\n",
    "In CPLEX, the Dual-Simplex Optimizer is the first choice for most LP problems.\n"
   ]
  },
  {
   "cell_type": "markdown",
   "metadata": {
    "collapsed": true
   },
   "source": [
    "### Basic solutions and basic variables\n",
    "\n",
    "You learned earlier that the Simplex algorithm travels from vertex to vertex to search for the optimal solution. \n",
    "A solution at a vertex is known as a _basic_ solution. Without getting into too much detail, it's worth knowing that part of the Simplex algorithm involves setting a subset of variables to zero at each iteration. \n",
    "These variables are known as non-basic variables. The remaining variables are the _basic_ variables. The concepts of basic solutions and variables are relevant in the definition of reduced costs that follows next. \n"
   ]
  },
  {
   "cell_type": "markdown",
   "metadata": {},
   "source": [
    "### Reduced Costs\n",
    "\n",
    "The reduced cost of a variable gives an indication of the amount the objective will change with a unit increase in the variable value.\n",
    "\n",
    "Consider the simplest form of an LP:\n",
    "\n",
    "$\n",
    "minimize\\  c^{t}x\\\\\n",
    "s.t. \\\\\n",
    "Ax = b \\\\\n",
    "x \\ge 0\n",
    "$\n",
    "\n",
    "If $y$ represents the dual variables for a given basic solution, then the reduced costs are defined as: \n",
    "\n",
    "$$\n",
    "c - y^{t}A\n",
    "$$\n",
    "\n",
    "Such a basic solution is optimal if: \n",
    "\n",
    "$$\n",
    " c - y^{t}A \\ge 0\n",
    "$$\n",
    "\n",
    "If all reduced costs for this LP are non-negative, it follows that the objective value can only increase with a change in the variable value, and therefore the solution (when minimizing) is optimal.\n",
    "\n",
    "DOcplex lets you acces sreduced costs of variable, after a successful solve. Let's experiment with the two decision variables of our problem:"
   ]
  },
  {
   "cell_type": "markdown",
   "metadata": {},
   "source": [
    "#### Getting reduced cost values with DOcplex\n",
    "\n",
    "DOcplex lets you access reduced costs of variable, after a successful solve. Let's experiment with the two decision variables of our problem:"
   ]
  },
  {
   "cell_type": "code",
   "execution_count": null,
   "metadata": {},
   "outputs": [],
   "source": [
    "print('* desk variable has reduced cost: {0}'.format(desk.reduced_cost))\n",
    "print('* cell variable has reduced cost: {0}'.format(cell.reduced_cost))"
   ]
  },
  {
   "cell_type": "markdown",
   "metadata": {},
   "source": [
    "### Default optimality criteria for CPLEX optimizer\n",
    "\n",
    "Because CPLEX Optimizer operates on finite precision computers, it uses an optimality tolerance to test the reduced costs. \n",
    "\n",
    "The default optimality tolerance is –1e-6, with optimality criteria for the simplest form of an LP then being:\n",
    "\n",
    "$$\n",
    "c — y^{t}A> –10^{-6}\n",
    "$$\n",
    "\n",
    "You can adjust this optimality tolerance, for example if the algorithm takes very long to converge and has already achieved a solution sufficiently close to optimality.\n"
   ]
  },
  {
   "cell_type": "markdown",
   "metadata": {},
   "source": [
    "### Reduced Costs and multiple optimal solutions\n",
    "\n",
    "In the earlier example you saw how one can visualize multiple optimal solutions for an LP with two variables. \n",
    "For larger LPs, the reduced costs can be used to determine whether multiple optimal solutions exist. Multiple optimal solutions exist when one or more non-basic variables with a zero reduced cost exist in an optimal solution (that is, variable values that can change without affecting the objective value). \n",
    "In order to determine whether multiple optimal solutions exist, you can examine the values of the reduced costs with DOcplex. "
   ]
  },
  {
   "cell_type": "markdown",
   "metadata": {},
   "source": [
    "### Slack values\n",
    "\n",
    "For any solution, the difference between the left and right hand sides of a constraint is known as the _slack_ value for that constraint. \n",
    "\n",
    "For example, if a constraint states that f(x) <= 100, and in the solution f(x) = 80, then the slack value of this constraint is 20.\n",
    "\n",
    "In the earlier example, you learned about binding and non-binding constraints. For example, f(x) <= 100 is binding if f(x) = 100, and non-binding if f(x) = 80.\n",
    "\n",
    "The slack value for a binding constraint is always zero, that is, the constraint is met exactly.\n",
    "\n",
    "You can determine which constraints are binding in a solution by examining the slack values with DOcplex. \n",
    "\n",
    "This might help to better interpret the solution and help suggest which constraints may benefit from a change in bounds or a change into a soft constraint.\n"
   ]
  },
  {
   "cell_type": "markdown",
   "metadata": {},
   "source": [
    "#### Accessing slack values with DOcplex\n",
    "\n",
    "As an example, let's examine the slack values of some constraints in our problem, after we revert the change to soft constrants"
   ]
  },
  {
   "cell_type": "code",
   "execution_count": null,
   "metadata": {},
   "outputs": [],
   "source": [
    "# revert soft constraints\n",
    "ct_assembly.rhs = 440\n",
    "s3 = m.solve()\n",
    "\n",
    "# now get slack value for assembly constraint: expected value is 40\n",
    "print('* slack value for assembly time constraint is: {0}'.format(ct_assembly.slack_value))\n",
    "# get slack value for painting time constraint, expected value is 0.\n",
    "print('* slack value for painting time constraint is: {0}'.format(ct_painting.slack_value))"
   ]
  },
  {
   "cell_type": "markdown",
   "metadata": {},
   "source": [
    "### Degeneracy\n",
    "\n",
    "It is possible that multiple non-optimal solutions with the same objective value exist. \n",
    "\n",
    "As the simplex algorithm attempts to move in the direction of an improved objective value, it might happen that the algorithm starts cycling between non-optimal solutions with equivalent objective values. This is known as _degeneracy_. \n",
    "\n",
    "Modern LP solvers, such as CPLEX Simplex Optimizer, have built-in mechanisms to help escape such cycling by using perturbation techniques involving the variable bounds.\n",
    "\n",
    "If the default algorithm does not break the degenerate cycle, it's a good idea to try some other algorithms, for example the Dual-simplex Optimizer. Problem that are primal degenerate, are often not dual degenerate, and vice versa."
   ]
  },
  {
   "cell_type": "markdown",
   "metadata": {},
   "source": [
    "#### Setting a LP algorithm with DOcplex\n",
    "\n",
    "Users can change the algorithm by editing the `lpmethod` parameter of the model.\n",
    "We won't go into details here, it suffices to know this parameter accepts an integer from 0 to 6, where 0 denotes automatic choice of the algorithm, 1 is for primal simplex, 2 is for dual simplex, and 4 is for barrier...\n",
    "\n",
    "For example, choosing the barrier algorithm is done by setting value 4 to this parameter. We access the `parameters` property of the model and from there, assign the `lpmethod` parameter"
   ]
  },
  {
   "cell_type": "code",
   "execution_count": null,
   "metadata": {},
   "outputs": [],
   "source": [
    "m.parameters.lpmethod = 4\n",
    "m.solve(log_output=True)"
   ]
  },
  {
   "cell_type": "markdown",
   "metadata": {},
   "source": [
    "### Barrier methods\n",
    "\n",
    "Most of the CPLEX Optimizers for MP call upon the basic simplex method or some variation of it. \n",
    "\n",
    "Some, such as the Barrier Optimizer, use alternative methods.\n",
    "\n",
    "In graphical terms, the Simplex Algorithm starts along the edge of the feasible region and searches for an optimal vertex. \n",
    "\n",
    "The barrier method starts somewhere inside the feasible region – in other words, it avoids the “barrier” that is created by the constraints, and burrows through the feasible region to find the optimal solution.\n",
    "\n",
    "In its search, the method uses what is known as a predictor-corrector algorithm that constantly adjusts its path through the center of the feasible region (the central path). \n",
    "\n",
    "This diagram shows how the barrier method works compared to the simplex method.  As you can see, the simplex method traverses the edge of the feasible region, while the barrier method moves through the interior, with a predictor-corrector determining the path.  In general, it’s a good idea to experiment with different algorithms in CPLEX when trying to improve performance.\n",
    "\n",
    "<p>\n",
    "<ul>\n",
    "<img src = \"https://ibmdecisionoptimization.github.io/tutorials/jupyter/training/52.png?raw=true\" >\n",
    "</ul> "
   ]
  },
  {
   "cell_type": "markdown",
   "metadata": {},
   "source": [
    "### Presolve\n",
    "\n",
    "CPLEX Optimizer provides a _presolve_ procedure.\n",
    "\n",
    "Presolve evaluates the model formulation before solving it, and attempts to reduce the size of the problem that is sent to the solver engine. \n",
    "\n",
    "A reduction in problem size typically translates to a reduction in total run time. \n",
    "\n",
    "For example, a real problem presented to CPLEX Optimizer with approximately 160,000 constraints and 596,000 decision variables, was reduced by presolve to a problem with 27,000 constraints and 150,000 decision variables.\n",
    "\n",
    "The presolve time was only 1.32 seconds and reduced the solution time from nearly half an hour to under 25 seconds.\n",
    "\n",
    "#### An example of presolve operations\n",
    "\n",
    "Let's consider the following Linear problem:\n",
    "\n",
    "$\n",
    "\tmaximize:\\\\\n",
    "    [1]\\   2x_{1}+ 3x_{2} — x_{3} — x_{4}\\\\\n",
    "    subject\\ to:\\\\\n",
    "    [2]\\    x_{1} + x_{2} + x_{3} — 2x_{4} <= 4\\\\\n",
    "    [3]\\   -x_{1} — x_{2} + x_{3} —  x_{4} <= 1\\\\\n",
    "    [4]\\    x_{1}               +  x_{4} <= 3\\\\\n",
    "    [5]\\      x_{1}, x_{2}, x_{3}, x_{4} >= 0\n",
    "$\n",
    "- Because $x_{3}$ has a negative coefficient in the objective, the optimization will minimize $x_{3}$.\n",
    "- In constraints [2] and [3] $x_{3}$ has positive coefficients, and the constraints are <=. Thus, $x_{3}$ can be reduced to 0, and becomes redundant.\n",
    "- In constraint [3], all the coefficients are now negative. Because the left hand side of [3] can never be positive, any assignment of values will satisfy the constraint. The constraint is redundant and can be removed."
   ]
  },
  {
   "cell_type": "markdown",
   "metadata": {},
   "source": [
    "# Summary\n",
    "\n",
    "Having completed this notebook, you should be able to:\n",
    "- Describe the characteristics of an LP in terms of the objective, decision variables and constraints\n",
    "- Formulate a simple LP model on paper\n",
    "- Conceptually explain the following terms in the context of LP:\n",
    " - dual\n",
    " - feasible region\n",
    " - infeasible\n",
    " - unbounded\n",
    " - slacks\n",
    " - reduced costs\n",
    " - degeneracy\n",
    "- Describe some of the algorithms used to solve LPs\n",
    "- Explain what presolve does\n",
    "- Write a simple LP model with DOcplex\n"
   ]
  },
  {
   "cell_type": "markdown",
   "metadata": {},
   "source": [
    "## References\n",
    "* [CPLEX Modeling for Python documentation](http://ibmdecisionoptimization.github.io/docplex-doc/)\n",
    "* [IBM Decision Optimization](https://www.ibm.com/analytics/decision-optimization)\n",
    "* Need help with DOcplex or to report a bug? Please go [here](https://stackoverflow.com/questions/tagged/docplex).\n",
    "* Contact us at `IBM Community <https://ibm.biz/DOcommunity>`__."
   ]
  },
  {
   "cell_type": "code",
   "execution_count": null,
   "metadata": {},
   "outputs": [],
   "source": []
  }
 ],
 "metadata": {
  "anaconda-cloud": {},
  "kernelspec": {
   "display_name": "Python 3",
   "language": "python",
   "name": "python3"
  },
  "language_info": {
   "codemirror_mode": {
    "name": "ipython",
    "version": 3
   },
   "file_extension": ".py",
   "mimetype": "text/x-python",
   "name": "python",
   "nbconvert_exporter": "python",
   "pygments_lexer": "ipython3",
   "version": "3.7.8"
  }
 },
 "nbformat": 4,
 "nbformat_minor": 1
}
