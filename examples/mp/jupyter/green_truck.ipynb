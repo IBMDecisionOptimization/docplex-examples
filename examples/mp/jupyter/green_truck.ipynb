{
 "cells": [
  {
   "cell_type": "markdown",
   "metadata": {
    "render": true
   },
   "source": [
    "# Use decision optimization to help a trucking company manage its shipments.\n",
    "\n",
    "This tutorial includes everything you need to set up decision optimization engines, build mathematical programming models, and arrive at managing a truck fleet.\n",
    "\n",
    "\n",
    "When you finish this tutorial, you'll have a foundational knowledge of _Prescriptive Analytics_.\n",
    "\n",
    ">This notebook is part of **[Prescriptive Analytics for Python](http://ibmdecisionoptimization.github.io/docplex-doc/)**\n",
    ">\n",
    ">It requires either an [installation of CPLEX Optimizers](http://ibmdecisionoptimization.github.io/docplex-doc/getting_started.html) or it can be run on [IBM Cloud Pak for Data as a Service](https://www.ibm.com/products/cloud-pak-for-data/as-a-service/) (Sign up for a [free IBM Cloud account](https://dataplatform.cloud.ibm.com/registration/stepone?context=wdp&apps=all>)\n",
    "and you can start using `IBM Cloud Pak for Data as a Service` right away).\n",
    ">\n",
    "> CPLEX is available on <i>IBM Cloud Pack for Data</i> and <i>IBM Cloud Pak for Data as a Service</i>:\n",
    ">    - <i>IBM Cloud Pak for Data as a Service</i>: Depends on the runtime used:\n",
    ">         - <i>Python 3.x</i> runtime: Community edition\n",
    ">         - <i>Python 3.x + DO</i> runtime: full edition\n",
    ">    - <i>Cloud Pack for Data</i>: Community edition is installed by default. Please install `DO` addon in `Watson Studio Premium` for the full edition\n",
    "\n",
    "\n",
    "\n",
    "Table of contents:\n",
    "\n",
    "-  [The business problem](#The-business-problem:--Games-Scheduling-in-the-National-Football-League)\n",
    "*  [How decision optimization (prescriptive analytics) can help](#How--decision-optimization-can-help)\n",
    "*  [Use decision optimization](#Use-decision-optimization)\n",
    "    *  [Step 1: Import the library](#Step-1:-Import-the-library)\n",
    "    -  [Step 2: Model the Data](#Step-2:-Model-the-data)\n",
    "    *  [Step 3: Prepare the data](#Step-3:-Prepare-the-data)\n",
    "    -  [Step 4: Set up the prescriptive model](#Step-4:-Set-up-the-prescriptive-model)\n",
    "        * [Define the decision variables](#Define-the-decision-variables)\n",
    "        * [Express the business constraints](#Express-the-business-constraints)\n",
    "        * [Express the objective](#Express-the-objective)\n",
    "        * [Solve with Decision Optimization](#Solve-with-Decision-Optimization)\n",
    "    *  [Step 5: Investigate the solution and run an example analysis](#Step-5:-Investigate-the-solution-and-then-run-an-example-analysis)\n",
    "*  [Summary](#Summary)\n"
   ]
  },
  {
   "cell_type": "markdown",
   "metadata": {
    "render": true
   },
   "source": [
    "## The business problem:  Transportation Optimization Problem  \n",
    "\n",
    "\n",
    "* A trucking company has a hub and spoke system. The shipments to be delivered are specified by an originating spoke, a destination spoke, and a shipment volume. The trucks have different types defined by a maximum capacity, a speed, and a cost per mile. The model assigns the correct number of trucks to each route in order to minimize the cost of transshipment and meet the volume requirements. There is a minimum departure time and a maximum return time for trucks at a spoke, and a load and unload time at the hub. Trucks of different types travel at different speeds. Therefore, shipments are available at each hub in a timely manner. Volume availability constraints are taken into account, meaning that the shipments that will be carried back from a hub to a spoke by a truck must be available for loading before the truck leaves.\n",
    "\n",
    "* The assumptions are:\n",
    "\n",
    "   * Exactly the same number of trucks that go from spoke to hub return from hub to spoke.\n",
    "   * Each truck arrives at a hub as early as possible and leaves as late as possible.\n",
    "   * The shipments can be broken arbitrarily into smaller packages and shipped through different paths."
   ]
  },
  {
   "cell_type": "markdown",
   "metadata": {
    "render": true
   },
   "source": [
    "## How  decision optimization can help\n",
    "\n",
    "* Prescriptive analytics (decision optimization) technology recommends actions that are based on desired outcomes.  It takes into account specific scenarios, resources, and knowledge of past and current events. With this insight, your organization can make better decisions and have greater control of business outcomes.  \n",
    "\n",
    "* Prescriptive analytics is the next step on the path to insight-based actions. It creates value through synergy with predictive analytics, which analyzes data to predict future outcomes.  \n",
    "\n",
    "* Prescriptive analytics takes that insight to the next level by suggesting the optimal way to handle that future situation. Organizations that can act fast in dynamic conditions and make superior decisions in uncertain environments gain a strong competitive advantage.  \n",
    "<br/>\n",
    "\n",
    "<u>With prescriptive analytics, you can:</u> \n",
    "\n",
    "* Automate the complex decisions and trade-offs to better manage your limited resources.\n",
    "* Take advantage of a future opportunity or mitigate a future risk.\n",
    "* Proactively update recommendations based on changing events.\n",
    "* Meet operational goals, increase customer loyalty, prevent threats and fraud, and optimize business processes.\n",
    "\n"
   ]
  },
  {
   "cell_type": "markdown",
   "metadata": {},
   "source": [
    "## Use decision optimization"
   ]
  },
  {
   "cell_type": "markdown",
   "metadata": {},
   "source": [
    "### Step 1: Import the library\n",
    "\n",
    "Run the following code to import the Decision Optimization CPLEX Modeling library.  The *DOcplex* library contains the two modeling packages, Mathematical Programming (docplex.mp) and Constraint Programming (docplex.cp)."
   ]
  },
  {
   "cell_type": "code",
   "execution_count": null,
   "metadata": {},
   "outputs": [],
   "source": [
    "import sys\n",
    "try:\n",
    "    import docplex.mp\n",
    "except:\n",
    "    raise Exception('Please install docplex. See https://pypi.org/project/docplex/')"
   ]
  },
  {
   "cell_type": "markdown",
   "metadata": {},
   "source": [
    "If *CPLEX* is not installed, you can install CPLEX Community edition."
   ]
  },
  {
   "cell_type": "code",
   "execution_count": null,
   "metadata": {},
   "outputs": [],
   "source": [
    "try:\n",
    "    import cplex\n",
    "except:\n",
    "    raise Exception('Please install CPLEX. See https://pypi.org/project/cplex/')"
   ]
  },
  {
   "cell_type": "markdown",
   "metadata": {
    "render": true
   },
   "source": [
    "### Step 2: Model the data\n",
    "In this scenario, the data is simple and is delivered in the json format under the Optimization github."
   ]
  },
  {
   "cell_type": "code",
   "execution_count": null,
   "metadata": {},
   "outputs": [],
   "source": [
    "from collections import namedtuple"
   ]
  },
  {
   "cell_type": "code",
   "execution_count": null,
   "metadata": {},
   "outputs": [],
   "source": [
    "_parameters = namedtuple('parameters', ['maxTrucks', 'maxVolume'])\n",
    "_location = namedtuple('location', ['name'])\n",
    "_spoke = namedtuple('spoke', ['name', 'minDepTime', 'maxArrTime'])\n",
    "_truckType = namedtuple('truckType', ['truckType', 'capacity', 'costPerMile', 'milesPerHour'])\n",
    "_loadTimeInfo = namedtuple('loadTimeInfo', ['hub', 'truckType', 'loadTime'])\n",
    "_routeInfo = namedtuple('routeInfo', ['spoke', 'hub', 'distance'])\n",
    "_triple = namedtuple('triple', ['origin', 'hub', 'destination'])\n",
    "_shipment = namedtuple('shipment', ['origin', 'destination', 'totalVolume'])\n",
    "\n"
   ]
  },
  {
   "cell_type": "code",
   "execution_count": null,
   "metadata": {},
   "outputs": [],
   "source": [
    "import requests\n",
    "import json\n",
    "import decimal \n",
    "r = requests.get(\"https://github.com/vberaudi/utwt/blob/master/trucking.json?raw=true\")\n",
    "json_data = json.loads(r.text, parse_float=decimal.Decimal )    "
   ]
  },
  {
   "cell_type": "code",
   "execution_count": null,
   "metadata": {},
   "outputs": [],
   "source": [
    "def read_json_tuples(name, my_namedtuple):\n",
    "    json_fragment = json_data[name]\n",
    "    length = len(my_namedtuple._fields)\n",
    "    ret = []\n",
    "    for t in json_fragment:\n",
    "        #print t\n",
    "        ret2 = [0 for i in range(length)]\n",
    "        for i in  range(length):\n",
    "            field = my_namedtuple._fields[i]\n",
    "            ret2[i] = t[field]\n",
    "        ret.append(my_namedtuple(*tuple(ret2)))\n",
    "    return ret\n",
    "\n",
    "def read_json_tuple(name, my_namedtuple):\n",
    "    json_fragment = json_data[name]\n",
    "    length = len(my_namedtuple._fields)\n",
    "    ret = [0 for i in range(length)]\n",
    "    for i in  range(length):\n",
    "        field = my_namedtuple._fields[i]\n",
    "        ret[i] = json_fragment[field]\n",
    "    return my_namedtuple(*tuple(ret))"
   ]
  },
  {
   "cell_type": "markdown",
   "metadata": {},
   "source": [
    "Use basic HTML and a stylesheet to format the data."
   ]
  },
  {
   "cell_type": "code",
   "execution_count": null,
   "metadata": {},
   "outputs": [],
   "source": [
    "CSS = \"\"\"\n",
    "body {\n",
    "    margin: 0;\n",
    "    font-family: Helvetica;\n",
    "}\n",
    "table.dataframe {\n",
    "    border-collapse: collapse;\n",
    "    border: none;\n",
    "}\n",
    "table.dataframe tr {\n",
    "    border: none;\n",
    "}\n",
    "table.dataframe td, table.dataframe th {\n",
    "    margin: 0;\n",
    "    border: 1px solid white;\n",
    "    padding-left: 0.25em;\n",
    "    padding-right: 0.25em;\n",
    "}\n",
    "table.dataframe th:not(:empty) {\n",
    "    background-color: #fec;\n",
    "    text-align: left;\n",
    "    font-weight: normal;\n",
    "}\n",
    "table.dataframe tr:nth-child(2) th:empty {\n",
    "    border-left: none;\n",
    "    border-right: 1px dashed #888;\n",
    "}\n",
    "table.dataframe td {\n",
    "    border: 2px solid #ccf;\n",
    "    background-color: #f4f4ff;\n",
    "}\n",
    "    table.dataframe thead th:first-child {\n",
    "        display: none;\n",
    "    }\n",
    "    table.dataframe tbody th {\n",
    "        display: none;\n",
    "    }\n",
    "\"\"\"\n",
    "\n",
    "from IPython.core.display import HTML\n",
    "HTML('<style>{}</style>'.format(CSS))"
   ]
  },
  {
   "cell_type": "code",
   "execution_count": null,
   "metadata": {},
   "outputs": [],
   "source": [
    "parameters = read_json_tuple(name='Parameters', my_namedtuple=_parameters)\n",
    "hubs = read_json_tuples(name='Hubs', my_namedtuple=_location)\n",
    "truckTypes = read_json_tuples(name='TruckTypes', my_namedtuple=_truckType)\n",
    "spokes = read_json_tuples(name='Spokes', my_namedtuple=_spoke)\n",
    "loadTimes = read_json_tuples(name='LoadTimes', my_namedtuple=_loadTimeInfo)\n",
    "routes = read_json_tuples(name='Routes', my_namedtuple=_routeInfo)\n",
    "shipments = read_json_tuples(name='Shipments', my_namedtuple=_shipment)"
   ]
  },
  {
   "cell_type": "markdown",
   "metadata": {
    "render": true
   },
   "source": [
    "### Step 3: Prepare the data\n",
    "\n",
    "Given the number of teams in each division and the number of intradivisional and interdivisional games to be played, you can calculate the total number of teams and the number of weeks in the schedule, assuming every team plays exactly one game per week. \n",
    "\n",
    "\n",
    "The season is split into halves, and the number of the intradivisional games that each team must play in the first half of the season is calculated."
   ]
  },
  {
   "cell_type": "code",
   "execution_count": null,
   "metadata": {},
   "outputs": [],
   "source": [
    "maxTrucks = parameters.maxTrucks;\n",
    "maxVolume = parameters.maxVolume;\n",
    "\n",
    "hubIds = {h.name for h in hubs}\n",
    "\n",
    "spokeIds = {s.name for s in spokes}\n",
    "spoke = {s.name : s for s in spokes}\n",
    "\n",
    "truckTypeIds = {ttis.truckType for ttis in truckTypes}\n",
    "truckTypeInfos = {tti.truckType : tti for tti in truckTypes}\n",
    "\n",
    "loadTime = {(lt.hub , lt.truckType) : lt.loadTime for lt in loadTimes}\n",
    "\n",
    "# feasible pathes from spokes to spokes via one hub\n",
    "triples = {_triple(r1.spoke, r1.hub, r2.spoke) for r1 in routes for r2 in routes if (r1 != r2 and r1.hub == r2.hub)}"
   ]
  },
  {
   "cell_type": "markdown",
   "metadata": {},
   "source": [
    "Some asserts to check the data follows the guidelines."
   ]
  },
  {
   "cell_type": "code",
   "execution_count": null,
   "metadata": {},
   "outputs": [],
   "source": [
    "# Make sure the data is consistent: latest arrive time >= earliest departure time\n",
    "for s in spokeIds:\n",
    "    assert spoke[s].maxArrTime > spoke[s].minDepTime, \"inconsistent data\"\n",
    "\n",
    "# The following assertion is to make sure that the spoke\n",
    "# in each route is indeed in the set of Spokes.\n",
    "for r in routes:\n",
    "    assert r.spoke in spokeIds, \"some route is not in the spokes\"\n",
    "\n",
    "# The following assertion is to make sure that the hub\n",
    "# in each route are indeed in the set of Hubs.\n",
    "for r in routes:\n",
    "    assert r.hub in hubIds, \"some route is not in the hubs\"\n",
    "\n",
    "# The following assertion is to make sure that the origin\n",
    "# of each shipment is indeed in the set of Spokes.\n",
    "for s in shipments:\n",
    "    assert s.origin in spokeIds, \"origin is not in the set of Spokes\"\n",
    "\n",
    "# The following assertion is to make sure that the destination\n",
    "# of each shipment is indeed in the set of Spokes.\n",
    "for s in shipments:\n",
    "    assert s.destination in spokeIds, \"shipment is not in the set of Spokes\""
   ]
  },
  {
   "cell_type": "code",
   "execution_count": null,
   "metadata": {},
   "outputs": [],
   "source": [
    "from math import ceil, floor\n",
    "# the earliest unloading time at a hub for each type of trucks\n",
    "earliestUnloadingTime = {(r, t) : int(ceil(loadTime[r.hub, t] + spoke[r.spoke].minDepTime + 60 * r.distance / truckTypeInfos[t].milesPerHour)) for t in truckTypeIds for r in routes}\n",
    "# the latest loading time at a hub for each type of trucks\n",
    "latestLoadingTime = {(r, t) : int(floor(spoke[r.spoke].maxArrTime - loadTime[r.hub, t] - 60 * r.distance / truckTypeInfos[t].milesPerHour)) for t in truckTypeIds for r in routes}\n",
    "\n",
    "# Compute possible truck types that can be assigned on a route\n",
    "# A type of truck can be assigned on a route only if it can make it to the hub and back\n",
    "#  before the max arrival time at the spoke.\n",
    "possibleTruckOnRoute =  {(r, t) : 1 if earliestUnloadingTime[r, t] < latestLoadingTime[r, t] else 0 for t in truckTypeIds for r in routes}"
   ]
  },
  {
   "cell_type": "markdown",
   "metadata": {
    "render": true
   },
   "source": [
    "### Step 4: Set up the prescriptive model"
   ]
  },
  {
   "cell_type": "code",
   "execution_count": null,
   "metadata": {},
   "outputs": [],
   "source": [
    "from docplex.mp.environment import Environment\n",
    "env = Environment()\n",
    "env.print_information()"
   ]
  },
  {
   "cell_type": "markdown",
   "metadata": {},
   "source": [
    "#### Create the DOcplex model\n",
    "The model contains all the business constraints and defines the objective."
   ]
  },
  {
   "cell_type": "code",
   "execution_count": null,
   "metadata": {},
   "outputs": [],
   "source": [
    "from docplex.mp.model import Model\n",
    "\n",
    "model = Model(\"truck\")"
   ]
  },
  {
   "cell_type": "markdown",
   "metadata": {},
   "source": [
    "#### Define the decision variables"
   ]
  },
  {
   "cell_type": "code",
   "execution_count": null,
   "metadata": {},
   "outputs": [],
   "source": [
    "truckOnRoute = model.integer_var_matrix(keys1=routes, keys2=truckTypeIds, lb=0, ub=maxTrucks, name=\"TruckOnRoute\")\n",
    "\n",
    "# This represents the volumes shipped out from each hub\n",
    "# by each type of trucks on each triple\n",
    "# The volumes are distinguished by trucktypes because trucks of different types\n",
    "# arrive at a hub at different times and the timing is used in defining\n",
    "# the constraints for volume availability for the trucks leaving the hub.\n",
    "outVolumeThroughHubOnTruck = model.integer_var_matrix(keys1=triples, keys2=truckTypeIds, lb=0, ub=maxVolume, name=\"OutVolumeThroughHubOnTruck\")\n",
    "\n",
    "# This represents the volume shipped into each hub by each type of trucks on each triple\n",
    "# It is used in defining timing constraints.\n",
    "inVolumeThroughHubOnTruck = model.integer_var_matrix(keys1=triples, keys2=truckTypeIds, lb=0, ub=maxVolume, name=\"InVolumeThroughHubOnTruck\")"
   ]
  },
  {
   "cell_type": "markdown",
   "metadata": {
    "render": true
   },
   "source": [
    "#### Express the business constraints"
   ]
  },
  {
   "cell_type": "markdown",
   "metadata": {},
   "source": [
    "##### The number of trucks of each type should be less than \"maxTrucks\", and if a type of truck is impossible for a route, its number should be zero"
   ]
  },
  {
   "cell_type": "code",
   "execution_count": null,
   "metadata": {},
   "outputs": [],
   "source": [
    "for r in routes:\n",
    "    for t in truckTypeIds:\n",
    "        model.add_constraint(truckOnRoute[r, t] <= possibleTruckOnRoute[r, t] * maxTrucks)"
   ]
  },
  {
   "cell_type": "markdown",
   "metadata": {},
   "source": [
    "##### On each route s-h, the total inbound volume carried by trucks of each type should be less than the total capacity of the trucks of this type."
   ]
  },
  {
   "cell_type": "code",
   "execution_count": null,
   "metadata": {},
   "outputs": [],
   "source": [
    "for (s,h,dist) in routes:\n",
    "    for t in truckTypeIds:\n",
    "        model.add_constraint(\n",
    "            model.sum(inVolumeThroughHubOnTruck[(s1, h1, dest), t] for (s1, h1, dest) in triples if s == s1 and h1 == h)\n",
    "              <= truckOnRoute[(s, h, dist), t] * truckTypeInfos[t].capacity\n",
    "        )"
   ]
  },
  {
   "cell_type": "markdown",
   "metadata": {},
   "source": [
    "##### On any triple, the total flows in the hub = the total flows out the hub"
   ]
  },
  {
   "cell_type": "code",
   "execution_count": null,
   "metadata": {},
   "outputs": [],
   "source": [
    "for tr in triples:\n",
    "    model.add_constraint(\n",
    "        model.sum(inVolumeThroughHubOnTruck[tr, t] for t in truckTypeIds)\n",
    "        == model.sum(outVolumeThroughHubOnTruck[tr, t] for t in truckTypeIds)\n",
    "    )"
   ]
  },
  {
   "cell_type": "markdown",
   "metadata": {},
   "source": [
    "##### The sum of flows between any origin-destination pair via all hubs is equal to the shipment between the o-d pair."
   ]
  },
  {
   "cell_type": "code",
   "execution_count": null,
   "metadata": {},
   "outputs": [],
   "source": [
    "for (o,d,v) in shipments:\n",
    "    model.add_constraint(model.sum(inVolumeThroughHubOnTruck[(o1, h, d1), t] for t in truckTypeIds for (o1, h, d1) in triples if o1 == o and d1 == d) == v)"
   ]
  },
  {
   "cell_type": "markdown",
   "metadata": {},
   "source": [
    "##### There must be enough volume for a truck before it leaves a hub. \n",
    "In another words, the shipments for a truck must arrive at the hub from all spokes before the truck leaves. \n",
    "The constraint can be expressed as the following: For each route s-h and leaving truck of type t:  Cumulated inbound volume arrived before the loading time of the truck >= Cumulated outbound volume upto the loading time of the truck(including the shipments being loaded)."
   ]
  },
  {
   "cell_type": "code",
   "execution_count": null,
   "metadata": {},
   "outputs": [],
   "source": [
    "for (s,h,dist) in routes:\n",
    "    for t in truckTypeIds:\n",
    "        model.add_constraint(\n",
    "            # The expression below defines the indices of the trucks unloaded before truck t starts loading.\n",
    "          model.sum(inVolumeThroughHubOnTruck[(o, h, s), t1]\n",
    "                    for (o,h0,s0) in triples if h0 == h and s0 == s\n",
    "                    for t1 in truckTypeIds\n",
    "                    for (o2,h2,dist1) in routes if h2 == h0 and o2 == o\n",
    "                    if earliestUnloadingTime[(o, h, dist1), t1] <= latestLoadingTime[(s, h, dist), t])\n",
    "            >=\n",
    "              # The expression below defines the indices of the trucks left before truck t starts loading.\n",
    "          model.sum(outVolumeThroughHubOnTruck[(o, h, s), t2]\n",
    "                    for (o,h0,s0) in triples if h0 == h and s0 == s\n",
    "                    for t2 in truckTypeIds\n",
    "                    for (o2,h2,dist2) in routes if h2 == h0 and o2 == o\n",
    "                    if latestLoadingTime[(o, h, dist2), t2] <= latestLoadingTime[(s, h, dist), t])\n",
    "        )"
   ]
  },
  {
   "cell_type": "markdown",
   "metadata": {
    "render": true
   },
   "source": [
    "#### Express the objective"
   ]
  },
  {
   "cell_type": "code",
   "execution_count": null,
   "metadata": {},
   "outputs": [],
   "source": [
    "totalCost = model.sum(2 * r.distance * truckTypeInfos[t].costPerMile * truckOnRoute[r, t] for r in routes for t in truckTypeIds)\n",
    "\n",
    "model.minimize(totalCost)"
   ]
  },
  {
   "cell_type": "markdown",
   "metadata": {
    "render": true
   },
   "source": [
    "### Solve with Decision Optimization \n",
    "\n",
    "You will get the best solution found after n seconds, due to a time limit parameter.\n"
   ]
  },
  {
   "cell_type": "code",
   "execution_count": null,
   "metadata": {},
   "outputs": [],
   "source": [
    "model.print_information()\n",
    "\n",
    "assert model.solve(), \"!!! Solve of the model fails\"\n",
    "model.report()"
   ]
  },
  {
   "cell_type": "markdown",
   "metadata": {
    "render": true
   },
   "source": [
    "### Step 5: Investigate the solution and then run an example analysis"
   ]
  },
  {
   "cell_type": "code",
   "execution_count": null,
   "metadata": {},
   "outputs": [],
   "source": [
    "#solution object model\n",
    "_result = namedtuple('result', ['totalCost'])\n",
    "_nbTrucksOnRouteRes = namedtuple('nbTrucksOnRouteRes', ['spoke', 'hub', 'truckType', 'nbTruck'])\n",
    "_volumeThroughHubOnTruckRes = namedtuple('volumeThroughHubOnTruckRes', ['origin', 'hub', 'destination', 'truckType', 'quantity'])\n",
    "_aggregatedReport = namedtuple('aggregatedReport', ['spoke', 'hub', 'truckType', 'quantity'])"
   ]
  },
  {
   "cell_type": "code",
   "execution_count": null,
   "metadata": {},
   "outputs": [],
   "source": [
    "# Post processing: result data structures are exported as post-processed tuple or list of tuples\n",
    "# Solve objective value\n",
    "import pandas as pd\n",
    "result = _result(totalCost.solution_value)\n",
    "\n",
    "\n",
    "nbTrucksOnRouteRes = pd.DataFrame([_nbTrucksOnRouteRes(r.spoke, r.hub, t, int(truckOnRoute[r, t]))\n",
    "                      for r in routes\n",
    "                      for t in truckTypeIds\n",
    "                      if int(truckOnRoute[r, t]) > 0])\n",
    "\n",
    "\n",
    "# Volume shipped into each hub by each type of trucks and each pair (origin, destination)\n",
    "inVolumeThroughHubOnTruckRes = pd.DataFrame([_volumeThroughHubOnTruckRes(tr.origin, tr.hub, tr.destination, t, int(inVolumeThroughHubOnTruck[tr, t]))\n",
    "                                for tr in triples\n",
    "                                for t in truckTypeIds\n",
    "                                if int(inVolumeThroughHubOnTruck[tr, t]) > 0])\n",
    "\n",
    "\n",
    "# Volume shipped from each hub by each type of trucks and each pair (origin, destination)\n",
    "outVolumeThroughHubOnTruckRes = pd.DataFrame([_volumeThroughHubOnTruckRes(tr.origin, tr.hub, tr.destination, t, int(outVolumeThroughHubOnTruck[tr, t]))\n",
    "                                 for tr in triples\n",
    "                                 for t in truckTypeIds\n",
    "                                 if int(outVolumeThroughHubOnTruck[tr, t]) > 0])\n",
    "\n",
    "inBoundAggregated = pd.DataFrame([_aggregatedReport(r.spoke, r.hub, t, sum(int(inVolumeThroughHubOnTruck[tr, t])\n",
    "                                                              for tr in triples if tr.origin == r.spoke and tr.hub == r.hub))\n",
    "                     for r in routes\n",
    "                     for t in truckTypeIds\n",
    "                     if int(truckOnRoute[r, t]) > 0])\n",
    "outBoundAggregated = pd.DataFrame([_aggregatedReport(r.spoke, r.hub, t, sum(int(outVolumeThroughHubOnTruck[tr, t])\n",
    "                                                               for tr in triples if tr.destination == r.spoke and tr.hub == r.hub))\n",
    "                      for r in routes\n",
    "                      for t in truckTypeIds\n",
    "                      if int(truckOnRoute[r, t]) > 0])"
   ]
  },
  {
   "cell_type": "code",
   "execution_count": null,
   "metadata": {},
   "outputs": [],
   "source": [
    "from IPython.display import display"
   ]
  },
  {
   "cell_type": "code",
   "execution_count": null,
   "metadata": {
    "scrolled": true
   },
   "outputs": [],
   "source": [
    "display(nbTrucksOnRouteRes)"
   ]
  },
  {
   "cell_type": "code",
   "execution_count": null,
   "metadata": {},
   "outputs": [],
   "source": [
    "display(inVolumeThroughHubOnTruckRes)"
   ]
  },
  {
   "cell_type": "code",
   "execution_count": null,
   "metadata": {},
   "outputs": [],
   "source": [
    "display(outVolumeThroughHubOnTruckRes)"
   ]
  },
  {
   "cell_type": "code",
   "execution_count": null,
   "metadata": {},
   "outputs": [],
   "source": [
    "display(inBoundAggregated)"
   ]
  },
  {
   "cell_type": "code",
   "execution_count": null,
   "metadata": {},
   "outputs": [],
   "source": [
    "display(outBoundAggregated)"
   ]
  },
  {
   "cell_type": "markdown",
   "metadata": {},
   "source": [
    "## Summary\n",
    "\n",
    "\n",
    "You learned how to set up and use IBM Decision Optimization CPLEX Modeling for Python to formulate a Constraint Programming model and solve it with IBM Decision Optimization on Cloud."
   ]
  },
  {
   "cell_type": "markdown",
   "metadata": {
    "render": true
   },
   "source": [
    "#### References\n",
    "* [Decision Optimization CPLEX Modeling for Python documentation](http://ibmdecisionoptimization.github.io/docplex-doc/)\n",
    "* [IBM Decision Optimization](https://www.ibm.com/analytics/decision-optimization)\n",
    "* Need help with DOcplex or to report a bug? Please go [here](https://stackoverflow.com/questions/tagged/docplex).\n",
    "* Contact us at `IBM Community <https://ibm.biz/DOcommunity>`__.\n"
   ]
  },
  {
   "cell_type": "markdown",
   "metadata": {},
   "source": [
    "Copyright &copy; 2017-2019 IBM. IPLA licensed Sample Materials."
   ]
  },
  {
   "cell_type": "code",
   "execution_count": null,
   "metadata": {},
   "outputs": [],
   "source": []
  }
 ],
 "metadata": {
  "gist_id": "6011986",
  "kernelspec": {
   "display_name": "Python 3",
   "language": "python",
   "name": "python3"
  },
  "language_info": {
   "codemirror_mode": {
    "name": "ipython",
    "version": 3
   },
   "file_extension": ".py",
   "mimetype": "text/x-python",
   "name": "python",
   "nbconvert_exporter": "python",
   "pygments_lexer": "ipython3",
   "version": "3.7.8"
  }
 },
 "nbformat": 4,
 "nbformat_minor": 1
}
