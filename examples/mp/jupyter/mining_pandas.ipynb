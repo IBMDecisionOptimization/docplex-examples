{
 "cells": [
  {
   "cell_type": "markdown",
   "metadata": {},
   "source": [
    "# Optimizing mining operations\n",
    "\n",
    "This tutorial includes everything you need to set up IBM Decision Optimization CPLEX Modeling for Python (DOcplex), build a Mathematical Programming model, and get its solution by solving the model on Cloud with IBM ILOG CPLEX Optimizer.\n",
    "\n",
    "When you finish this tutorial, you'll have a foundational knowledge of _Prescriptive Analytics_.\n",
    "\n",
    ">This notebook is part of [Prescriptive Analytics for Python](http://ibmdecisionoptimization.github.io/docplex-doc/)\n",
    ">\n",
    ">It requires either an [installation of CPLEX Optimizers](http://ibmdecisionoptimization.github.io/docplex-doc/getting_started.html) or it can be run on [IBM Cloud Pak for Data as a Service](https://www.ibm.com/products/cloud-pak-for-data/as-a-service/) (Sign up for a [free IBM Cloud account](https://dataplatform.cloud.ibm.com/registration/stepone?context=wdp&apps=all>)\n",
    "and you can start using `IBM Cloud Pak for Data as a Service` right away).\n",
    ">\n",
    "> CPLEX is available on <i>IBM Cloud Pack for Data</i> and <i>IBM Cloud Pak for Data as a Service</i>:\n",
    ">    - <i>IBM Cloud Pak for Data as a Service</i>: Depends on the runtime used:\n",
    ">         - <i>Python 3.x</i> runtime: Community edition\n",
    ">         - <i>Python 3.x + DO</i> runtime: full edition\n",
    ">    - <i>Cloud Pack for Data</i>: Community edition is installed by default. Please install `DO` addon in `Watson Studio Premium` for the full edition\n",
    "\n",
    "\n",
    "Table of contents:\n",
    "\n",
    "-  [Describe the business problem](#Describe-the-business-problem)\n",
    "*  [How decision optimization (prescriptive analytics) can help](#How--decision-optimization-can-help)\n",
    "*  [Use decision optimization](#Use-decision-optimization)\n",
    "    *  [Step 1: Import the library](#Step-1:-Import-the-library)\n",
    "    -  [Step 2: Model the data](#Step-2:-Model-the-data)\n",
    "    *  [Step 3: Prepare the data](#Step-3:-Prepare-the-data)\n",
    "    -  [Step 4: Set up the prescriptive model](#Step-4:-Set-up-the-prescriptive-model)\n",
    "        * [Define the decision variables](#Define-the-decision-variables)\n",
    "        * [Express the business constraints](#Express-the-business-constraints)\n",
    "        * [Express the objective](#Express-the-objective)\n",
    "        * [Solve with Decision Optimization](#Solve-with-Decision-Optimization)\n",
    "    *  [Step 5: Investigate the solution and run an example analysis](#Step-5:-Investigate-the-solution-and-then-run-an-example-analysis)\n",
    "*  [Summary](#Summary)\n",
    "\n",
    "****"
   ]
  },
  {
   "cell_type": "markdown",
   "metadata": {},
   "source": [
    "## Describe the business problem\n",
    "\n",
    "This mining operations optimization problem is an implementation of Problem 7 from \"Model Building in Mathematical Programming\" by\n",
    "H.P. Williams. \n",
    "The operational decisions that need to be made are which mines should be operated each year and\n",
    "how much each mine should produce.\n"
   ]
  },
  {
   "cell_type": "markdown",
   "metadata": {},
   "source": [
    "### Business constraints\n",
    "\n",
    " * A mine that is closed cannot be worked.\n",
    " * Once closed, a mine stays closed until the end of the horizon.\n",
    " * Each year, a maximum number of mines can be worked.\n",
    " * For each mine and year, the quantity extracted is limited by the mine's maximum extracted quantity.\n",
    " * The average blend quality must be greater than or equal to the requirement of the year.\n",
    " \n",
    "### Objective and KPIs\n",
    "\n",
    "#### Total actualized  revenue\n",
    "\n",
    "Each year, the total revenue is equal to the total quantity extracted multiplied by the blend price. The time series of revenues is aggregated in one expected revenue by applying the discount rate; in other terms, a revenue of \\$1000 next year is counted as \\$900 actualized, \\$810 if the revenue is expected in two years, etc.\n",
    "\n",
    "#### Total expected royalties\n",
    "\n",
    "A mine that stays open must pay royalties (see the column **royalties** in the DataFrame). Again, royalties from different years are actualized using the discount rate.\n",
    "\n",
    "#### Business objective\n",
    "\n",
    "The business objective is to maximize the net actualized profit, that is the difference between the total actualized revenue and total actualized royalties."
   ]
  },
  {
   "cell_type": "markdown",
   "metadata": {},
   "source": [
    "## How  decision optimization can help\n",
    "\n",
    "* Prescriptive analytics (decision optimization) technology recommends actions that are based on desired outcomes.  It takes into account specific scenarios, resources, and knowledge of past and current events. With this insight, your organization can make better decisions and have greater control of business outcomes.  \n",
    "\n",
    "* Prescriptive analytics is the next step on the path to insight-based actions. It creates value through synergy with predictive analytics, which analyzes data to predict future outcomes.  \n",
    "\n",
    "* Prescriptive analytics takes that insight to the next level by suggesting the optimal way to handle that future situation. Organizations that can act fast in dynamic conditions and make superior decisions in uncertain environments gain a strong competitive advantage.  \n",
    "<br/>\n",
    "\n",
    "<u>With prescriptive analytics, you can:</u> \n",
    "\n",
    "* Automate the complex decisions and trade-offs to better manage your limited resources.\n",
    "* Take advantage of a future opportunity or mitigate a future risk.\n",
    "* Proactively update recommendations based on changing events.\n",
    "* Meet operational goals, increase customer loyalty, prevent threats and fraud, and optimize business processes."
   ]
  },
  {
   "cell_type": "markdown",
   "metadata": {},
   "source": [
    "## Checking minimum requirements\n",
    "This notebook uses some features of pandas that are available in version 0.17.1 or above."
   ]
  },
  {
   "cell_type": "code",
   "execution_count": 1,
   "metadata": {},
   "outputs": [],
   "source": [
    "import pip\n",
    "REQUIRED_MINIMUM_PANDAS_VERSION = '0.17.1'\n",
    "try:\n",
    "    import pandas as pd\n",
    "    assert pd.__version__ >= REQUIRED_MINIMUM_PANDAS_VERSION\n",
    "except:\n",
    "    raise Exception(\"Version %s or above of Pandas is required to run this notebook\" % REQUIRED_MINIMUM_PANDAS_VERSION)"
   ]
  },
  {
   "cell_type": "markdown",
   "metadata": {},
   "source": [
    "## Use decision optimization"
   ]
  },
  {
   "cell_type": "markdown",
   "metadata": {},
   "source": [
    "### Step 1: Import the library\n",
    "\n",
    "Run the following code to import the Decision Optimization CPLEX Modeling library.  The *DOcplex* library contains the two modeling packages, Mathematical Programming and Constraint Programming, referred to earlier."
   ]
  },
  {
   "cell_type": "code",
   "execution_count": 2,
   "metadata": {},
   "outputs": [],
   "source": [
    "import sys\n",
    "try:\n",
    "    import docplex.mp\n",
    "except:\n",
    "    raise Exception('Please install docplex. See https://pypi.org/project/docplex/')"
   ]
  },
  {
   "cell_type": "markdown",
   "metadata": {},
   "source": [
    "If *CPLEX* is not installed, you can install CPLEX Community edition."
   ]
  },
  {
   "cell_type": "code",
   "execution_count": 3,
   "metadata": {},
   "outputs": [],
   "source": [
    "try:\n",
    "    import cplex\n",
    "except:\n",
    "    raise Exception('Please install CPLEX. See https://pypi.org/project/cplex/')"
   ]
  },
  {
   "cell_type": "markdown",
   "metadata": {},
   "source": [
    "### Step 2: Model the data\n",
    "#### Mining Data\n",
    "\n",
    "The mine data is provided as a *pandas* DataFrame. For each mine, we are given the amount of royalty to pay when operating the mine, its ore quality, and the maximum quantity that we can extract from the mine.\n"
   ]
  },
  {
   "cell_type": "code",
   "execution_count": 4,
   "metadata": {},
   "outputs": [],
   "source": [
    "# If needed, install the module pandas prior to executing this cell\n",
    "import pandas as pd\n",
    "from pandas import DataFrame, Series"
   ]
  },
  {
   "cell_type": "code",
   "execution_count": 5,
   "metadata": {},
   "outputs": [
    {
     "data": {
      "text/html": [
       "<div>\n",
       "<style scoped>\n",
       "    .dataframe tbody tr th:only-of-type {\n",
       "        vertical-align: middle;\n",
       "    }\n",
       "\n",
       "    .dataframe tbody tr th {\n",
       "        vertical-align: top;\n",
       "    }\n",
       "\n",
       "    .dataframe thead th {\n",
       "        text-align: right;\n",
       "    }\n",
       "</style>\n",
       "<table border=\"1\" class=\"dataframe\">\n",
       "  <thead>\n",
       "    <tr style=\"text-align: right;\">\n",
       "      <th></th>\n",
       "      <th>royalties</th>\n",
       "      <th>ore_quality</th>\n",
       "      <th>max_extract</th>\n",
       "    </tr>\n",
       "    <tr>\n",
       "      <th>range_mines</th>\n",
       "      <th></th>\n",
       "      <th></th>\n",
       "      <th></th>\n",
       "    </tr>\n",
       "  </thead>\n",
       "  <tbody>\n",
       "    <tr>\n",
       "      <td>0</td>\n",
       "      <td>5</td>\n",
       "      <td>1.0</td>\n",
       "      <td>2.0</td>\n",
       "    </tr>\n",
       "    <tr>\n",
       "      <td>1</td>\n",
       "      <td>4</td>\n",
       "      <td>0.7</td>\n",
       "      <td>2.5</td>\n",
       "    </tr>\n",
       "    <tr>\n",
       "      <td>2</td>\n",
       "      <td>4</td>\n",
       "      <td>1.5</td>\n",
       "      <td>1.3</td>\n",
       "    </tr>\n",
       "    <tr>\n",
       "      <td>3</td>\n",
       "      <td>5</td>\n",
       "      <td>0.5</td>\n",
       "      <td>3.0</td>\n",
       "    </tr>\n",
       "  </tbody>\n",
       "</table>\n",
       "</div>"
      ],
      "text/plain": [
       "             royalties  ore_quality  max_extract\n",
       "range_mines                                     \n",
       "0                    5          1.0          2.0\n",
       "1                    4          0.7          2.5\n",
       "2                    4          1.5          1.3\n",
       "3                    5          0.5          3.0"
      ]
     },
     "execution_count": 5,
     "metadata": {},
     "output_type": "execute_result"
    }
   ],
   "source": [
    "df_mines = DataFrame({\"royalties\":   [ 5  ,   4,   4, 5  ],\n",
    "                      \"ore_quality\": [ 1.0, 0.7, 1.5, 0.5],\n",
    "                      \"max_extract\": [ 2  , 2.5, 1.3, 3  ]})\n",
    "nb_mines = len(df_mines)\n",
    "df_mines.index.name='range_mines'\n",
    "df_mines"
   ]
  },
  {
   "cell_type": "markdown",
   "metadata": {},
   "source": [
    "#### Blend quality data\n",
    "\n",
    "Each year, the average blend quality of all ore extracted from the mines\n",
    "must be greater than a minimum quality. This data is provided as a *pandas* Series, the length of which is the plan horizon in years."
   ]
  },
  {
   "cell_type": "code",
   "execution_count": 6,
   "metadata": {},
   "outputs": [
    {
     "name": "stdout",
     "output_type": "stream",
     "text": [
      "* Planning mining operations for: 5 years\n"
     ]
    },
    {
     "data": {
      "text/plain": [
       "count    5.000000\n",
       "mean     0.900000\n",
       "std      0.223607\n",
       "min      0.600000\n",
       "25%      0.800000\n",
       "50%      0.900000\n",
       "75%      1.000000\n",
       "max      1.200000\n",
       "dtype: float64"
      ]
     },
     "execution_count": 6,
     "metadata": {},
     "output_type": "execute_result"
    }
   ],
   "source": [
    "blend_qualities = Series([0.9, 0.8, 1.2, 0.6, 1.0])\n",
    "nb_years = len(blend_qualities)\n",
    "print(\"* Planning mining operations for: {} years\".format(nb_years))\n",
    "blend_qualities.describe()"
   ]
  },
  {
   "cell_type": "markdown",
   "metadata": {},
   "source": [
    "#### Additional (global) data\n",
    "\n",
    "We need extra global data to run our planning model:\n",
    "\n",
    " * a blend price (supposedly flat),\n",
    " * a maximum number of worked mines for any given years (typically 3), and\n",
    " * a discount rate to compute the actualized revenue over the horizon.\n",
    " "
   ]
  },
  {
   "cell_type": "code",
   "execution_count": 7,
   "metadata": {},
   "outputs": [],
   "source": [
    "# global data\n",
    "blend_price = 10\n",
    "max_worked_mines = 3  # work no more than 3 mines each year\n",
    "discount_rate = 0.10  # 10% interest rate each year"
   ]
  },
  {
   "cell_type": "markdown",
   "metadata": {},
   "source": [
    "### Step 3: Prepare the data\n",
    "The data is clean and does not need any cleansing."
   ]
  },
  {
   "cell_type": "markdown",
   "metadata": {},
   "source": [
    "### Step 4: Set up the prescriptive model"
   ]
  },
  {
   "cell_type": "markdown",
   "metadata": {},
   "source": [
    "#### Create DOcplex model\n",
    "The model contains all the business constraints and defines the objective."
   ]
  },
  {
   "cell_type": "code",
   "execution_count": 8,
   "metadata": {},
   "outputs": [],
   "source": [
    "from docplex.mp.model import Model\n",
    "\n",
    "mm = Model(\"mining_pandas\")"
   ]
  },
  {
   "cell_type": "markdown",
   "metadata": {},
   "source": [
    "What are the decisions we need to make?\n",
    "\n",
    " * What mines do we work each year? (a yes/no decision)\n",
    " * What mine do we keep open each year? (again a yes/no decision)\n",
    " * What quantity is extracted from each mine, each year? (a positive number)\n",
    " \n",
    " We need to define some decision variables and add constraints to our model related to these decisions.\n",
    " "
   ]
  },
  {
   "cell_type": "markdown",
   "metadata": {},
   "source": [
    "#### Define the decision variables"
   ]
  },
  {
   "cell_type": "code",
   "execution_count": 9,
   "metadata": {},
   "outputs": [
    {
     "name": "stdout",
     "output_type": "stream",
     "text": [
      "Model: mining_pandas\n",
      " - number of variables: 60\n",
      "   - binary=40, integer=0, continuous=20\n",
      " - number of constraints: 0\n",
      "   - linear=0\n",
      " - parameters: defaults\n",
      " - objective: none\n",
      " - problem type is: MILP\n"
     ]
    }
   ],
   "source": [
    "# auxiliary data: ranges\n",
    "range_mines = range(nb_mines)\n",
    "range_years = range(nb_years)\n",
    "\n",
    "# binary decisions: work the mine or not\n",
    "work_vars  = mm.binary_var_matrix(keys1=range_mines, keys2=range_years, name='work')\n",
    "# open the mine or not\n",
    "open_vars  = mm.binary_var_matrix(range_mines, range_years, name='open')\n",
    "# quantity to extract\n",
    "ore_vars   = mm.continuous_var_matrix(range_mines, range_years, name='ore')\n",
    "mm.print_information()"
   ]
  },
  {
   "cell_type": "markdown",
   "metadata": {},
   "source": [
    "#### Express the business constraints\n",
    "##### Constraint 1: Only open mines can be worked.\n",
    "In order to take advantage of the *pandas* operations to create the optimization model, decision variables are organized in a DataFrame which is automatically indexed by *'range_mines'* and *'range_years'* (that is, the same keys as the dictionary created by the *binary_var_matrix()* method)."
   ]
  },
  {
   "cell_type": "code",
   "execution_count": 10,
   "metadata": {},
   "outputs": [
    {
     "data": {
      "text/html": [
       "<div>\n",
       "<style scoped>\n",
       "    .dataframe tbody tr th:only-of-type {\n",
       "        vertical-align: middle;\n",
       "    }\n",
       "\n",
       "    .dataframe tbody tr th {\n",
       "        vertical-align: top;\n",
       "    }\n",
       "\n",
       "    .dataframe thead th {\n",
       "        text-align: right;\n",
       "    }\n",
       "</style>\n",
       "<table border=\"1\" class=\"dataframe\">\n",
       "  <thead>\n",
       "    <tr style=\"text-align: right;\">\n",
       "      <th></th>\n",
       "      <th></th>\n",
       "      <th>work</th>\n",
       "      <th>open</th>\n",
       "      <th>ore</th>\n",
       "    </tr>\n",
       "    <tr>\n",
       "      <th>range_mines</th>\n",
       "      <th>range_years</th>\n",
       "      <th></th>\n",
       "      <th></th>\n",
       "      <th></th>\n",
       "    </tr>\n",
       "  </thead>\n",
       "  <tbody>\n",
       "    <tr>\n",
       "      <td rowspan=\"5\" valign=\"top\">0</td>\n",
       "      <td>0</td>\n",
       "      <td>work_0_0</td>\n",
       "      <td>open_0_0</td>\n",
       "      <td>ore_0_0</td>\n",
       "    </tr>\n",
       "    <tr>\n",
       "      <td>1</td>\n",
       "      <td>work_0_1</td>\n",
       "      <td>open_0_1</td>\n",
       "      <td>ore_0_1</td>\n",
       "    </tr>\n",
       "    <tr>\n",
       "      <td>2</td>\n",
       "      <td>work_0_2</td>\n",
       "      <td>open_0_2</td>\n",
       "      <td>ore_0_2</td>\n",
       "    </tr>\n",
       "    <tr>\n",
       "      <td>3</td>\n",
       "      <td>work_0_3</td>\n",
       "      <td>open_0_3</td>\n",
       "      <td>ore_0_3</td>\n",
       "    </tr>\n",
       "    <tr>\n",
       "      <td>4</td>\n",
       "      <td>work_0_4</td>\n",
       "      <td>open_0_4</td>\n",
       "      <td>ore_0_4</td>\n",
       "    </tr>\n",
       "  </tbody>\n",
       "</table>\n",
       "</div>"
      ],
      "text/plain": [
       "                             work      open      ore\n",
       "range_mines range_years                             \n",
       "0           0            work_0_0  open_0_0  ore_0_0\n",
       "            1            work_0_1  open_0_1  ore_0_1\n",
       "            2            work_0_2  open_0_2  ore_0_2\n",
       "            3            work_0_3  open_0_3  ore_0_3\n",
       "            4            work_0_4  open_0_4  ore_0_4"
      ]
     },
     "execution_count": 10,
     "metadata": {},
     "output_type": "execute_result"
    }
   ],
   "source": [
    "# Organize all decision variables in a DataFrame indexed by 'range_mines' and 'range_years'\n",
    "df_decision_vars = DataFrame({'work': work_vars, 'open': open_vars, 'ore': ore_vars})\n",
    "# Set index names\n",
    "df_decision_vars.index.names=['range_mines', 'range_years']\n",
    "\n",
    "# Display rows of 'df_decision_vars' DataFrame for first mine\n",
    "df_decision_vars[:nb_years]"
   ]
  },
  {
   "cell_type": "markdown",
   "metadata": {},
   "source": [
    "Now, let's iterate over rows of the DataFrame *\"df_decision_vars\"* and enforce the desired constraints.\n",
    "\n",
    "The *pandas* method *itertuples()* returns a named tuple for each row of a DataFrame. This method is efficient and convenient for iterating over all rows."
   ]
  },
  {
   "cell_type": "code",
   "execution_count": 11,
   "metadata": {},
   "outputs": [
    {
     "name": "stdout",
     "output_type": "stream",
     "text": [
      "Model: mining_pandas\n",
      " - number of variables: 60\n",
      "   - binary=40, integer=0, continuous=20\n",
      " - number of constraints: 20\n",
      "   - linear=20\n",
      " - parameters: defaults\n",
      " - objective: none\n",
      " - problem type is: MILP\n"
     ]
    }
   ],
   "source": [
    "mm.add_constraints(t.work <= t.open for t in df_decision_vars.itertuples())\n",
    "mm.print_information()"
   ]
  },
  {
   "cell_type": "markdown",
   "metadata": {},
   "source": [
    "##### Constraint 2: Once closed, a mine stays closed.\n",
    "\n",
    "These constraints are a little more complex: we state that the series of *open_vars[m,y]* for a given mine *_m_* is decreasing. In other terms, once some *open_vars[m,y]* is zero, all subsequent values for future years are also zero.\n",
    "\n",
    "Let's use the *pandas* *groupby* operation to collect all *\"open\"* decision variables for each mine in separate *pandas* Series.<br>\n",
    "Then, we iterate over the mines and invoke the *aggregate()* method, passing the *postOpenCloseConstraint()* function as the argument.<br>\n",
    "The *pandas* *aggregate()* method invokes *postOpenCloseConstraint()* for each mine, passing the associated Series of *\"open\"* decision variables as argument.\n",
    "The *postOpenCloseConstraint()* function posts a set of constraints on the sequence of *\"open\"* decision variables to enforce that a mine cannot re-open."
   ]
  },
  {
   "cell_type": "code",
   "execution_count": 12,
   "metadata": {},
   "outputs": [
    {
     "data": {
      "text/plain": [
       "range_mines\n",
       "0    posted 4 open/close constraints\n",
       "1    posted 4 open/close constraints\n",
       "2    posted 4 open/close constraints\n",
       "3    posted 4 open/close constraints\n",
       "Name: open, dtype: object"
      ]
     },
     "execution_count": 12,
     "metadata": {},
     "output_type": "execute_result"
    }
   ],
   "source": [
    "# Once closed, a mine stays closed\n",
    "def postOpenCloseConstraint(open_vars):\n",
    "    mm.add_constraints(open_next <= open_curr\n",
    "                      for (open_next, open_curr) in zip(open_vars[1:], open_vars))\n",
    "    # Optionally: return a string to display information regarding the aggregate operation in the Output cell\n",
    "    return \"posted {0} open/close constraints\".format(len(open_vars) - 1)\n",
    "\n",
    "# Constraints on sequences of decision variables are posted for each mine, \n",
    "# using pandas' \"groupby\" operation.\n",
    "df_decision_vars.open.groupby(level='range_mines').aggregate(postOpenCloseConstraint)"
   ]
  },
  {
   "cell_type": "markdown",
   "metadata": {},
   "source": [
    "##### Constraint 3: The number of worked mines each year is limited."
   ]
  },
  {
   "cell_type": "markdown",
   "metadata": {},
   "source": [
    "This time, we use the *pandas* *groupby* operation to collect all *\"work\"* decision variables for each **year** in separate *pandas* Series. Each Series contains the *\"work\"* decision variables for all mines.\n",
    "Then, the maximum number of worked mines constraint is enforced by making sure that the sum of all the terms of each Series is smaller or equal to the maximum number of worked mines.<br>\n",
    "The *aggregate()* method is used to post this constraint for each *year*."
   ]
  },
  {
   "cell_type": "code",
   "execution_count": 13,
   "metadata": {},
   "outputs": [
    {
     "data": {
      "text/plain": [
       "range_years\n",
       "0    work_0_0+work_1_0+work_2_0+work_3_0 <= 3\n",
       "1    work_0_1+work_1_1+work_2_1+work_3_1 <= 3\n",
       "2    work_0_2+work_1_2+work_2_2+work_3_2 <= 3\n",
       "3    work_0_3+work_1_3+work_2_3+work_3_3 <= 3\n",
       "4    work_0_4+work_1_4+work_2_4+work_3_4 <= 3\n",
       "Name: work, dtype: object"
      ]
     },
     "execution_count": 13,
     "metadata": {},
     "output_type": "execute_result"
    }
   ],
   "source": [
    "# Maximum number of worked mines each year\n",
    "# Note that Model.sum() accepts a pandas Series of variables.\n",
    "df_decision_vars.work.groupby(level='range_years').aggregate(\n",
    "    lambda works: mm.add_constraint(mm.sum(works) <= max_worked_mines))"
   ]
  },
  {
   "cell_type": "markdown",
   "metadata": {},
   "source": [
    "##### Constraint 4: The quantity extracted is limited.\n",
    "\n",
    "This constraint expresses two things:\n",
    "  * Only a worked mine can give ore. (Note that there is no minimum on the quantity extracted, this model is very simplified).\n",
    "  * The quantity extracted is less than the mine's maximum extracted quantity."
   ]
  },
  {
   "cell_type": "markdown",
   "metadata": {},
   "source": [
    "To illustrate the *pandas* *join* operation, let's build a DataFrame that joins the *\"df_decision_vars\"* DataFrame and the *\"df_mines.max_extract\"* Series such that each row contains the information to enforce the quantity extracted limit constraint.<br>\n",
    "The default behaviour of the *pandas* *join* operation is to look at the index of *left* DataFrame and to append columns of the *right* Series or DataFrame which have same index.<br>\n",
    "Here is the result of this operation in our case:"
   ]
  },
  {
   "cell_type": "code",
   "execution_count": 14,
   "metadata": {},
   "outputs": [
    {
     "data": {
      "text/html": [
       "<div>\n",
       "<style scoped>\n",
       "    .dataframe tbody tr th:only-of-type {\n",
       "        vertical-align: middle;\n",
       "    }\n",
       "\n",
       "    .dataframe tbody tr th {\n",
       "        vertical-align: top;\n",
       "    }\n",
       "\n",
       "    .dataframe thead th {\n",
       "        text-align: right;\n",
       "    }\n",
       "</style>\n",
       "<table border=\"1\" class=\"dataframe\">\n",
       "  <thead>\n",
       "    <tr style=\"text-align: right;\">\n",
       "      <th></th>\n",
       "      <th></th>\n",
       "      <th>work</th>\n",
       "      <th>open</th>\n",
       "      <th>ore</th>\n",
       "      <th>max_extract</th>\n",
       "    </tr>\n",
       "    <tr>\n",
       "      <th>range_mines</th>\n",
       "      <th>range_years</th>\n",
       "      <th></th>\n",
       "      <th></th>\n",
       "      <th></th>\n",
       "      <th></th>\n",
       "    </tr>\n",
       "  </thead>\n",
       "  <tbody>\n",
       "    <tr>\n",
       "      <td rowspan=\"5\" valign=\"top\">0</td>\n",
       "      <td>0</td>\n",
       "      <td>work_0_0</td>\n",
       "      <td>open_0_0</td>\n",
       "      <td>ore_0_0</td>\n",
       "      <td>2.0</td>\n",
       "    </tr>\n",
       "    <tr>\n",
       "      <td>1</td>\n",
       "      <td>work_0_1</td>\n",
       "      <td>open_0_1</td>\n",
       "      <td>ore_0_1</td>\n",
       "      <td>2.0</td>\n",
       "    </tr>\n",
       "    <tr>\n",
       "      <td>2</td>\n",
       "      <td>work_0_2</td>\n",
       "      <td>open_0_2</td>\n",
       "      <td>ore_0_2</td>\n",
       "      <td>2.0</td>\n",
       "    </tr>\n",
       "    <tr>\n",
       "      <td>3</td>\n",
       "      <td>work_0_3</td>\n",
       "      <td>open_0_3</td>\n",
       "      <td>ore_0_3</td>\n",
       "      <td>2.0</td>\n",
       "    </tr>\n",
       "    <tr>\n",
       "      <td>4</td>\n",
       "      <td>work_0_4</td>\n",
       "      <td>open_0_4</td>\n",
       "      <td>ore_0_4</td>\n",
       "      <td>2.0</td>\n",
       "    </tr>\n",
       "    <tr>\n",
       "      <td rowspan=\"5\" valign=\"top\">1</td>\n",
       "      <td>0</td>\n",
       "      <td>work_1_0</td>\n",
       "      <td>open_1_0</td>\n",
       "      <td>ore_1_0</td>\n",
       "      <td>2.5</td>\n",
       "    </tr>\n",
       "    <tr>\n",
       "      <td>1</td>\n",
       "      <td>work_1_1</td>\n",
       "      <td>open_1_1</td>\n",
       "      <td>ore_1_1</td>\n",
       "      <td>2.5</td>\n",
       "    </tr>\n",
       "    <tr>\n",
       "      <td>2</td>\n",
       "      <td>work_1_2</td>\n",
       "      <td>open_1_2</td>\n",
       "      <td>ore_1_2</td>\n",
       "      <td>2.5</td>\n",
       "    </tr>\n",
       "    <tr>\n",
       "      <td>3</td>\n",
       "      <td>work_1_3</td>\n",
       "      <td>open_1_3</td>\n",
       "      <td>ore_1_3</td>\n",
       "      <td>2.5</td>\n",
       "    </tr>\n",
       "    <tr>\n",
       "      <td>4</td>\n",
       "      <td>work_1_4</td>\n",
       "      <td>open_1_4</td>\n",
       "      <td>ore_1_4</td>\n",
       "      <td>2.5</td>\n",
       "    </tr>\n",
       "  </tbody>\n",
       "</table>\n",
       "</div>"
      ],
      "text/plain": [
       "                             work      open      ore  max_extract\n",
       "range_mines range_years                                          \n",
       "0           0            work_0_0  open_0_0  ore_0_0          2.0\n",
       "            1            work_0_1  open_0_1  ore_0_1          2.0\n",
       "            2            work_0_2  open_0_2  ore_0_2          2.0\n",
       "            3            work_0_3  open_0_3  ore_0_3          2.0\n",
       "            4            work_0_4  open_0_4  ore_0_4          2.0\n",
       "1           0            work_1_0  open_1_0  ore_1_0          2.5\n",
       "            1            work_1_1  open_1_1  ore_1_1          2.5\n",
       "            2            work_1_2  open_1_2  ore_1_2          2.5\n",
       "            3            work_1_3  open_1_3  ore_1_3          2.5\n",
       "            4            work_1_4  open_1_4  ore_1_4          2.5"
      ]
     },
     "execution_count": 14,
     "metadata": {},
     "output_type": "execute_result"
    }
   ],
   "source": [
    "# Display rows of 'df_decision_vars' joined with 'df_mines.max_extract' Series for first two mines\n",
    "df_decision_vars.join(df_mines.max_extract)[:(nb_years * 2)]"
   ]
  },
  {
   "cell_type": "markdown",
   "metadata": {},
   "source": [
    "Now, the constraint to limit quantity extracted is easily created by iterating over all rows of the joined DataFrames:"
   ]
  },
  {
   "cell_type": "code",
   "execution_count": 15,
   "metadata": {},
   "outputs": [
    {
     "name": "stdout",
     "output_type": "stream",
     "text": [
      "Model: mining_pandas\n",
      " - number of variables: 60\n",
      "   - binary=40, integer=0, continuous=20\n",
      " - number of constraints: 61\n",
      "   - linear=61\n",
      " - parameters: defaults\n",
      " - objective: none\n",
      " - problem type is: MILP\n"
     ]
    }
   ],
   "source": [
    "# quantity extracted is limited\n",
    "mm.add_constraints(t.ore <= t.max_extract * t.work\n",
    "                  for t in df_decision_vars.join(df_mines.max_extract).itertuples())\n",
    "mm.print_information()"
   ]
  },
  {
   "cell_type": "markdown",
   "metadata": {},
   "source": [
    "##### Blend constraints\n",
    "\n",
    "We need to compute the total production of each year, stored in auxiliary variables."
   ]
  },
  {
   "cell_type": "markdown",
   "metadata": {},
   "source": [
    "Again, we use the *pandas* *groupby* operation, this time to collect all *\"ore\"* decision variables for each **year** in separate *pandas* Series.<br>\n",
    "The *\"blend\"* variable for a given year is the sum of *\"ore\"* decision variables for the corresponding Series."
   ]
  },
  {
   "cell_type": "code",
   "execution_count": 16,
   "metadata": {},
   "outputs": [
    {
     "name": "stdout",
     "output_type": "stream",
     "text": [
      "Model: mining_pandas\n",
      " - number of variables: 65\n",
      "   - binary=40, integer=0, continuous=25\n",
      " - number of constraints: 66\n",
      "   - linear=66\n",
      " - parameters: defaults\n",
      " - objective: none\n",
      " - problem type is: MILP\n"
     ]
    }
   ],
   "source": [
    "# blend variables\n",
    "blend_vars = mm.continuous_var_list(nb_years, name='blend')\n",
    "\n",
    "# define blend variables as sum of extracted quantities\n",
    "mm.add_constraints(mm.sum(ores.values) == blend_vars[year]\n",
    "                 for year, ores in df_decision_vars.ore.groupby(level='range_years'))\n",
    "mm.print_information()"
   ]
  },
  {
   "cell_type": "markdown",
   "metadata": {},
   "source": [
    "##### Minimum average blend quality constraint\n",
    "\n",
    "The average quality of the blend is the weighted sum of extracted quantities, divided by the total extracted quantity. Because we cannot use division here, we transform the inequality:"
   ]
  },
  {
   "cell_type": "code",
   "execution_count": 17,
   "metadata": {},
   "outputs": [
    {
     "name": "stdout",
     "output_type": "stream",
     "text": [
      "Model: mining_pandas\n",
      " - number of variables: 65\n",
      "   - binary=40, integer=0, continuous=25\n",
      " - number of constraints: 71\n",
      "   - linear=71\n",
      " - parameters: defaults\n",
      " - objective: none\n",
      " - problem type is: MILP\n"
     ]
    }
   ],
   "source": [
    "# Quality requirement on blended ore\n",
    "mm.add_constraints(mm.sum(ores.values * df_mines.ore_quality) >= blend_qualities[year] * blend_vars[year]\n",
    "                 for year, ores in df_decision_vars.ore.groupby(level='range_years'))\n",
    "mm.print_information()"
   ]
  },
  {
   "cell_type": "markdown",
   "metadata": {},
   "source": [
    "#### KPIs and objective\n",
    "\n",
    "Since both revenues and royalties are actualized using the same rate, we compute an auxiliary discount rate array.\n",
    "\n",
    "##### The discount rate array"
   ]
  },
  {
   "cell_type": "code",
   "execution_count": 18,
   "metadata": {},
   "outputs": [
    {
     "name": "stdout",
     "output_type": "stream",
     "text": [
      "range_years\n",
      "0    1.0000\n",
      "1    0.9000\n",
      "2    0.8100\n",
      "3    0.7290\n",
      "4    0.6561\n",
      "Name: discounts, dtype: float64\n"
     ]
    }
   ],
   "source": [
    "actualization = 1.0 - discount_rate\n",
    "assert actualization > 0\n",
    "assert actualization <= 1\n",
    "#\n",
    "s_discounts = Series((actualization ** y for y in range_years), index=range_years, name='discounts')\n",
    "s_discounts.index.name='range_years'\n",
    "# e.g. [1, 0.9, 0.81, ... 0.9**y...]\n",
    "print(s_discounts)"
   ]
  },
  {
   "cell_type": "markdown",
   "metadata": {},
   "source": [
    "##### Total actualized revenue\n",
    "\n",
    "Total expected revenue is the sum of actualized yearly revenues, computed as total extracted quantities multiplied by the blend price (assumed to be constant over the years in this simplified model)."
   ]
  },
  {
   "cell_type": "code",
   "execution_count": 19,
   "metadata": {},
   "outputs": [],
   "source": [
    "expected_revenue = blend_price * mm.dot(blend_vars, s_discounts)\n",
    "mm.add_kpi(expected_revenue, \"Total Actualized Revenue\");"
   ]
  },
  {
   "cell_type": "markdown",
   "metadata": {},
   "source": [
    "##### Total actualized royalty cost\n",
    "\n",
    "The total actualized royalty cost is computed for all open mines, also actualized using the discounts array."
   ]
  },
  {
   "cell_type": "markdown",
   "metadata": {},
   "source": [
    "This time, we use the *pandas* *join* operation twice to build a DataFrame that joins the *\"df_decision_vars\"* DataFrame with the *\"df_mines.royalties\"* and *\"s_discounts\"* Series such that each row contains the relevant information to calculate its contribution to the total actualized royalty cost.<br>\n",
    "The join with the *\"df_mines.royalties\"* Series is performed by looking at the common *\"range_mines\"* index, while the join with the *\"s_discounts\"* Series is performed by looking at the common *\"range_years\"* index."
   ]
  },
  {
   "cell_type": "code",
   "execution_count": 20,
   "metadata": {},
   "outputs": [
    {
     "data": {
      "text/html": [
       "<div>\n",
       "<style scoped>\n",
       "    .dataframe tbody tr th:only-of-type {\n",
       "        vertical-align: middle;\n",
       "    }\n",
       "\n",
       "    .dataframe tbody tr th {\n",
       "        vertical-align: top;\n",
       "    }\n",
       "\n",
       "    .dataframe thead th {\n",
       "        text-align: right;\n",
       "    }\n",
       "</style>\n",
       "<table border=\"1\" class=\"dataframe\">\n",
       "  <thead>\n",
       "    <tr style=\"text-align: right;\">\n",
       "      <th></th>\n",
       "      <th></th>\n",
       "      <th>work</th>\n",
       "      <th>open</th>\n",
       "      <th>ore</th>\n",
       "      <th>royalties</th>\n",
       "      <th>discounts</th>\n",
       "      <th>disc_royalties</th>\n",
       "    </tr>\n",
       "    <tr>\n",
       "      <th>range_mines</th>\n",
       "      <th>range_years</th>\n",
       "      <th></th>\n",
       "      <th></th>\n",
       "      <th></th>\n",
       "      <th></th>\n",
       "      <th></th>\n",
       "      <th></th>\n",
       "    </tr>\n",
       "  </thead>\n",
       "  <tbody>\n",
       "    <tr>\n",
       "      <td rowspan=\"5\" valign=\"top\">0</td>\n",
       "      <td>0</td>\n",
       "      <td>work_0_0</td>\n",
       "      <td>open_0_0</td>\n",
       "      <td>ore_0_0</td>\n",
       "      <td>5</td>\n",
       "      <td>1.0000</td>\n",
       "      <td>5.0000</td>\n",
       "    </tr>\n",
       "    <tr>\n",
       "      <td>1</td>\n",
       "      <td>work_0_1</td>\n",
       "      <td>open_0_1</td>\n",
       "      <td>ore_0_1</td>\n",
       "      <td>5</td>\n",
       "      <td>0.9000</td>\n",
       "      <td>4.5000</td>\n",
       "    </tr>\n",
       "    <tr>\n",
       "      <td>2</td>\n",
       "      <td>work_0_2</td>\n",
       "      <td>open_0_2</td>\n",
       "      <td>ore_0_2</td>\n",
       "      <td>5</td>\n",
       "      <td>0.8100</td>\n",
       "      <td>4.0500</td>\n",
       "    </tr>\n",
       "    <tr>\n",
       "      <td>3</td>\n",
       "      <td>work_0_3</td>\n",
       "      <td>open_0_3</td>\n",
       "      <td>ore_0_3</td>\n",
       "      <td>5</td>\n",
       "      <td>0.7290</td>\n",
       "      <td>3.6450</td>\n",
       "    </tr>\n",
       "    <tr>\n",
       "      <td>4</td>\n",
       "      <td>work_0_4</td>\n",
       "      <td>open_0_4</td>\n",
       "      <td>ore_0_4</td>\n",
       "      <td>5</td>\n",
       "      <td>0.6561</td>\n",
       "      <td>3.2805</td>\n",
       "    </tr>\n",
       "  </tbody>\n",
       "</table>\n",
       "</div>"
      ],
      "text/plain": [
       "                             work      open      ore  royalties  discounts  \\\n",
       "range_mines range_years                                                      \n",
       "0           0            work_0_0  open_0_0  ore_0_0          5     1.0000   \n",
       "            1            work_0_1  open_0_1  ore_0_1          5     0.9000   \n",
       "            2            work_0_2  open_0_2  ore_0_2          5     0.8100   \n",
       "            3            work_0_3  open_0_3  ore_0_3          5     0.7290   \n",
       "            4            work_0_4  open_0_4  ore_0_4          5     0.6561   \n",
       "\n",
       "                         disc_royalties  \n",
       "range_mines range_years                  \n",
       "0           0                    5.0000  \n",
       "            1                    4.5000  \n",
       "            2                    4.0500  \n",
       "            3                    3.6450  \n",
       "            4                    3.2805  "
      ]
     },
     "execution_count": 20,
     "metadata": {},
     "output_type": "execute_result"
    }
   ],
   "source": [
    "df_royalties_data = df_decision_vars.join(df_mines.royalties).join(s_discounts)\n",
    "# add a new column to compute discounted roylaties using pandas multiplication on columns\n",
    "df_royalties_data['disc_royalties'] = df_royalties_data['royalties'] * df_royalties_data['discounts']\n",
    "df_royalties_data[:nb_years]"
   ]
  },
  {
   "cell_type": "markdown",
   "metadata": {},
   "source": [
    "The total royalty is now calculated by multiplying the columns *\"open\"*, *\"royalties\"* and *\"discounts\"*, and to sum over all rows.<br>\n",
    "Using *pandas* constructs, this can be written in a very compact way as follows:"
   ]
  },
  {
   "cell_type": "code",
   "execution_count": 21,
   "metadata": {},
   "outputs": [],
   "source": [
    "total_royalties = mm.dot(df_royalties_data.open, df_royalties_data.disc_royalties)\n",
    "\n",
    "mm.add_kpi(total_royalties, \"Total Actualized Royalties\");"
   ]
  },
  {
   "cell_type": "markdown",
   "metadata": {},
   "source": [
    "#### Express the objective\n",
    "\n",
    "The business objective is to maximize the expected net profit, which is the difference between revenue and royalties."
   ]
  },
  {
   "cell_type": "code",
   "execution_count": 22,
   "metadata": {},
   "outputs": [],
   "source": [
    "mm.maximize(expected_revenue - total_royalties)"
   ]
  },
  {
   "cell_type": "markdown",
   "metadata": {},
   "source": [
    "#### Solve with Decision Optimization\n"
   ]
  },
  {
   "cell_type": "code",
   "execution_count": 23,
   "metadata": {},
   "outputs": [
    {
     "name": "stdout",
     "output_type": "stream",
     "text": [
      "Model: mining_pandas\n",
      " - number of variables: 65\n",
      "   - binary=40, integer=0, continuous=25\n",
      " - number of constraints: 71\n",
      "   - linear=71\n",
      " - parameters: defaults\n",
      " - objective: maximize\n",
      " - problem type is: MILP\n",
      "* model mining_pandas solved with objective = 161.438\n",
      "*  KPI: Total Actualized Revenue   = 214.674\n",
      "*  KPI: Total Actualized Royalties = 53.236\n"
     ]
    }
   ],
   "source": [
    "mm.print_information()\n",
    "# turn this flag on to see the solve log\n",
    "print_cplex_log = False\n",
    "# start the solve\n",
    "s1 = mm.solve(log_output=print_cplex_log)\n",
    "assert s1, \"!!! Solve of the model fails\"\n",
    "mm.report()"
   ]
  },
  {
   "cell_type": "markdown",
   "metadata": {},
   "source": [
    "### Step 5: Investigate the solution and then run an example analysis\n",
    "\n",
    "To analyze the results, we again leverage pandas, by storing the solution value of the _ore_ variables in a new DataFrame.\n",
    "Note that we use the _float_ function of Python to convert the variable to its solution value. Of course, this requires that the model be successfully solved.<br>\n",
    "For convenience, we want to organize the _ore_ solution values in a pivot table with *years* as row index and *mines* as columns. The *pandas* *unstack* operation does this for us."
   ]
  },
  {
   "cell_type": "code",
   "execution_count": 24,
   "metadata": {},
   "outputs": [
    {
     "data": {
      "text/html": [
       "<div>\n",
       "<style scoped>\n",
       "    .dataframe tbody tr th:only-of-type {\n",
       "        vertical-align: middle;\n",
       "    }\n",
       "\n",
       "    .dataframe tbody tr th {\n",
       "        vertical-align: top;\n",
       "    }\n",
       "\n",
       "    .dataframe thead th {\n",
       "        text-align: right;\n",
       "    }\n",
       "</style>\n",
       "<table border=\"1\" class=\"dataframe\">\n",
       "  <thead>\n",
       "    <tr style=\"text-align: right;\">\n",
       "      <th></th>\n",
       "      <th>mine1</th>\n",
       "      <th>mine2</th>\n",
       "      <th>mine3</th>\n",
       "      <th>mine4</th>\n",
       "    </tr>\n",
       "  </thead>\n",
       "  <tbody>\n",
       "    <tr>\n",
       "      <td>y1</td>\n",
       "      <td>2.00</td>\n",
       "      <td>2.500000</td>\n",
       "      <td>1.3</td>\n",
       "      <td>0.0</td>\n",
       "    </tr>\n",
       "    <tr>\n",
       "      <td>y2</td>\n",
       "      <td>2.00</td>\n",
       "      <td>2.500000</td>\n",
       "      <td>1.3</td>\n",
       "      <td>0.0</td>\n",
       "    </tr>\n",
       "    <tr>\n",
       "      <td>y3</td>\n",
       "      <td>1.95</td>\n",
       "      <td>0.000000</td>\n",
       "      <td>1.3</td>\n",
       "      <td>0.0</td>\n",
       "    </tr>\n",
       "    <tr>\n",
       "      <td>y4</td>\n",
       "      <td>2.00</td>\n",
       "      <td>2.500000</td>\n",
       "      <td>1.3</td>\n",
       "      <td>0.0</td>\n",
       "    </tr>\n",
       "    <tr>\n",
       "      <td>y5</td>\n",
       "      <td>2.00</td>\n",
       "      <td>2.166667</td>\n",
       "      <td>1.3</td>\n",
       "      <td>0.0</td>\n",
       "    </tr>\n",
       "  </tbody>\n",
       "</table>\n",
       "</div>"
      ],
      "text/plain": [
       "    mine1     mine2  mine3  mine4\n",
       "y1   2.00  2.500000    1.3    0.0\n",
       "y2   2.00  2.500000    1.3    0.0\n",
       "y3   1.95  0.000000    1.3    0.0\n",
       "y4   2.00  2.500000    1.3    0.0\n",
       "y5   2.00  2.166667    1.3    0.0"
      ]
     },
     "execution_count": 24,
     "metadata": {},
     "output_type": "execute_result"
    }
   ],
   "source": [
    "mine_labels = [(\"mine%d\" % (m+1)) for m in range_mines]\n",
    "ylabels = [(\"y%d\" % (y+1)) for y in range_years]\n",
    "\n",
    "# Add a column to DataFrame containing 'ore' decision variables value\n",
    "# Note that we extract the solution values of ore variables in one operation with get_values().\n",
    "df_decision_vars['ore_values'] = s1.get_values(df_decision_vars.ore)\n",
    "\n",
    "# Create a pivot table by (years, mines), using pandas' \"unstack\" method to transform the 'range_mines' row index\n",
    "#  into columns\n",
    "df_res = df_decision_vars.ore_values.unstack(level='range_mines')\n",
    "\n",
    "# Set user-friendly labels for column and row indices\n",
    "df_res.columns = mine_labels\n",
    "df_res.index = ylabels\n",
    "\n",
    "df_res"
   ]
  },
  {
   "cell_type": "markdown",
   "metadata": {},
   "source": [
    "#### Visualize results\n",
    "\n",
    "In this section you'll need the *matplotlib* module to visualize the results of the solve."
   ]
  },
  {
   "cell_type": "code",
   "execution_count": 25,
   "metadata": {},
   "outputs": [
    {
     "data": {
      "image/png": "[encoded data removed]",
      "text/plain": [
       "<Figure size 720x324 with 1 Axes>"
      ]
     },
     "metadata": {
      "needs_background": "light"
     },
     "output_type": "display_data"
    }
   ],
   "source": [
    "# import matplotlib library for visualization\n",
    "import matplotlib.pyplot as plt\n",
    "# matplotlib graphics are printed -inside- the notebook\n",
    "%matplotlib inline \n",
    "\n",
    "df_res.plot(kind=\"bar\", figsize=(10,4.5))\n",
    "plt.xlabel(\"year\")\n",
    "plt.ylabel(\"ore\")\n",
    "plt.title('ore values per year');"
   ]
  },
  {
   "cell_type": "markdown",
   "metadata": {},
   "source": [
    "## Adding operational constraints.\n",
    "\n",
    "What if we wish to add operational constraints? For example, let us forbid work on certain pairs of (mines, years). Let's see how this impacts profit.\n",
    "\n",
    "First, we add extra constraints to forbid work on those tuples."
   ]
  },
  {
   "cell_type": "code",
   "execution_count": 26,
   "metadata": {},
   "outputs": [
    {
     "name": "stdout",
     "output_type": "stream",
     "text": [
      "Model: mining_pandas\n",
      " - number of variables: 65\n",
      "   - binary=40, integer=0, continuous=25\n",
      " - number of constraints: 77\n",
      "   - linear=77\n",
      " - parameters: defaults\n",
      " - objective: maximize\n",
      " - problem type is: MILP\n"
     ]
    }
   ],
   "source": [
    "# a list of (mine, year) tuples on which work is not possible.\n",
    "forced_stops = [(1, 2), (0, 1), (1, 0), (3, 2), (2, 3), (3, 4)]\n",
    "\n",
    "mm.add_constraints(work_vars[stop_m, stop_y] == 0 \n",
    "                   for stop_m, stop_y in forced_stops)\n",
    "mm.print_information()"
   ]
  },
  {
   "cell_type": "markdown",
   "metadata": {},
   "source": [
    "The previous solution does not satisfy these constraints; for example (0, 1) means mine 1 should not be worked on year 2, but it was in fact worked in the above solution.\n",
    "\n",
    "To help CPLEX find a feasible solution, we will build a heuristic feasible solution and pass it to CPLEX."
   ]
  },
  {
   "cell_type": "markdown",
   "metadata": {},
   "source": [
    "## Using an heuristic start solution\n",
    "\n",
    "In this section, we show how one can provide a start solution to CPLEX, based on heuristics.\n",
    "\n",
    "First, we build a solution in which mines are worked whenever possible, that is for all couples *(m,y)* except for those in *forced_stops*."
   ]
  },
  {
   "cell_type": "code",
   "execution_count": 27,
   "metadata": {},
   "outputs": [],
   "source": [
    "# build a new, empty solution\n",
    "full_mining = mm.new_solution()\n",
    "\n",
    "# define the worked \n",
    "for m in range_mines:\n",
    "    for y in range_years:\n",
    "        if (m,y) not in forced_stops:\n",
    "            full_mining.add_var_value(work_vars[m,y], 1)\n",
    "#full_mining.display()"
   ]
  },
  {
   "cell_type": "markdown",
   "metadata": {},
   "source": [
    "Then we pass this solution to the model as a MIP start solution and re-solve,\n",
    "this time with CPLEX logging turned on."
   ]
  },
  {
   "cell_type": "code",
   "execution_count": 28,
   "metadata": {
    "scrolled": true
   },
   "outputs": [
    {
     "name": "stdout",
     "output_type": "stream",
     "text": [
      "Version identifier: 12.10.0.0 | 2019-11-26 | 843d4de2ae\n",
      "CPXPARAM_Read_DataCheck                          1\n",
      "2 of 5 MIP starts provided solutions.\n",
      "MIP start 'm1' defined initial solution with objective 108.9605.\n",
      "Tried aggregator 5 times.\n",
      "MIP Presolve eliminated 41 rows and 29 columns.\n",
      "MIP Presolve modified 23 coefficients.\n",
      "Aggregator did 36 substitutions.\n",
      "All rows and columns eliminated.\n",
      "Presolve time = 0.00 sec. (0.18 ticks)\n",
      "\n",
      "Root node processing (before b&c):\n",
      "  Real time             =    0.02 sec. (0.27 ticks)\n",
      "Parallel b&c, 12 threads:\n",
      "  Real time             =    0.00 sec. (0.00 ticks)\n",
      "  Sync time (average)   =    0.00 sec.\n",
      "  Wait time (average)   =    0.00 sec.\n",
      "                          ------------\n",
      "Total (root+branch&cut) =    0.02 sec. (0.27 ticks)\n",
      "* model mining_pandas solved with objective = 157.936\n",
      "*  KPI: Total Actualized Revenue   = 228.367\n",
      "*  KPI: Total Actualized Royalties = 70.431\n"
     ]
    }
   ],
   "source": [
    "mm.add_mip_start(full_mining)\n",
    "s2 = mm.solve(log_output=True)  # turns on CPLEX logging\n",
    "assert s2, \"solve failed\"\n",
    "mm.report()"
   ]
  },
  {
   "cell_type": "markdown",
   "metadata": {},
   "source": [
    "You can see in the CPLEX log above, that our MIP start solution provided a good start for CPLEX, defining an initial solution with objective 157.9355\n",
    "\n",
    "Now we can again visualize the results with *pandas* and *matplotlib*."
   ]
  },
  {
   "cell_type": "code",
   "execution_count": 29,
   "metadata": {},
   "outputs": [
    {
     "data": {
      "image/png": "[encoded data removed]",
      "text/plain": [
       "<Figure size 720x324 with 1 Axes>"
      ]
     },
     "metadata": {
      "needs_background": "light"
     },
     "output_type": "display_data"
    }
   ],
   "source": [
    "# Add a column to DataFrame containing 'ore' decision variables value and create a pivot table by (years, mines)\n",
    "df_decision_vars['ore_values2'] = s2.get_values(df_decision_vars.ore)\n",
    "df_res2 = df_decision_vars.ore_values2.unstack(level='range_mines')\n",
    "df_res2.columns = mine_labels\n",
    "df_res2.index = ylabels\n",
    "\n",
    "df_res2.plot(kind=\"bar\", figsize=(10,4.5))\n",
    "plt.xlabel(\"year\")\n",
    "plt.ylabel(\"ore\")\n",
    "plt.title('ore values per year - what-if scenario');"
   ]
  },
  {
   "cell_type": "markdown",
   "metadata": {},
   "source": [
    "As expected, mine1 is not worked in year 2: there is no blue bar at y2."
   ]
  },
  {
   "cell_type": "markdown",
   "metadata": {
    "collapsed": true
   },
   "source": [
    "## Summary\n",
    "\n",
    "You learned how to set up and use IBM Decision Optimization CPLEX Modeling for Python to formulate a Mathematical Programming model and solve it with CPLEX."
   ]
  },
  {
   "cell_type": "markdown",
   "metadata": {},
   "source": [
    "## References\n",
    "* [CPLEX Modeling for Python documentation](http://ibmdecisionoptimization.github.io/docplex-doc/)\n",
    "* [IBM Decision Optimization](https://www.ibm.com/analytics/decision-optimization)\n",
    "* Need help with DOcplex or to report a bug? Please go [here](https://stackoverflow.com/questions/tagged/docplex).\n",
    "* Contact us at `IBM Community <https://ibm.biz/DOcommunity>`__."
   ]
  },
  {
   "cell_type": "markdown",
   "metadata": {},
   "source": [
    "Copyright &copy; 2017-2019 IBM. IPLA licensed Sample Materials."
   ]
  },
  {
   "cell_type": "code",
   "execution_count": null,
   "metadata": {},
   "outputs": [],
   "source": []
  }
 ],
 "metadata": {
  "anaconda-cloud": {},
  "kernelspec": {
   "display_name": "Python 3",
   "language": "python",
   "name": "python3"
  },
  "language_info": {
   "codemirror_mode": {
    "name": "ipython",
    "version": 3
   },
   "file_extension": ".py",
   "mimetype": "text/x-python",
   "name": "python",
   "nbconvert_exporter": "python",
   "pygments_lexer": "ipython3",
   "version": "3.7.8"
  }
 },
 "nbformat": 4,
 "nbformat_minor": 1
}
