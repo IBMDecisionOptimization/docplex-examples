{
 "cells": [
  {
   "cell_type": "markdown",
   "metadata": {
    "render": true
   },
   "source": [
    "# Using the Progress Listeners with CPLEX Optimizer\n",
    "\n",
    "This tutorial includes everything you need to set up decision optimization engines, build a mathematical programming model, then use the progress listeners to monitor progress, capture intermediate solutions and stop the solve on your own criteria.\n",
    "\n",
    "\n",
    "When you finish this tutorial, you'll have a foundational knowledge of _Prescriptive Analytics_.\n",
    "\n",
    ">This notebook is part of **[Prescriptive Analytics for Python](http://ibmdecisionoptimization.github.io/docplex-doc/)**\n",
    ">\n",
    ">It requires either an [installation of CPLEX Optimizers](http://ibmdecisionoptimization.github.io/docplex-doc/getting_started.html) or it can be run on [IBM Cloud Pak for Data as a Service](https://www.ibm.com/products/cloud-pak-for-data/as-a-service/) (Sign up for a [free IBM Cloud account](https://dataplatform.cloud.ibm.com/registration/stepone?context=wdp&apps=all>)\n",
    "and you can start using `IBM Cloud Pak for Data as a Service` right away).\n",
    ">\n",
    "> CPLEX is available on <i>IBM Cloud Pack for Data</i> and <i>IBM Cloud Pak for Data as a Service</i>:\n",
    ">    - <i>IBM Cloud Pak for Data as a Service</i>: Depends on the runtime used:\n",
    ">         - <i>Python 3.x</i> runtime: Community edition\n",
    ">         - <i>Python 3.x + DO</i> runtime: full edition\n",
    ">    - <i>Cloud Pack for Data</i>: Community edition is installed by default. Please install `DO` addon in `Watson Studio Premium` for the full edition\n",
    "\n",
    "\n",
    "Table of contents:\n",
    "\n",
    "-  [Describe the business problem](#Describe-the-business-problem:--Games-Scheduling-in-the-National-Football-League)\n",
    "*  [How decision optimization (prescriptive analytics) can help](#How--decision-optimization-can-help)\n",
    "*  [Use decision optimization](#Use-decision-optimization)\n",
    "    *  [Step 1: Set up the prescriptive model](#Step-1:-Set-up-the-prescriptive-model)\n",
    "    *  [Step 2: Monitoring CPLEX progress](#Step-2:-Monitoring-CPLEX-progress)\n",
    "    *  [Step 3: Aborting the search with a custom progress listener](#Step-3:-Aborting-the-search-with-a-custom-progress-listener)\n",
    "    *  [Variant: using matplotlib to plot a chart of gap vs. time](#Variant:-using-matplotlib-to-plot-a-chart-of-gap-vs.-time)\n",
    "*  [Summary](#Summary)\n",
    "****\n"
   ]
  },
  {
   "cell_type": "markdown",
   "metadata": {
    "render": true
   },
   "source": [
    "## How  decision optimization can help\n",
    "\n",
    "* Prescriptive analytics (decision optimization) technology recommends actions that are based on desired outcomes.  It takes into account specific scenarios, resources, and knowledge of past and current events. With this insight, your organization can make better decisions and have greater control of business outcomes.  \n",
    "\n",
    "* Prescriptive analytics is the next step on the path to insight-based actions. It creates value through synergy with predictive analytics, which analyzes data to predict future outcomes.  \n",
    "\n",
    "* Prescriptive analytics takes that insight to the next level by suggesting the optimal way to handle that future situation. Organizations that can act fast in dynamic conditions and make superior decisions in uncertain environments gain a strong competitive advantage.  \n",
    "<br/>\n",
    "\n",
    "<u>With prescriptive analytics, you can:</u> \n",
    "\n",
    "* Automate the complex decisions and trade-offs to better manage your limited resources.\n",
    "* Take advantage of a future opportunity or mitigate a future risk.\n",
    "* Proactively update recommendations based on changing events.\n",
    "* Meet operational goals, increase customer loyalty, prevent threats and fraud, and optimize business processes.\n",
    "\n"
   ]
  },
  {
   "cell_type": "markdown",
   "metadata": {},
   "source": [
    "## Use decision optimization"
   ]
  },
  {
   "cell_type": "markdown",
   "metadata": {
    "render": true
   },
   "source": [
    "### Step 1: Set up the prescriptive model"
   ]
  },
  {
   "cell_type": "markdown",
   "metadata": {},
   "source": [
    "We need a scalable MIP model in order to show how to leverage progress listeners in Docplex MP API. \n",
    "\n",
    "Progress listeners are designed to monitor the progress of complex MIP search in docplex MP, \n",
    "that is, linear programs with integer variables.\n",
    "\n",
    "This model is easily scalable, and thus is appropriate to demonstrate  the progress listener API, but any other scalable MIP model would do."
   ]
  },
  {
   "cell_type": "code",
   "execution_count": 1,
   "metadata": {},
   "outputs": [],
   "source": [
    "from docplex.mp.model import Model\n",
    "\n",
    "def build_hearts(r, **kwargs):\n",
    "    # initialize the model\n",
    "    mdl = Model('love_hearts_%d' % r, **kwargs)\n",
    "\n",
    "    # the dictionary of decision variables, one variable\n",
    "    # for each circle with i in (1 .. r) as the row and\n",
    "    # j in (1 .. i) as the position within the row    \n",
    "    idx = [(i, j) for i in range(1, r + 1) for j in range(1, i + 1)]\n",
    "    a = mdl.binary_var_dict(idx, name=lambda ij: \"a_%d_%d\" % ij)\n",
    "\n",
    "    # the constraints - enumerate all equilateral triangles\n",
    "    # and prevent any such triangles being formed by keeping\n",
    "    # the number of included circles at its vertexes below 3\n",
    "\n",
    "    # for each row except the last\n",
    "    for i in range(1, r):\n",
    "        # for each position in this row\n",
    "        for j in range(1, i + 1):\n",
    "            # for each triangle of side length (k) with its upper vertex at\n",
    "            # (i, j) and its sides parallel to those of the overall shape\n",
    "            for k in range(1, r - i + 1):\n",
    "                # the sets of 3 points at the same distances clockwise along the\n",
    "                # sides of these triangles form k equilateral triangles\n",
    "                for m in range(k):\n",
    "                    u, v, w = (i + m, j), (i + k, j + m), (i + k - m, j + k - m)\n",
    "                    mdl.add(a[u] + a[v] + a[w] <= 2)\n",
    "\n",
    "    mdl.maximize(mdl.sum(a))\n",
    "    return mdl"
   ]
  },
  {
   "cell_type": "markdown",
   "metadata": {},
   "source": [
    "Let's try to build a small instance of the 'hearts' program and print its characteristics."
   ]
  },
  {
   "cell_type": "code",
   "execution_count": 2,
   "metadata": {},
   "outputs": [
    {
     "name": "stdout",
     "output_type": "stream",
     "text": [
      "Model: love_hearts_5\n",
      " - number of variables: 15\n",
      "   - binary=15, integer=0, continuous=0\n",
      " - number of constraints: 35\n",
      "   - linear=35\n",
      " - parameters: defaults\n",
      " - objective: maximize\n",
      " - problem type is: MILP\n"
     ]
    }
   ],
   "source": [
    "m5 = build_hearts(5)\n",
    "m5.print_information()"
   ]
  },
  {
   "cell_type": "markdown",
   "metadata": {},
   "source": [
    "### Step 2: Monitoring CPLEX progress\n",
    "\n",
    "MIP search can take some time for large (or complex) problems. Setting the `log_output=True` in a solve() lets\n",
    "you display the CPLEX log, which provides a lot of information. In certain cases, you might want to take control of what happens at intermediate points in the search, and this is what listeners are designed for.\n",
    "\n",
    "#### An introduction to progress listeners\n",
    "\n",
    "Progress listeners are objects, sub-classes of the `docplex.mp.progress.ProgressListener` class. Once a listener has been attached to a model instance (using `Model.add_progress_listener`), it receives method calls from within the CPLEX MIP search. CPLEX code decides when listeners are called, and this baseline logic cannot be changed. \n",
    "However, progress listeners let you select certian types of events.\n",
    "\n",
    "First, we have to import the `docplex.mp.progress` module, which contains everything about progress listeners."
   ]
  },
  {
   "cell_type": "code",
   "execution_count": 3,
   "metadata": {},
   "outputs": [],
   "source": [
    "from docplex.mp.progress import *\n"
   ]
  },
  {
   "cell_type": "markdown",
   "metadata": {},
   "source": [
    "#### Monitoring MIP search progress\n",
    "\n",
    "The simplest class of listener is the `TextProgressListener`, which prints a message on the stdout each time it is called. Let's see what this does on our small model."
   ]
  },
  {
   "cell_type": "code",
   "execution_count": 4,
   "metadata": {},
   "outputs": [],
   "source": [
    "\n",
    "# connect a listener to the model\n",
    "m5.add_progress_listener(TextProgressListener())"
   ]
  },
  {
   "cell_type": "markdown",
   "metadata": {
    "render": true
   },
   "source": [
    "#### Solve with Decision Optimization\n",
    "\n",
    "If you're using a Community Edition of CPLEX runtimes, depending on the size of the problem, the solve stage may fail and will need a paying subscription or product installation.\n",
    "\n",
    "Here, we solve with the ***clean_before_true*** flag set to True, as we want each solve to produce the same output. Without this flag, a second solve on the model would start from the first solve solution, and would not have the same output."
   ]
  },
  {
   "cell_type": "code",
   "execution_count": 5,
   "metadata": {},
   "outputs": [
    {
     "name": "stdout",
     "output_type": "stream",
     "text": [
      "  1+: Node=0 Left=1 Best Integer=7.0000, Best Bound=10.0000, gap=42.86%, ItCnt=21 [0.0s]\n",
      "  2+: Node=0 Left=1 Best Integer=7.0000, Best Bound=9.3266, gap=33.24%, ItCnt=33 [0.0s]\n",
      "  3+: Node=0 Left=1 Best Integer=7.0000, Best Bound=9.0636, gap=29.48%, ItCnt=42 [0.0s]\n",
      "  4+: Node=0 Left=1 Best Integer=8.0000, Best Bound=9.0636, gap=13.29%, ItCnt=42 [0.0s]\n"
     ]
    }
   ],
   "source": [
    "m5.solve(clean_before_solve=True);"
   ]
  },
  {
   "cell_type": "markdown",
   "metadata": {},
   "source": [
    "The listener prints one line each time it is called by CPLEX code; fromthis we can see that:\n",
    "\n",
    "   - the listener is called several time from the same node (0)\n",
    "   - the listener is called several time at the same iteration (ItCnt=42)\n",
    "   - the listener is called several times with the same objective 7.0\n",
    "   \n",
    "In each line, the '+' indicates that an intermediate solution is available at the time of the call. In this case, an intermediate solution was available at each call, but this is not always the case.\n",
    "Looking closer, we also see that the listener reacts to events which improve either the objective or the best bound.\n",
    "This is due to the value of the _clock_ attribute of the listener\n",
    "\n",
    "#### Listener clocks\n",
    "\n",
    "Clocks are value sof the enumerated type `docplex.mp.progress.ProgressClock`, which defines types of events to listen to. Every listener has a clock, the default being `ProgressClock.Gap`, which reacts when an event satisfies the following conditions:\n",
    "\n",
    "   - an intermediate solution is available \n",
    "   - either the objective has improved _or_ the best bound has improved\n",
    "    \n",
    "Let's check this on our model:"
   ]
  },
  {
   "cell_type": "code",
   "execution_count": 6,
   "metadata": {},
   "outputs": [
    {
     "name": "stdout",
     "output_type": "stream",
     "text": [
      "listener #1 has type 'TextProgressListener', clock=ProgressClock.Gap\n"
     ]
    }
   ],
   "source": [
    "for l, listener in enumerate(m5.iter_progress_listeners(), start=1):\n",
    "    print(\"listener #{0} has type '{1}', clock={2}\".format(l, listener.__class__.__name__, listener.clock))"
   ]
  },
  {
   "cell_type": "markdown",
   "metadata": {},
   "source": [
    "Now, let's experiment with a text progress listener listening to the `All` clock, that is the baseline clock that reacts to all calls from CPLEX. To do so, we first clear all progress listeners and add a new one.\n",
    "\n",
    "Note the constructor also accepts strings, interpreted as clock name."
   ]
  },
  {
   "cell_type": "code",
   "execution_count": 7,
   "metadata": {},
   "outputs": [
    {
     "name": "stdout",
     "output_type": "stream",
     "text": [
      "  1+: Node=0 Left=1 Best Integer=7.0000, Best Bound=10.0000, gap=42.86%, ItCnt=21 [0.0s]\n",
      "  2+: Node=0 Left=1 Best Integer=7.0000, Best Bound=10.0000, gap=42.86%, ItCnt=21 [0.0s]\n",
      "  3+: Node=0 Left=1 Best Integer=7.0000, Best Bound=10.0000, gap=42.86%, ItCnt=33 [0.0s]\n",
      "  4+: Node=0 Left=1 Best Integer=7.0000, Best Bound=9.3266, gap=33.24%, ItCnt=33 [0.0s]\n",
      "  5+: Node=0 Left=1 Best Integer=7.0000, Best Bound=9.3266, gap=33.24%, ItCnt=42 [0.0s]\n",
      "  6+: Node=0 Left=1 Best Integer=7.0000, Best Bound=9.0636, gap=29.48%, ItCnt=42 [0.0s]\n",
      "  7+: Node=0 Left=1 Best Integer=8.0000, Best Bound=9.0636, gap=13.29%, ItCnt=42 [0.0s]\n",
      "  8+: Node=0 Left=1 Best Integer=8.0000, Best Bound=9.0636, gap=13.29%, ItCnt=45 [0.0s]\n"
     ]
    }
   ],
   "source": [
    "m5.clear_progress_listeners()\n",
    "m5.add_progress_listener(TextProgressListener(clock='all'))\n",
    "m5.solve(clean_before_solve=True);"
   ]
  },
  {
   "cell_type": "markdown",
   "metadata": {},
   "source": [
    "In this case, the listener is called more often, sometimes with identical objective and bound (see lines 3 and 4). This explains why the default clock is __Gap__ , to focus on actual changes.\n",
    "\n",
    "Other possible values for the clock enumerated type are:\n",
    "\n",
    "   - __Solutions__: listen to all intermediate solutions, whether or not they improve objective or best bound.\n",
    "   - __Objective__: listen to intermediate solutions, which improve the objective.\n",
    "   \n",
    "How exactly is improvement measured? A listener constructor can specify an _absdiff_ and _reldiff_ parameters which ar e interpreted as the minimal absolute (resp. relative) improvement to accept or not a call from CPLEX.\n",
    "\n",
    "Let us demonstrate this with a third `TextProgressListener` with clock set to 'objective' and an absolute diff of 1. We expect this listener to react whenever th eobjec5tive ha simprobed by an amount greater than 1:"
   ]
  },
  {
   "cell_type": "code",
   "execution_count": 8,
   "metadata": {},
   "outputs": [
    {
     "name": "stdout",
     "output_type": "stream",
     "text": [
      "  1+: Node=0 Left=1 Best Integer=7.0000, Best Bound=10.0000, gap=42.86%, ItCnt=21 [0.0s]\n",
      "  2+: Node=0 Left=1 Best Integer=8.0000, Best Bound=9.0636, gap=13.29%, ItCnt=42 [0.0s]\n"
     ]
    }
   ],
   "source": [
    "m5.clear_progress_listeners()\n",
    "m5.add_progress_listener(TextProgressListener(clock='objective', absdiff=1, reldiff=0))\n",
    "m5.solve(clean_before_solve=True);"
   ]
  },
  {
   "cell_type": "markdown",
   "metadata": {},
   "source": [
    "As expected, the listener accepted three events, with the objective vaklues of 6,7 and 8."
   ]
  },
  {
   "cell_type": "markdown",
   "metadata": {},
   "source": [
    "#### Monitor progress: manage intermediate solutions"
   ]
  },
  {
   "cell_type": "markdown",
   "metadata": {},
   "source": [
    "This is done by another predefined listener class: `SolutionRecorder`. This type of listener is a subclass of the `SolutionListerer` class. Again, this listener contains a _clock_ parameter (default is __Gap__) which controls which events are accepted or not.\n",
    "\n",
    "The default behavior is to accept only solutions, which improve either the objective or the best bound"
   ]
  },
  {
   "cell_type": "code",
   "execution_count": 9,
   "metadata": {},
   "outputs": [],
   "source": [
    "from docplex.mp.progress import SolutionRecorder\n",
    "\n",
    "sol_recorder = SolutionRecorder()\n",
    "m5.clear_progress_listeners()\n",
    "m5.add_progress_listener(sol_recorder)"
   ]
  },
  {
   "cell_type": "markdown",
   "metadata": {},
   "source": [
    "Again, we solve with the `clean_before_solve` flag set to `True` to ensure a deterministic behavior."
   ]
  },
  {
   "cell_type": "code",
   "execution_count": 10,
   "metadata": {},
   "outputs": [],
   "source": [
    "m5.solve(clean_before_solve=True);"
   ]
  },
  {
   "cell_type": "markdown",
   "metadata": {},
   "source": [
    "At the end of the solve, the recorder contains all the intermediate solutions.\n",
    "Now, let's display some information about those intermediate solutions."
   ]
  },
  {
   "cell_type": "code",
   "execution_count": 11,
   "metadata": {},
   "outputs": [
    {
     "name": "stdout",
     "output_type": "stream",
     "text": [
      "* The recorder contains 4 solutions\n",
      "  - solution #1, obj=7.0, non-zero-values=15, total=7.0\n",
      "  - solution #2, obj=7.0, non-zero-values=15, total=7.0\n",
      "  - solution #3, obj=7.0, non-zero-values=15, total=7.0\n",
      "  - solution #4, obj=8.0, non-zero-values=15, total=8.0\n"
     ]
    }
   ],
   "source": [
    "# utility function to display recorded solutions in a recorder.\n",
    "def display_recorded_solutions(rec):\n",
    "    print('* The recorder contains {} solutions'.format(rec.number_of_solutions))\n",
    "    for s, sol in enumerate(rec.iter_solutions(), start=1):\n",
    "        sumvals = sum(v for _, v in sol.iter_var_values())\n",
    "        print('  - solution #{0}, obj={1}, non-zero-values={2}, total={3}'.format(\n",
    "           s, sol.objective_value, sol.number_of_var_values, sumvals))\n",
    "        \n",
    "display_recorded_solutions(sol_recorder)"
   ]
  },
  {
   "cell_type": "markdown",
   "metadata": {},
   "source": [
    "Now, let's try a solution recorder with a different clock: __Objective__. This recorder will record only intermediate solutions which improve the objective, regardless of the best bound. Such changes occur less frequently than the Gap clock, so we expect less solutions to be recorded."
   ]
  },
  {
   "cell_type": "code",
   "execution_count": 12,
   "metadata": {},
   "outputs": [
    {
     "name": "stdout",
     "output_type": "stream",
     "text": [
      "* The recorder contains 2 solutions\n",
      "  - solution #1, obj=7.0, non-zero-values=15, total=7.0\n",
      "  - solution #2, obj=8.0, non-zero-values=15, total=8.0\n"
     ]
    }
   ],
   "source": [
    "sol_recorder2 = SolutionRecorder(clock='objective')\n",
    "m5.clear_progress_listeners()\n",
    "m5.add_progress_listener(sol_recorder2)\n",
    "m5.solve(clean_before_solve=True)\n",
    "display_recorded_solutions(sol_recorder2)"
   ]
  },
  {
   "cell_type": "markdown",
   "metadata": {},
   "source": [
    "As expected, the 'objective' recorder stored only 3 solutions instead of 5. Only one solution with objective 7 is recorded, instead of three with the 'Gap' recorder."
   ]
  },
  {
   "cell_type": "markdown",
   "metadata": {},
   "source": [
    "### Step 3: Aborting the search with a custom progress listener\n",
    "\n",
    "MIP search can be time-consuming; insome cases, a 'good-enough' solution can be sufficient.\n",
    "For example, when the gap is converging very slowly, it may be a good idea to stop and use the last solution instead of waiting for along time to prove optimality.\n",
    "\n",
    "Let's assume we want to implement the following behavior: \n",
    "stop the search, when no improvement has occured in objective for N seconds since the latest improvements.\n",
    "\n",
    "The first question to ask is: what clock do we listen to? As we want to stop as soon as \n",
    "elapsed time without improvement is greater than our limit, we listent to the higher frequency clock, `All` clock.\n",
    "\n",
    "Second, as we do not care for solutions, we sub-class from `ProgressListener`, not from `SolutionListener`.\n",
    "\n",
    "What do we need to code this aborter? we need to know whether an incumbent solution is present, and what is its objective value, then check whether the objective has improved or not.\n",
    "If it has improved, we store the value of the objective and the time (obtained throught `ProgressData.time`),\n",
    "if not, we check whether elapsed time is greater than the limit, and if it is the case, call method `abort()`.\n",
    "\n",
    "The code is as follows:"
   ]
  },
  {
   "cell_type": "code",
   "execution_count": 13,
   "metadata": {},
   "outputs": [],
   "source": [
    "from docplex.mp.progress import ProgressListener\n",
    "\n",
    "class AutomaticAborter(ProgressListener):\n",
    "    \"\"\" a simple implementation of an automatic search stopper.\n",
    "    \"\"\"\n",
    "    def __init__(self, max_no_improve_time=10.):\n",
    "        super(AutomaticAborter, self).__init__(ProgressClock.All)\n",
    "        self.last_obj = None\n",
    "        self.last_obj_time = None\n",
    "        self.max_no_improve_time = max_no_improve_time\n",
    "        \n",
    "    def notify_start(self):\n",
    "        super(AutomaticAborter, self).notify_start()\n",
    "        self.last_obj = None\n",
    "        self.last_obj_time = None    \n",
    "        \n",
    "    def is_improving(self, new_obj, eps=1e-4):\n",
    "        last_obj = self.last_obj\n",
    "        return last_obj is None or (abs(new_obj- last_obj) >= eps)\n",
    "            \n",
    "    def notify_progress(self, pdata):\n",
    "        super(AutomaticAborter, self).notify_progress(pdata)\n",
    "        if pdata.has_incumbent and self.is_improving(pdata.current_objective):\n",
    "            self.last_obj = pdata.current_objective\n",
    "            self.last_obj_time = pdata.time\n",
    "            print('----> #new objective={0}, time={1}s'.format(self.last_obj, self.last_obj_time))\n",
    "        else:\n",
    "            # a non improving move\n",
    "            last_obj_time = self.last_obj_time\n",
    "            this_time = pdata.time\n",
    "            if last_obj_time is not None:\n",
    "                elapsed = (this_time - last_obj_time)\n",
    "                if elapsed >= self.max_no_improve_time:\n",
    "                    print('!! aborting cplex, elapsed={0} >= max_no_improve: {1}'.format(elapsed,\n",
    "                                                                             self.max_no_improve_time))\n",
    "                    self.abort()\n",
    "                else:\n",
    "                    print('----> non improving time={0}s'.format(elapsed))"
   ]
  },
  {
   "cell_type": "markdown",
   "metadata": {},
   "source": [
    "We demonstrate the aborter on a bigger problem:"
   ]
  },
  {
   "cell_type": "code",
   "execution_count": 14,
   "metadata": {},
   "outputs": [
    {
     "name": "stdout",
     "output_type": "stream",
     "text": [
      "----> #new objective=23.0, time=0.015999999945051968s\n",
      "----> non improving time=0.0s\n",
      "----> non improving time=0.03100000007543713s\n",
      "----> non improving time=0.03100000007543713s\n",
      "----> non improving time=0.03100000007543713s\n",
      "----> non improving time=0.03100000007543713s\n",
      "----> non improving time=0.0470000000204891s\n",
      "----> non improving time=0.0470000000204891s\n",
      "----> non improving time=0.07800000009592623s\n",
      "----> non improving time=0.07800000009592623s\n",
      "----> non improving time=0.0940000000409782s\n",
      "----> non improving time=0.0940000000409782s\n",
      "----> non improving time=0.10900000005494803s\n",
      "----> non improving time=0.10900000005494803s\n",
      "----> #new objective=24.0, time=0.1559999999590218s\n",
      "----> non improving time=0.0s\n",
      "----> non improving time=0.0470000000204891s\n",
      "----> non improving time=0.0470000000204891s\n",
      "----> non improving time=0.1410000000614673s\n",
      "----> non improving time=0.15700000000651926s\n",
      "----> non improving time=0.15700000000651926s\n",
      "----> non improving time=0.15700000000651926s\n",
      "----> non improving time=0.1720000000204891s\n",
      "----> non improving time=0.1880000000819564s\n",
      "----> non improving time=0.1880000000819564s\n",
      "----> non improving time=0.20400000002700835s\n",
      "----> non improving time=0.20400000002700835s\n",
      "----> non improving time=0.2190000000409782s\n",
      "----> non improving time=0.23499999998603016s\n",
      "----> non improving time=0.25s\n",
      "----> non improving time=0.28200000000651926s\n",
      "----> non improving time=0.3130000000819564s\n",
      "----> non improving time=0.3440000000409782s\n",
      "----> non improving time=0.8440000000409782s\n",
      "----> non improving time=0.9220000000204891s\n",
      "----> non improving time=0.9849999999860302s\n",
      "----> non improving time=1.047000000020489s\n",
      "----> non improving time=1.8910000000614673s\n",
      "----> non improving time=1.8910000000614673s\n",
      "----> non improving time=1.922000000020489s\n",
      "----> non improving time=1.9540000000270084s\n",
      "----> non improving time=2.0320000000065193s\n",
      "----> non improving time=2.047000000020489s\n",
      "----> non improving time=2.0630000000819564s\n",
      "----> non improving time=2.094000000040978s\n",
      "----> non improving time=2.125s\n",
      "----> non improving time=2.1570000000065193s\n",
      "----> non improving time=2.2040000000270084s\n",
      "----> non improving time=2.2660000000614673s\n",
      "----> non improving time=2.297000000020489s\n",
      "----> non improving time=2.344000000040978s\n",
      "----> non improving time=2.3910000000614673s\n",
      "----> non improving time=2.4380000000819564s\n",
      "----> non improving time=2.469000000040978s\n",
      "----> non improving time=2.5160000000614673s\n",
      "----> non improving time=2.5630000000819564s\n",
      "----> non improving time=2.60999999998603s\n",
      "----> non improving time=2.672000000020489s\n",
      "----> non improving time=2.719000000040978s\n",
      "----> non improving time=2.7820000000065193s\n",
      "----> non improving time=2.844000000040978s\n",
      "----> non improving time=2.9070000000065193s\n",
      "----> non improving time=2.969000000040978s\n",
      "----> non improving time=3.0320000000065193s\n",
      "----> non improving time=3.094000000040978s\n",
      "----> non improving time=3.172000000020489s\n",
      "----> non improving time=3.25s\n",
      "----> non improving time=3.3290000000270084s\n",
      "----> non improving time=3.422000000020489s\n",
      "----> non improving time=3.5s\n",
      "----> non improving time=3.594000000040978s\n",
      "----> non improving time=3.6880000000819564s\n",
      "----> non improving time=3.797000000020489s\n",
      "----> non improving time=3.9380000000819564s\n",
      "!! aborting cplex, elapsed=4.063000000081956 >= max_no_improve: 4\n",
      "!! aborting cplex, elapsed=4.125 >= max_no_improve: 4\n"
     ]
    }
   ],
   "source": [
    "large_hearts = build_hearts(12)\n",
    "#large_hearts.add_progress_listener(TextProgressListener(clock='gap'))\n",
    "# maximum non-improving time is 4 seconds.\n",
    "large_hearts.add_progress_listener(AutomaticAborter(max_no_improve_time=4))\n",
    "# again use clean_before_solve to ensure deterministic run of this cell.\n",
    "large_hearts.solve(clean_before_solve=True, log_output=False);"
   ]
  },
  {
   "cell_type": "markdown",
   "metadata": {},
   "source": [
    "Though the solve has been aborted, it returned the latest solution,\n",
    "but the status of the solve shows it hhas been aborted."
   ]
  },
  {
   "cell_type": "code",
   "execution_count": 15,
   "metadata": {},
   "outputs": [
    {
     "name": "stdout",
     "output_type": "stream",
     "text": [
      "* solution has objective 24.0\n",
      "* solve status is 'aborted'\n"
     ]
    }
   ],
   "source": [
    "large_s = large_hearts.solution\n",
    "print('* solution has objective {0}'.format(large_s.objective_value))\n",
    "print(\"* solve status is '{}'\".format(large_hearts.solve_details.status))"
   ]
  },
  {
   "cell_type": "raw",
   "metadata": {},
   "source": [
    "### Step 5: Produce advancement charts\n",
    "\n",
    "Progress listeners may also be used to generate visual charts to plot the advancement of the solve.\n",
    "For example, let's assume we want to plot the chart of the gap vs. time.\n",
    "In a first version, we will just print the value of the gap and time.\n",
    "What clock do we listen to? obviously we listen to the `Gap` clock, and do not care for solution values,\n",
    "so we need a sub-class of `ProgressListener`.\n",
    "\n",
    "As this listener has no internal data, there is no need to write a `notify_start` method.\n",
    "\n",
    "The `notify_progress` consist in printing a formatted message with the gap and time.\n",
    "\n",
    "The code is as follows:"
   ]
  },
  {
   "cell_type": "code",
   "execution_count": 16,
   "metadata": {},
   "outputs": [],
   "source": [
    "class MipGapPrinter(ProgressListener):\n",
    "  \n",
    "    def __init__(self):\n",
    "        ProgressListener.__init__(self, ProgressClock.Gap)\n",
    "    \n",
    "    def notify_progress(self, pdata):\n",
    "        gap = pdata.mip_gap\n",
    "        ms_time = 1000* pdata.time\n",
    "        print('-- new gap: {0:.1%}, time: {1:.0f} ms'.format(gap, ms_time))"
   ]
  },
  {
   "cell_type": "code",
   "execution_count": 17,
   "metadata": {},
   "outputs": [
    {
     "name": "stdout",
     "output_type": "stream",
     "text": [
      "-- new gap: 71.4%, time: 15 ms\n",
      "-- new gap: 65.9%, time: 15 ms\n",
      "-- new gap: 62.0%, time: 15 ms\n",
      "-- new gap: 60.6%, time: 15 ms\n",
      "-- new gap: 59.5%, time: 31 ms\n",
      "-- new gap: 58.6%, time: 46 ms\n",
      "-- new gap: 57.8%, time: 46 ms\n",
      "-- new gap: 57.1%, time: 78 ms\n",
      "-- new gap: 56.2%, time: 78 ms\n",
      "-- new gap: 55.4%, time: 93 ms\n"
     ]
    }
   ],
   "source": [
    "m8 = build_hearts(8)\n",
    "m8.add_progress_listener(MipGapPrinter())\n",
    "m8.solve(clean_before_solve=True);"
   ]
  },
  {
   "cell_type": "markdown",
   "metadata": {},
   "source": [
    "### Variant: using matplotlib to plot a chart of gap vs. time\n",
    "\n",
    "In this variant, we use `matplotlib` to chart the evolution of gap over time. The logic of the custom listener is exactly similar to the gap printer, except that we call matplotlib.plot instead of printing a message."
   ]
  },
  {
   "cell_type": "code",
   "execution_count": 18,
   "metadata": {},
   "outputs": [],
   "source": [
    "import matplotlib.pyplot as plt\n",
    "%matplotlib inline\n"
   ]
  },
  {
   "cell_type": "code",
   "execution_count": 19,
   "metadata": {},
   "outputs": [],
   "source": [
    "from docplex.mp.progress import ProgressListener, ProgressClock\n",
    "from IPython import display\n",
    "\n",
    "class MipGapPlotter(ProgressListener):\n",
    "    \n",
    "    def __init__(self):\n",
    "        ProgressListener.__init__(self, ProgressClock.Gap)\n",
    "        plt.ion()\n",
    "        self.fig = plt.figure(figsize=(10,4))\n",
    "        self.ax = self.fig.add_subplot(1,1,1)\n",
    "    \n",
    "    def notify_start(self):\n",
    "        self.times =[]\n",
    "        self.gaps = []\n",
    "        #self.lines, = ax.plot([],[], 'o')\n",
    "        plt.xlabel('time (ms)')\n",
    "        plt.ylabel('gap (%)')\n",
    "        \n",
    "    def notify_progress(self, pdata):\n",
    "        gap = pdata.mip_gap\n",
    "        time = pdata.time\n",
    "        self.times.append(1000* time)\n",
    "        self.gaps.append(100*gap)\n",
    "        plt.plot(self.times, self.gaps, 'go-')\n",
    "        display.display(plt.gcf())\n",
    "        display.clear_output(wait=True)\n"
   ]
  },
  {
   "cell_type": "code",
   "execution_count": 20,
   "metadata": {},
   "outputs": [
    {
     "data": {
      "image/png": "[encoded data removed]",
      "text/plain": [
       "<Figure size 720x288 with 1 Axes>"
      ]
     },
     "metadata": {
      "needs_background": "light"
     },
     "output_type": "display_data"
    }
   ],
   "source": [
    "m9 = build_hearts(9)\n",
    "m9.add_progress_listener(MipGapPlotter())\n",
    "m9.solve(clean_before_solve=True);"
   ]
  },
  {
   "cell_type": "markdown",
   "metadata": {},
   "source": [
    "## Summary\n",
    "\n",
    "\n",
    "You learned how to set up and use the IBM Decision Optimization CPLEX Modeling for Python to formulate a Mathematical Programming model and track its progress."
   ]
  },
  {
   "cell_type": "markdown",
   "metadata": {
    "render": true
   },
   "source": [
    "#### References\n",
    "* [Decision Optimization CPLEX Modeling for Python documentation](http://ibmdecisionoptimization.github.io/docplex-doc/)\n",
    "* [IBM Decision Optimization](https://www.ibm.com/analytics/decision-optimization)\n",
    "* Need help with DOcplex or to report a bug? Please go [here](https://stackoverflow.com/questions/tagged/docplex)\n",
    "* Contact us at `IBM Community <https://ibm.biz/DOcommunity>`__\"\n"
   ]
  },
  {
   "cell_type": "markdown",
   "metadata": {},
   "source": [
    "Copyright &copy; 2017-2022 IBM. Sample Materials."
   ]
  },
  {
   "cell_type": "code",
   "execution_count": null,
   "metadata": {},
   "outputs": [],
   "source": []
  }
 ],
 "metadata": {
  "gist_id": "6011986",
  "kernelspec": {
   "display_name": "Python 3",
   "language": "python",
   "name": "python3"
  },
  "language_info": {
   "codemirror_mode": {
    "name": "ipython",
    "version": 3
   },
   "file_extension": ".py",
   "mimetype": "text/x-python",
   "name": "python",
   "nbconvert_exporter": "python",
   "pygments_lexer": "ipython3",
   "version": "3.7.8"
  }
 },
 "nbformat": 4,
 "nbformat_minor": 1
}
